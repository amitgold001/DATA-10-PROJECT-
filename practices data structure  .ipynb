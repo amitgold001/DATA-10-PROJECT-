{
 "cells": [
  {
   "cell_type": "code",
   "execution_count": 1,
   "id": "4f6f9636-ebc0-44d5-b831-42206167021d",
   "metadata": {},
   "outputs": [
    {
     "name": "stdout",
     "output_type": "stream",
     "text": [
      "Amit kumar\n"
     ]
    }
   ],
   "source": [
    "import numpy as np\n",
    "import pandas as pd\n",
    "# Data \n",
    "print('Amit kumar')"
   ]
  },
  {
   "cell_type": "code",
   "execution_count": 2,
   "id": "f04af06b-44a8-40ad-9ee4-aba240adcbce",
   "metadata": {},
   "outputs": [
    {
     "name": "stdout",
     "output_type": "stream",
     "text": [
      "amit\n"
     ]
    }
   ],
   "source": [
    "print('amit')"
   ]
  },
  {
   "cell_type": "code",
   "execution_count": 3,
   "id": "f4447153-7f1a-4faf-9ec6-275dd88bdcdd",
   "metadata": {},
   "outputs": [
    {
     "name": "stdout",
     "output_type": "stream",
     "text": [
      "Today is Sataurdy\n"
     ]
    }
   ],
   "source": [
    "today = \"Sataurdy\"\n",
    "print(\"Today is\", today)"
   ]
  },
  {
   "cell_type": "code",
   "execution_count": 4,
   "id": "9951f851",
   "metadata": {},
   "outputs": [],
   "source": [
    "def say_hello():\n",
    "    print('Hello there!')\n",
    "    print('How are you?')"
   ]
  },
  {
   "cell_type": "code",
   "execution_count": 5,
   "id": "6e1d7c0a",
   "metadata": {},
   "outputs": [
    {
     "name": "stdout",
     "output_type": "stream",
     "text": [
      "Hello there!\n",
      "How are you?\n"
     ]
    }
   ],
   "source": [
    "say_hello()"
   ]
  },
  {
   "cell_type": "code",
   "execution_count": 6,
   "id": "3209c9ae",
   "metadata": {},
   "outputs": [],
   "source": [
    "def filter_even(number_list):\n",
    "    result_list =[]\n",
    "    for number in number_list:\n",
    "        if number % 2 ==0:\n",
    "            result_list.append(number)\n",
    "    return result_list"
   ]
  },
  {
   "cell_type": "code",
   "execution_count": 7,
   "id": "8d89c783",
   "metadata": {},
   "outputs": [],
   "source": [
    "even_list = filter_even([1,2,3,4,5,6])"
   ]
  },
  {
   "cell_type": "code",
   "execution_count": 8,
   "id": "0ab15e50",
   "metadata": {},
   "outputs": [
    {
     "data": {
      "text/plain": [
       "[2, 4, 6]"
      ]
     },
     "execution_count": 8,
     "metadata": {},
     "output_type": "execute_result"
    }
   ],
   "source": [
    "even_list"
   ]
  },
  {
   "cell_type": "code",
   "execution_count": 9,
   "id": "7ddf2da6",
   "metadata": {},
   "outputs": [],
   "source": [
    "def loan_emi(amount):\n",
    "    emi = amount / 12\n",
    "    print('The EMI is ${}'.format(emi))"
   ]
  },
  {
   "cell_type": "code",
   "execution_count": 10,
   "id": "83b4e1c0",
   "metadata": {},
   "outputs": [
    {
     "name": "stdout",
     "output_type": "stream",
     "text": [
      "The EMI is $105000.0\n"
     ]
    }
   ],
   "source": [
    "loan_emi(1260000)"
   ]
  },
  {
   "cell_type": "code",
   "execution_count": 11,
   "id": "711cb7ed",
   "metadata": {},
   "outputs": [],
   "source": [
    "def loan_emi(amount, duration):\n",
    "    emi = amount / duration\n",
    "    print('The EMI is ${}' .format(emi))"
   ]
  },
  {
   "cell_type": "code",
   "execution_count": 12,
   "id": "15f53107",
   "metadata": {},
   "outputs": [
    {
     "name": "stdout",
     "output_type": "stream",
     "text": [
      "The EMI is $13125.0\n",
      "The EMI is $10500.0\n"
     ]
    }
   ],
   "source": [
    "\n",
    "loan_emi(1260000, 8*12)\n",
    "loan_emi(1260000, 10*12)"
   ]
  },
  {
   "cell_type": "code",
   "execution_count": 13,
   "id": "f71dfdd0",
   "metadata": {},
   "outputs": [],
   "source": [
    "def loan_emi(amount, duration):\n",
    "    emi = amount / duration\n",
    "    return emi"
   ]
  },
  {
   "cell_type": "code",
   "execution_count": 14,
   "id": "55641aac",
   "metadata": {},
   "outputs": [],
   "source": [
    "emi1 = loan_emi(1260000, 8*12)\n",
    "emi2 = loan_emi(1260000, 10*12)"
   ]
  },
  {
   "cell_type": "code",
   "execution_count": 15,
   "id": "6ecc2fdd",
   "metadata": {},
   "outputs": [
    {
     "data": {
      "text/plain": [
       "13125.0"
      ]
     },
     "execution_count": 15,
     "metadata": {},
     "output_type": "execute_result"
    }
   ],
   "source": [
    "emi1"
   ]
  },
  {
   "cell_type": "code",
   "execution_count": 16,
   "id": "14f06c92",
   "metadata": {},
   "outputs": [
    {
     "data": {
      "text/plain": [
       "10500.0"
      ]
     },
     "execution_count": 16,
     "metadata": {},
     "output_type": "execute_result"
    }
   ],
   "source": [
    "emi2"
   ]
  },
  {
   "cell_type": "code",
   "execution_count": 17,
   "id": "9cbe176b",
   "metadata": {},
   "outputs": [],
   "source": [
    "# Optional arguments\n",
    "\n",
    "\n",
    "def loan_emi(amount, duration, down_payment=0):\n",
    "    loan_amount = amount - down_payment\n",
    "    emi = loan_amount / duration\n",
    "    return emi"
   ]
  },
  {
   "cell_type": "markdown",
   "id": "87942dd7",
   "metadata": {},
   "source": [
    "emi1 = loan_emi(1260000, 8*12, 3e5)"
   ]
  },
  {
   "cell_type": "code",
   "execution_count": 18,
   "id": "befeeff9",
   "metadata": {},
   "outputs": [
    {
     "data": {
      "text/plain": [
       "13125.0"
      ]
     },
     "execution_count": 18,
     "metadata": {},
     "output_type": "execute_result"
    }
   ],
   "source": [
    "emi1"
   ]
  },
  {
   "cell_type": "code",
   "execution_count": 19,
   "id": "b1fe2a53",
   "metadata": {},
   "outputs": [],
   "source": [
    "emi2 = loan_emi(1260000, 10*12)"
   ]
  },
  {
   "cell_type": "code",
   "execution_count": 20,
   "id": "3727901f",
   "metadata": {},
   "outputs": [
    {
     "data": {
      "text/plain": [
       "10500.0"
      ]
     },
     "execution_count": 20,
     "metadata": {},
     "output_type": "execute_result"
    }
   ],
   "source": [
    "emi2"
   ]
  },
  {
   "cell_type": "code",
   "execution_count": 21,
   "id": "e867f320",
   "metadata": {},
   "outputs": [],
   "source": [
    "def lone_emi(amount, duration, rate, down_payment=0):\n",
    "    loan_amount = amount - down_payment\n",
    "    emi = loan_amount * rate * ((1+rate)**duration) / (((1+rate)**duration)-1)\n",
    "    \n",
    "    return emi"
   ]
  },
  {
   "cell_type": "code",
   "execution_count": 22,
   "id": "1330f697",
   "metadata": {},
   "outputs": [
    {
     "data": {
      "text/plain": [
       "14567.19753389219"
      ]
     },
     "execution_count": 22,
     "metadata": {},
     "output_type": "execute_result"
    }
   ],
   "source": [
    "lone_emi(1260000, 8*12, 0.1/12, 3e5)"
   ]
  },
  {
   "cell_type": "code",
   "execution_count": 23,
   "id": "6b567548",
   "metadata": {},
   "outputs": [],
   "source": [
    "# while calculating the EMI for option 2, we need not include the down_payment argument."
   ]
  },
  {
   "cell_type": "code",
   "execution_count": 24,
   "id": "e3ccb004",
   "metadata": {},
   "outputs": [
    {
     "data": {
      "text/plain": [
       "15287.276888775077"
      ]
     },
     "execution_count": 24,
     "metadata": {},
     "output_type": "execute_result"
    }
   ],
   "source": [
    "lone_emi(1260000, 10*12, 0.08/12)"
   ]
  },
  {
   "cell_type": "code",
   "execution_count": 25,
   "id": "406d1425",
   "metadata": {},
   "outputs": [
    {
     "ename": "TypeError",
     "evalue": "loan_emi() got an unexpected keyword argument 'rate'",
     "output_type": "error",
     "traceback": [
      "\u001b[1;31m---------------------------------------------------------------------------\u001b[0m",
      "\u001b[1;31mTypeError\u001b[0m                                 Traceback (most recent call last)",
      "\u001b[1;32m<ipython-input-25-c603da7e89a9>\u001b[0m in \u001b[0;36m<module>\u001b[1;34m\u001b[0m\n\u001b[1;32m----> 1\u001b[1;33m emi1 = loan_emi(\n\u001b[0m\u001b[0;32m      2\u001b[0m     \u001b[0mamount\u001b[0m\u001b[1;33m=\u001b[0m\u001b[1;36m1260000\u001b[0m\u001b[1;33m,\u001b[0m\u001b[1;33m\u001b[0m\u001b[1;33m\u001b[0m\u001b[0m\n\u001b[0;32m      3\u001b[0m     \u001b[0mduration\u001b[0m\u001b[1;33m=\u001b[0m\u001b[1;36m8\u001b[0m\u001b[1;33m*\u001b[0m\u001b[1;36m12\u001b[0m\u001b[1;33m,\u001b[0m\u001b[1;33m\u001b[0m\u001b[1;33m\u001b[0m\u001b[0m\n\u001b[0;32m      4\u001b[0m     \u001b[0mrate\u001b[0m\u001b[1;33m=\u001b[0m\u001b[1;36m0.1\u001b[0m\u001b[1;33m/\u001b[0m\u001b[1;36m12\u001b[0m\u001b[1;33m,\u001b[0m\u001b[1;33m\u001b[0m\u001b[1;33m\u001b[0m\u001b[0m\n\u001b[0;32m      5\u001b[0m     \u001b[0mdown_payment\u001b[0m\u001b[1;33m=\u001b[0m\u001b[1;36m3e5\u001b[0m\u001b[1;33m\u001b[0m\u001b[1;33m\u001b[0m\u001b[0m\n",
      "\u001b[1;31mTypeError\u001b[0m: loan_emi() got an unexpected keyword argument 'rate'"
     ]
    }
   ],
   "source": [
    "emi1 = loan_emi(\n",
    "    amount=1260000, \n",
    "    duration=8*12, \n",
    "    rate=0.1/12, \n",
    "    down_payment=3e5\n",
    ")"
   ]
  },
  {
   "cell_type": "code",
   "execution_count": null,
   "id": "0a74b0cb",
   "metadata": {},
   "outputs": [],
   "source": [
    "emi2 = loan_emi(amount=1260000, duration=10*12, rate=0.08/12)"
   ]
  },
  {
   "cell_type": "code",
   "execution_count": null,
   "id": "1c3328a3",
   "metadata": {},
   "outputs": [],
   "source": [
    "import math"
   ]
  },
  {
   "cell_type": "code",
   "execution_count": null,
   "id": "1ddf8c97",
   "metadata": {},
   "outputs": [],
   "source": [
    "help(math.ceil)"
   ]
  },
  {
   "cell_type": "code",
   "execution_count": null,
   "id": "548a8e68",
   "metadata": {},
   "outputs": [],
   "source": [
    "math.ceil(1.2)"
   ]
  },
  {
   "cell_type": "markdown",
   "id": "d408ef2c",
   "metadata": {},
   "source": [
    "Lets now use the math.ceil function within the home_lone_emi function to round up the \n",
    "EMI amount.\n",
    "\n",
    "\n",
    "Using functions to build other functions is a great way to reuse code and implement\n",
    "complex business logic while still keeping the code small, understandable,\n",
    "and manageable.Ideally, a function should do the thing and onething \n",
    "only. if you find yourself writing a function that does too many things, \n",
    "consider spliting it into multiple smaller, independent function As a rule\n",
    "of thumbs, try to limits function to 10 lines\n",
    "of cods or less. good programmers always write short, and redable function. "
   ]
  },
  {
   "cell_type": "code",
   "execution_count": null,
   "id": "57849bda",
   "metadata": {},
   "outputs": [],
   "source": [
    "def lone_emi(amount, duration, rate, down_payment=0):\n",
    "    lone_amount = amount  - down_payment\n",
    "    emi = loan_amount * rate * ((1+rate)**duration) / (((1+rate)**duration)-1)\n",
    "    emi = math.ceil(emi)\n",
    "    return emi"
   ]
  },
  {
   "cell_type": "code",
   "execution_count": null,
   "id": "91fb0f62",
   "metadata": {},
   "outputs": [],
   "source": [
    "\n",
    "emi1 = loan_emi(\n",
    "    amount=1260000, \n",
    "    duration=8*12, \n",
    "    rate=0.1/12, \n",
    "    down_payment=3e5\n",
    ")"
   ]
  },
  {
   "cell_type": "markdown",
   "id": "361b9126",
   "metadata": {},
   "source": [
    "# Reusing and improving functions\n",
    "This question is now straightforword to solve, using the lone-emi \n",
    "function we've alwaredy defiend.\n"
   ]
  },
  {
   "cell_type": "code",
   "execution_count": null,
   "id": "8c9688a1",
   "metadata": {},
   "outputs": [],
   "source": [
    "cost_of_house = 800000\n",
    "home_loan_duration = 6*12 # months\n",
    "home_loan_rate = 0.07/12 # monthly\n",
    "home_down_payment = .25 * 800000\n",
    "\n",
    "emi_house = loan_emi(amount=cost_of_house,\n",
    "                     duration=home_loan_duration,\n",
    "                     rate=home_loan_rate, \n",
    "                     down_payment=home_down_payment)\n",
    "\n",
    "emi_house"
   ]
  },
  {
   "cell_type": "code",
   "execution_count": null,
   "id": "93f2e9ff",
   "metadata": {},
   "outputs": [],
   "source": [
    "coust_of_car = 60000\n",
    "car_lone_duration = 1*12 # months\n",
    "car_lone_rate = .12/12 # monthly\n",
    "\n",
    "emi_car = loan_emi(amount=coust_of_car,\n",
    "                  duration=car_loan_duration,\n",
    "                  rate=car_loan_rate)\n",
    "emi_car"
   ]
  },
  {
   "cell_type": "code",
   "execution_count": null,
   "id": "93a17931",
   "metadata": {},
   "outputs": [],
   "source": [
    "try:\n",
    "    \n",
    "    print('Now computing the result..')\n",
    "    result = 5 / 0\n",
    "    print(\"Computation was completed successfully\")\n",
    "except ZeroDivisionError:\n",
    "    print(\"Failed to compute result because you wear trying to divide by zero\")\n",
    "    result = None\n",
    "    \n",
    "print(result)\n"
   ]
  },
  {
   "cell_type": "code",
   "execution_count": null,
   "id": "a1ebd72b",
   "metadata": {},
   "outputs": [],
   "source": [
    "def loan_emi(amount, duration, rate, down_payment=0):\n",
    "    loan_amount = amount - down_payment\n",
    "    try:\n",
    "        emi = loan_amount * rate * ((1+rate)**duration) / (((1+rate)**duration)-1)\n",
    "    except ZeroDivisionError:\n",
    "        emi = loan_amount / duration\n",
    "    emi = math.ceil(emi)\n",
    "    return emi"
   ]
  },
  {
   "cell_type": "code",
   "execution_count": null,
   "id": "d05dda39",
   "metadata": {},
   "outputs": [],
   "source": [
    "emi_with_interest = loan_emi(amount=100000, duration=10*12, rate=0.09/12)\n",
    "emi_with_interest"
   ]
  },
  {
   "cell_type": "code",
   "execution_count": null,
   "id": "6aa9b570",
   "metadata": {},
   "outputs": [],
   "source": [
    "emi_without_interest = loan_emi(amount=100000, duration=10*12, rate=0)\n",
    "emi_without_interest"
   ]
  },
  {
   "cell_type": "code",
   "execution_count": null,
   "id": "6d1315fe",
   "metadata": {},
   "outputs": [],
   "source": [
    "total_interest = (emi_with_interest - emi_without_interest) * 10*12"
   ]
  },
  {
   "cell_type": "code",
   "execution_count": null,
   "id": "e4b76dae",
   "metadata": {},
   "outputs": [],
   "source": [
    "print(\"The total interest paid is ${}.\".format(total_interest))"
   ]
  },
  {
   "cell_type": "code",
   "execution_count": null,
   "id": "8298ac6a",
   "metadata": {},
   "outputs": [],
   "source": [
    "#Documenting function using Docstrings\n",
    "\n",
    "def loan_emi(amount, duration, rate, down_payment=0):\n",
    "    \"\"\"\"Calculats the equal monthly installment (EMI) for a loan.\n",
    "    \n",
    "    Arguments:\n",
    "         amount - Total amount to be spent (loan + down payment)\n",
    "         duration - Duration of the loan (in months)\n",
    "         rate - Rate of interest (monthly)\n",
    "         down_payment (optional) - Optional intial payment (deducted from amount)\n",
    "       \"\"\"\n",
    "     loan_amount = amount - down_payment\n",
    "     try:\n",
    "        emi = loan_amount * rate * ((1+rate)**duration) / ((1+rate)**duration)-1)\n",
    "     except ZeroDivisionError:\n",
    "        emi = loan_amount / duration\n",
    "    emi = math.ceil(emi)\n",
    "    return emi\n"
   ]
  },
  {
   "cell_type": "code",
   "execution_count": null,
   "id": "837a67f4",
   "metadata": {},
   "outputs": [],
   "source": [
    "# if condition:\n",
    " # statement1\n",
    " # statement2 \n",
    "\n",
    "\n",
    "a_number = 31\n",
    "    \n",
    "    "
   ]
  },
  {
   "cell_type": "code",
   "execution_count": null,
   "id": "bf43a98b",
   "metadata": {},
   "outputs": [],
   "source": [
    "if a_naumber % 2 == 0:\n",
    "    print(\"We're inside an if block\")\n",
    "    print(\"The given number {} is even.\".format(a_number))\n"
   ]
  },
  {
   "cell_type": "code",
   "execution_count": null,
   "id": "85963050",
   "metadata": {},
   "outputs": [],
   "source": [
    "another_number = 33"
   ]
  },
  {
   "cell_type": "code",
   "execution_count": null,
   "id": "ee4b7b42",
   "metadata": {},
   "outputs": [],
   "source": [
    "if anoather_number % 2 == 0:\n",
    "    print('The given number {} is even.'.format(a_number))\n"
   ]
  },
  {
   "cell_type": "markdown",
   "id": "984f3461",
   "metadata": {},
   "source": [
    "if condition:\n",
    "    statement1\n",
    "    statement2\n",
    "else:\n",
    "    statement4\n",
    "    statement5\n",
    "    \n",
    "if condition evaluates to True, the statements in the if block are executed.\n",
    "if it evaluates to False, the statements in the else block are executed."
   ]
  },
  {
   "cell_type": "code",
   "execution_count": null,
   "id": "dedab956",
   "metadata": {},
   "outputs": [],
   "source": [
    "a_number = 34"
   ]
  },
  {
   "cell_type": "code",
   "execution_count": null,
   "id": "6c8933f7",
   "metadata": {},
   "outputs": [],
   "source": [
    "if a_number % 2 == 0:\n",
    "    print('The Given number {} is even.'.format(a_number))\n",
    "else:\n",
    "    print('The Given number {} is odd.'.format(a_number))"
   ]
  },
  {
   "cell_type": "code",
   "execution_count": null,
   "id": "966fcc24",
   "metadata": {},
   "outputs": [],
   "source": [
    "a_number = 44"
   ]
  },
  {
   "cell_type": "code",
   "execution_count": null,
   "id": "a31fdcc1",
   "metadata": {},
   "outputs": [],
   "source": [
    "if a_number % 3 == 0:\n",
    "    print('The Given number {} is even.'.format(a_number))\n",
    "else:\n",
    "    print('The Given number {} is odd.'.format(a_number))"
   ]
  },
  {
   "cell_type": "code",
   "execution_count": null,
   "id": "06a6f6a4",
   "metadata": {},
   "outputs": [],
   "source": [
    "the_3_musketeers = ('Athos', 'Porthos', 'Aramis')"
   ]
  },
  {
   "cell_type": "code",
   "execution_count": null,
   "id": "8a4431b2",
   "metadata": {},
   "outputs": [],
   "source": [
    "a_candidate = \"D'Artagnan\""
   ]
  },
  {
   "cell_type": "code",
   "execution_count": null,
   "id": "b726cb92",
   "metadata": {},
   "outputs": [],
   "source": [
    "if a_candidate in the_3_musketeers:\n",
    "    print(\"{} is a musketeer\".format(a_candidate))\n",
    "else:\n",
    "    print(\"{} is not a musketeer\".format(a_candidate))"
   ]
  },
  {
   "cell_type": "code",
   "execution_count": null,
   "id": "7255ad07",
   "metadata": {},
   "outputs": [],
   "source": [
    "today = 'Wednesday'"
   ]
  },
  {
   "cell_type": "code",
   "execution_count": null,
   "id": "31d3ff32",
   "metadata": {},
   "outputs": [],
   "source": [
    "if today == 'Sunday':\n",
    "    print('Today is the day of the sun.')\n",
    "elif today == 'Monday':\n",
    "    print('Today is the day of the moon.')\n",
    "elif today == 'Tuesday':\n",
    "    print('Today is the day of the Tyr, the god of war.')\n",
    "elif today == 'Wednesday':\n",
    "    print('Today is the day of the sun. the evel of war.')\n",
    "elif today == 'Thuresday':\n",
    "    print('Today is the day of Thor, the god of thunder.')\n",
    "elif today == 'Friday':\n",
    "    print('Today is the day of Frigga, the goddess of beauty.')\n",
    "elif today == 'Saturday':\n",
    "    print('Today is the day of Saturn, the god of fun and featuring.')"
   ]
  },
  {
   "cell_type": "code",
   "execution_count": null,
   "id": "3f59e0e3",
   "metadata": {},
   "outputs": [],
   "source": [
    "i = 1\n",
    "result = 1 \n",
    "\n",
    "while i < 20:\n",
    "    i += 1\n",
    "    if i % 2 == 0:\n",
    "        print('Skipping {}'.format(i))\n",
    "        continue\n",
    "    print('Multiplying with {}'.format(i))\n",
    "    result = result * i\n",
    "    \n",
    "print('i:', i)\n",
    "print('result:',result)"
   ]
  },
  {
   "cell_type": "code",
   "execution_count": null,
   "id": "06f73dd4",
   "metadata": {},
   "outputs": [],
   "source": [
    "i = 1\n",
    "result = 1\n",
    "\n",
    "while i <= 100:\n",
    "    result *=i\n",
    "    if i == 42:\n",
    "        print('Magic number 42 reached! Stopping execution..')\n",
    "        break\n",
    "    i += 1\n",
    "    \n",
    "print('i:', i)\n",
    "print('result:',result)"
   ]
  },
  {
   "cell_type": "code",
   "execution_count": null,
   "id": "2b4fbb15",
   "metadata": {},
   "outputs": [],
   "source": [
    "days = ['Monday', 'Tuesday','Wednesday','Thuresday','Friday']\n",
    "\n",
    "for day in days:\n",
    "    print((day))"
   ]
  },
  {
   "cell_type": "code",
   "execution_count": null,
   "id": "7f2d43de",
   "metadata": {},
   "outputs": [],
   "source": [
    "Name = ['Amit','Harneet','Rashmi','Kumar','Kumar','Lata']\n",
    "\n",
    "for Name in Name:\n",
    "    print((Name))"
   ]
  },
  {
   "cell_type": "code",
   "execution_count": null,
   "id": "b5890ce4",
   "metadata": {},
   "outputs": [],
   "source": [
    "#Looping over a string\n",
    "for char in 'Monday':\n",
    "    print(char)"
   ]
  },
  {
   "cell_type": "code",
   "execution_count": null,
   "id": "1835b2c0",
   "metadata": {},
   "outputs": [],
   "source": [
    "#Looping over a string\n",
    "for char in 'LalalandbooomShanker':\n",
    "    print(chr)"
   ]
  },
  {
   "cell_type": "code",
   "execution_count": null,
   "id": "e06c6a61",
   "metadata": {},
   "outputs": [],
   "source": [
    "#Looping over s truple\n",
    "for fruit in ['Apple','Banana','Guava']:\n",
    "    print(\"Here's s fruit:\",fruit)"
   ]
  },
  {
   "cell_type": "code",
   "execution_count": null,
   "id": "ffcb849e",
   "metadata": {},
   "outputs": [],
   "source": [
    "#Looping in dictionary\n",
    "person = {\n",
    "    'name': 'John Doe',\n",
    "    'sex': 'Male',\n",
    "    'age': 32,\n",
    "    'married': True\n",
    "}\n",
    "\n",
    "for key in person:\n",
    "    print('Key:', key, \",\", \"Value:\", person[key])"
   ]
  },
  {
   "cell_type": "code",
   "execution_count": null,
   "id": "c731458c",
   "metadata": {},
   "outputs": [],
   "source": [
    "for value in person.values():\n",
    "    print(value)"
   ]
  },
  {
   "cell_type": "code",
   "execution_count": null,
   "id": "daefddc3",
   "metadata": {},
   "outputs": [],
   "source": [
    "for value in person.values():\n",
    "    print(value)"
   ]
  },
  {
   "cell_type": "code",
   "execution_count": null,
   "id": "713b2a07",
   "metadata": {},
   "outputs": [],
   "source": [
    "for kay, value in person.items():\n",
    "    print(\"key:\",key,\",\",\"value\",value)"
   ]
  },
  {
   "cell_type": "code",
   "execution_count": null,
   "id": "1d39410e",
   "metadata": {},
   "outputs": [],
   "source": [
    "for i in range(7):\n",
    "    print(i)"
   ]
  },
  {
   "cell_type": "code",
   "execution_count": null,
   "id": "93cc4382",
   "metadata": {},
   "outputs": [],
   "source": [
    "for i in range(10):\n",
    "    print(i)"
   ]
  },
  {
   "cell_type": "code",
   "execution_count": null,
   "id": "ba1d5c2c",
   "metadata": {},
   "outputs": [],
   "source": [
    "for i in range(3, 10):\n",
    "    print(i)"
   ]
  },
  {
   "cell_type": "code",
   "execution_count": null,
   "id": "a15a6ffd",
   "metadata": {},
   "outputs": [],
   "source": [
    "for i in range(3, 14, 5):\n",
    "    print(i)"
   ]
  },
  {
   "cell_type": "markdown",
   "id": "9cdbaa0a",
   "metadata": {},
   "source": [
    "Range are using iterating over list when you need to track the index of elements while\n",
    "iterting."
   ]
  },
  {
   "cell_type": "code",
   "execution_count": null,
   "id": "24b4a52f",
   "metadata": {},
   "outputs": [],
   "source": [
    "a_list =['Monday','Tuesday','Wednesday','Thuresday','Friday']\n",
    "\n",
    "for i in range(len(a_list)):\n",
    "    print('The value at position {} is {}.'.format(i, a_list[i]))"
   ]
  },
  {
   "cell_type": "markdown",
   "id": "3e6275b8",
   "metadata": {},
   "source": [
    "Another way to achieve the same rasult is by using the enumerate function\n",
    "with a_list as an input, which result a truple containing the index and the cooresponding element."
   ]
  },
  {
   "cell_type": "code",
   "execution_count": null,
   "id": "0909743a",
   "metadata": {},
   "outputs": [],
   "source": [
    "for i, val in enumerate(a_list):\n",
    "    print('The value at position {} is {}.'.format(i, val))"
   ]
  },
  {
   "cell_type": "code",
   "execution_count": null,
   "id": "104aeb2e",
   "metadata": {},
   "outputs": [],
   "source": [
    "#Break, continue and pass statements\n",
    "weekdays = ['Monday','Tuesday','Wednesday','Thuresday','Friday']"
   ]
  },
  {
   "cell_type": "code",
   "execution_count": null,
   "id": "4d33e1c7",
   "metadata": {},
   "outputs": [],
   "source": [
    "for day in weekdays:\n",
    "    print('Today is {}'.format(day))\n",
    "    if (day == 'Wednesday'):\n",
    "        print(\"I don't worke beyound Wednesday!\")\n",
    "        break\n",
    "    "
   ]
  },
  {
   "cell_type": "code",
   "execution_count": null,
   "id": "edf4f1a9",
   "metadata": {},
   "outputs": [],
   "source": [
    "for day in weekdays:\n",
    "    if (day == 'wednesday'):\n",
    "        print(\"I don't work on wednesay!\")\n",
    "        continue\n",
    "    print(\"Today is {}\". format(day))"
   ]
  },
  {
   "cell_type": "code",
   "execution_count": null,
   "id": "894facd6",
   "metadata": {},
   "outputs": [],
   "source": [
    "for day in weekdays:\n",
    "    pass"
   ]
  },
  {
   "cell_type": "markdown",
   "id": "a442ceee",
   "metadata": {},
   "source": [
    "#Nested for and while loops\n",
    "similar to conditional statement, loops can be nested other looping. \n",
    "This is useful for looping list of lists, dictionaries etc."
   ]
  },
  {
   "cell_type": "code",
   "execution_count": null,
   "id": "a69bc76d",
   "metadata": {},
   "outputs": [],
   "source": [
    "persons = [{'name':'John','sex':'Male'}, {'name':'Jane','sex':'Female'}]\n",
    "\n",
    "for person in persons:\n",
    "    for key in person:\n",
    "        print(key, \":\" , person[key])\n",
    "        print(\" \")"
   ]
  },
  {
   "cell_type": "code",
   "execution_count": null,
   "id": "b52fce4c",
   "metadata": {},
   "outputs": [],
   "source": [
    "person = [{'name':'amit','sex':'Male'},{'name':'Dr','sex':'Femal'}]\n",
    "\n",
    "for person in persons:\n",
    "    for key in person:\n",
    "        print(key, \":\" , person[key])\n",
    "        print(\" \")"
   ]
  },
  {
   "cell_type": "code",
   "execution_count": null,
   "id": "a6aa0dd1",
   "metadata": {},
   "outputs": [],
   "source": [
    "days = ['Monday','Tuesday','Wednesday']\n",
    "fruits = ['apple','banana','guava']\n",
    "\n",
    "for day in days:\n",
    "    for fruits in fruits:\n",
    "        print(day, fruits)"
   ]
  },
  {
   "cell_type": "code",
   "execution_count": null,
   "id": "bdcae25a",
   "metadata": {},
   "outputs": [],
   "source": [
    "cost_of_flying_plane = 5000\n",
    "number_of_passengers = 29\n",
    "price_of_ticket = 200\n",
    "profit = [200*29-5000]\n",
    "print('The company makes of a profit of {} dollars'.format(profit))"
   ]
  },
  {
   "cell_type": "code",
   "execution_count": null,
   "id": "e8c6c387",
   "metadata": {},
   "outputs": [],
   "source": [
    "# this is optional.\n",
    "return_flight = (12*200-800)\n",
    "\n",
    "if :\n",
    "    print('The company makes an overall profit of {} dollars'.format(return_flight))\n",
    "else:\n",
    "    print('The company makes an overall loss of {} dollars'.format(overall_loss))\n",
    "    "
   ]
  },
  {
   "cell_type": "code",
   "execution_count": null,
   "id": "bfb33a2f",
   "metadata": {},
   "outputs": [],
   "source": [
    "import numpy as np\n",
    "print(np.array([[[\n",
    "    [[11, 12, 13], \n",
    "     [13, 14, 15]], \n",
    "    [[15, 16, 17], \n",
    "     [17, 18, 19.5]]]\n",
    "    ]]).ndim)"
   ]
  },
  {
   "cell_type": "code",
   "execution_count": null,
   "id": "b4ed9a7a",
   "metadata": {},
   "outputs": [],
   "source": [
    "arr1 = np.array([[0, 1, 2],\n",
    "                 [3, 4, 5]])\n",
    "arr2 = np.array([[6, 7, 8],\n",
    "                 [9, 10, 11]])\n",
    "print(np.concatenate((arr1, arr2), axis=1))"
   ]
  },
  {
   "cell_type": "code",
   "execution_count": null,
   "id": "1e8c481e",
   "metadata": {},
   "outputs": [],
   "source": [
    "arr2 = np.array([[1, 4, 7, 8], \n",
    "                 [2, 5, 8, 7], \n",
    "                 [3, 6, 9, 1]])\n",
    "arr1 = np.array([3, 2, 5, 1])\n",
    "print(arr1 + arr2)"
   ]
  },
  {
   "cell_type": "code",
   "execution_count": null,
   "id": "c3ddc4f5",
   "metadata": {},
   "outputs": [],
   "source": [
    "arr3 = np.array([\n",
    "    [[11, 12, 8, 19], \n",
    "     [13, 21, 4, 19]], \n",
    "    \n",
    "    [[5, 1, 7, 21], \n",
    "     [13, 9, 6, 1]], \n",
    "    \n",
    "    [[9, 32, 18, -5],      \n",
    "     [15, 25, 11, -6]]])\n",
    "print(arr3[:2, 1].sum())"
   ]
  },
  {
   "cell_type": "code",
   "execution_count": null,
   "id": "175e475d",
   "metadata": {},
   "outputs": [],
   "source": [
    "arr1 = np.array([[1, 2, 3], [3, 4, 7]])\n",
    "arr2 = np.array([[2, 2, 3], [1, 2, 9]])\n",
    "print(((arr1 >= arr2) - 1).astype(\"bool\").sum())\n"
   ]
  },
  {
   "cell_type": "code",
   "execution_count": null,
   "id": "d3e539f0",
   "metadata": {},
   "outputs": [],
   "source": [
    "arr = np.arange(100)\n",
    "arr1 = arr.reshape(2, 5, 2, -1)\n",
    "print(sum(list(arr1.shape)))"
   ]
  },
  {
   "cell_type": "code",
   "execution_count": null,
   "id": "e311f8b0",
   "metadata": {},
   "outputs": [],
   "source": [
    "arr = np.array([0, 3, 5, 7, 8, 12, 9, 32, 157, 33])\n",
    "print(sum(arr % 2 == 0) + sum(arr[arr%3 == 0]))"
   ]
  },
  {
   "cell_type": "code",
   "execution_count": null,
   "id": "d09084bc",
   "metadata": {},
   "outputs": [],
   "source": [
    "arr = np.arange(9).reshape(3, 3)\n",
    "arr2 = arr[[1, 0, 2], :] @ arr[:, [1, 0, 2]]"
   ]
  },
  {
   "cell_type": "code",
   "execution_count": null,
   "id": "aeff89b4",
   "metadata": {},
   "outputs": [],
   "source": [
    "a = np.array([[0, 1, 2, 3, 4],\n",
    "              [5, 6, 7, 8, 9],\n",
    "              [1, 1, 1, 1, 1],\n",
    "              [3, 9, 5, 7, 8]])\n",
    "print(*a[(a[:, 2]>2) & (a[:, 0]>4)][0], sep=\", \")"
   ]
  },
  {
   "cell_type": "code",
   "execution_count": null,
   "id": "78c3d8de",
   "metadata": {},
   "outputs": [],
   "source": [
    "\n",
    "\n",
    "# import libraries \n",
    "import numpy as np \n",
    "import pandas as pd\n",
    "import matplotlib as plt\n",
    "import matplotlib.pyplot as plt\n",
    "import seaborn as sns\n"
   ]
  },
  {
   "cell_type": "code",
   "execution_count": null,
   "id": "e66c10ad",
   "metadata": {},
   "outputs": [],
   "source": [
    "# counfusing styles\n",
    "sns.set_style('darkgrid')\n",
    "matplotlib.rcParams['font.size'] = 14\n",
    "matplotlib.rcParams['figure.figsize'] = (9 , 5)\n",
    "matplotlib.reParams['figure.facecolor'] = '#0000000'"
   ]
  },
  {
   "cell_type": "code",
   "execution_count": null,
   "id": "adce52ee",
   "metadata": {},
   "outputs": [],
   "source": [
    "# Sample data\n",
    "years = range(2000, 2012)\n",
    "apples = [0.895, 0.91, 0.919, 0.926, 0.929, 0.931, 0.934, 0.936, 0.937, 0.9375, 0.9372, 0.939]\n",
    "oranges = [0.962, 0.941, 0.930, 0.923, 0.918, 0.908, 0.907, 0.904, 0.901, 0.898, 0.9, 0.896, ]\n",
    "\n",
    "# First line\n",
    "plt.plot(years, apples, 'b-x', linewidth=4, markersize=12, markeredgewidth=4, markeredgecolor='navy')\n",
    "\n",
    "# Second line\n",
    "plt.plot(years, oranges, 'r--o', linewidth=4, markersize=12,);\n",
    "\n",
    "# Title\n",
    "plt.title('Crop Yields in Hoenn Region')\n",
    "\n",
    "# Line labels\n",
    "plt.legend(['Apples', 'Oranges'])\n",
    "\n",
    "# Axis labels\n",
    "plt.xlabel('Year'); plt.ylabel('Yield (tons)');"
   ]
  },
  {
   "cell_type": "code",
   "execution_count": null,
   "id": "9ea72d48",
   "metadata": {},
   "outputs": [],
   "source": [
    "# Load data into a pandas dataframe\n",
    "data = sns.load_dataset(\"iris\")\n",
    "\n",
    "# view the data\n",
    "data.sample(5)"
   ]
  },
  {
   "cell_type": "code",
   "execution_count": null,
   "id": "3a6ab0fc",
   "metadata": {},
   "outputs": [],
   "source": [
    "# create a scatter plot\n",
    "sns.scatterplot(data.sepal_length, # X-axis\n",
    "              data.sepal_width,  #  Y-axis\n",
    "              hue=data.species, # Dot color\n",
    "                s= 100);\n",
    "\n",
    "# Chart title\n",
    "plt.title(\"Flowers\")\n",
    "    "
   ]
  },
  {
   "cell_type": "markdown",
   "id": "9e1930c2",
   "metadata": {},
   "source": [
    " Here's a pytin list showing the yield of appies(tone per hectare) over six year in an imaginary\n",
    "country called kento.\n",
    "\n"
   ]
  },
  {
   "cell_type": "code",
   "execution_count": null,
   "id": "6d80f779",
   "metadata": {},
   "outputs": [],
   "source": [
    "yield_apple = [0.895, 0.91, 0.919, 0.929, 0.931]"
   ]
  },
  {
   "cell_type": "markdown",
   "id": "8e17aa4c",
   "metadata": {},
   "source": [
    "We can visulize how yield of apple changes over time using a line chart.\n",
    "To draw a line chart, we can use the plt.plot function."
   ]
  },
  {
   "cell_type": "code",
   "execution_count": null,
   "id": "6dadc722",
   "metadata": {},
   "outputs": [],
   "source": [
    "plt.plot(yield_apple);"
   ]
  },
  {
   "cell_type": "code",
   "execution_count": null,
   "id": "0678534c",
   "metadata": {},
   "outputs": [],
   "source": [
    "yield_mangow = [0.864, 0.614, 0.12, 1.20]\n",
    "years = [2004, 2011, 2013, 2010]\n",
    "plt.plot(years, yield_mangow)\n",
    "plt.plot(yield_mangow);"
   ]
  },
  {
   "cell_type": "code",
   "execution_count": null,
   "id": "d9d601d9",
   "metadata": {},
   "outputs": [],
   "source": [
    "years = [2010, 2011, 2012, 2013, 2014, 2015]\n",
    "yield_apples = [0.895, 0.91, 0.919, 0.926, 0.931, 0.929]\n",
    "plt.plot(years, yield_apples)"
   ]
  },
  {
   "cell_type": "markdown",
   "id": "04cbde97",
   "metadata": {},
   "source": [
    "We can labels to the axes to show what each axis represents using the plt.xlable and plt.plot methors."
   ]
  },
  {
   "cell_type": "code",
   "execution_count": null,
   "id": "b0c3ba25",
   "metadata": {},
   "outputs": [],
   "source": [
    "years = range(2000, 2012)\n",
    "apples = [0.895, 0.91, 0.919, 0.926, 0.929, 0.931, 0.934, 0.936, 0.937, 0.9375, 0.9372, 0.939 ]\n",
    "orange = [0.962, 0.941, 0.930, 0.923, 0.918, 0.908, 0.907, 0.904, 0.901, 0.898, 0.9, 0.896, ]\n",
    "\n",
    "plt.plot(years, apples)\n",
    "plt.plot(years, oranges)\n",
    "plt.xlabel('year')\n",
    "plt.ylabel('yield (tons per hectare)');"
   ]
  },
  {
   "cell_type": "markdown",
   "id": "412eb332",
   "metadata": {},
   "source": [
    "# Chart Title  and Legend \n",
    "To different between multiple line, we can include a lengend within  the \n",
    "graph using the plt.legend fuction. We can also set a title for the chart using the plt.title function."
   ]
  },
  {
   "cell_type": "code",
   "execution_count": null,
   "id": "de2c15d0",
   "metadata": {},
   "outputs": [],
   "source": [
    "plt.plot(years, apples)\n",
    "plt.plot(years, orange)\n",
    "\n",
    "plt.xlabel('year')\n",
    "plt.ylabel('yield (tons per hectare)')\n",
    "\n",
    "plt.title('crop yield in kento')\n",
    "plt.legend(['Apples', 'Oranges']);"
   ]
  },
  {
   "cell_type": "markdown",
   "id": "0885c23a",
   "metadata": {},
   "source": [
    "We'll reate a line chart to compare the yields of apples and orange over 12 years \n",
    "int the imaginary regine of Hoenn."
   ]
  },
  {
   "cell_type": "code",
   "execution_count": null,
   "id": "8d121abb",
   "metadata": {},
   "outputs": [],
   "source": [
    "#simple data \n",
    "years = range(2000, 2012)\n",
    "apples = [0.895, 0.91, 0.919, 0.926, 0.929, 0.931, 0.934, 0.936, 0.937, 0.9375, 0.9372, 0.939]\n",
    "orange = [0.962, 0.941, 0.930, 0.923, 0.918, 0.908, 0.907, 0.904, 0.901, 0.898, 0.9, 0.896,]\n",
    "\n",
    "# First line\n",
    "plt.plot(years, apples, 'b-x', linewidth=4, markersize=12, markeredgewidth=4, markeredgecolor='navy')\n",
    "\n",
    "# secound line\n",
    "plt.plot(years, oranges, 'r--o', linewidth=4, markersize=12,);\n",
    "\n",
    "# Title\n",
    "plt.title('Crop Yields in Hoenn Regine')\n",
    "\n",
    "# Line labels\n",
    "plt.legend(['Apples', 'Oranges'])\n",
    "\n",
    "#Axis labels\n",
    "plt.xlabel('year');plt.ylabel('yield (tons)');"
   ]
  },
  {
   "cell_type": "code",
   "execution_count": null,
   "id": "90a6d007",
   "metadata": {},
   "outputs": [],
   "source": [
    "# Load data into a pandas dataframe\n",
    "\n",
    "flowers_df = sns.load_dataset('iris')\n",
    "flowers_df.sepal_width"
   ]
  },
  {
   "cell_type": "code",
   "execution_count": null,
   "id": "b3585554",
   "metadata": {},
   "outputs": [],
   "source": [
    "plt.title(\"Distribution of Sepal Width\")\n",
    "plt.hist(flowers_df.sepal_width);"
   ]
  },
  {
   "cell_type": "code",
   "execution_count": null,
   "id": "58933064",
   "metadata": {},
   "outputs": [],
   "source": [
    "# Specifying the number of bins\n",
    "plt.hist(flowers_df.sepal_width, bins=5);"
   ]
  },
  {
   "cell_type": "code",
   "execution_count": null,
   "id": "e4b16db4",
   "metadata": {},
   "outputs": [],
   "source": [
    "import numpy as np\n",
    "\n",
    "#Specifying the boundaries of each bin\n",
    "plt.hist(flowers_df.sepal_width, bins=np.arange(2, 5, 0.25));"
   ]
  },
  {
   "cell_type": "code",
   "execution_count": null,
   "id": "662b0720",
   "metadata": {},
   "outputs": [],
   "source": [
    "# Bins of uniqual sizes\n",
    "plt.hist(flowers_df.sepal_width, bins=[1, 3, 4, 4.5]);"
   ]
  },
  {
   "cell_type": "code",
   "execution_count": null,
   "id": "a0455b29",
   "metadata": {
    "scrolled": true
   },
   "outputs": [],
   "source": [
    "# let's drow sepatric histrogram for each species of flowers.\n",
    "plt.title(\"Distribution of Sepal Width\")\n",
    "\n",
    "sns.distplot(data.sepal_width, kde=False);"
   ]
  },
  {
   "cell_type": "markdown",
   "id": "81c8f532",
   "metadata": {},
   "source": [
    " We can immediately see the value of special width fall in the range \n",
    "2.0 - 4.5 and around 35 values are in the range 2.9- 3.1 . We can look \n",
    "at this is a frquentliy diatribution, where the values on Y-axis are percenatagess instead of counts."
   ]
  },
  {
   "cell_type": "code",
   "execution_count": null,
   "id": "a58fa8e8",
   "metadata": {},
   "outputs": [],
   "source": [
    "plt.title(\"Distribution of Sepal Width\")\n",
    "\n",
    "sns.displot(data.sepal_width);"
   ]
  },
  {
   "cell_type": "markdown",
   "id": "c59a4aa3",
   "metadata": {},
   "source": [
    "Hitmape \n",
    "A heatmap is used to visualalize 2- dimansion from Seaborn, calling \"figures\", ti visualize monthly passenger\n",
    "footfall at an airport over 12 year. "
   ]
  },
  {
   "cell_type": "code",
   "execution_count": null,
   "id": "ddc12d8d",
   "metadata": {},
   "outputs": [],
   "source": [
    "# Load the example flights dataset as a matrix\n",
    "flights = sns.load_dataset(\"flights\").pivot(\"month\", \"year\", \"passengers\")\n",
    "\n",
    "# Chart Title\n",
    "plt.title(\"No. of Passengers (1000s)\")\n",
    "\n",
    "# Draw a heatmap with the numeric values in each cell\n",
    "sns.heatmap(flights, \n",
    "            fmt=\"d\", \n",
    "            annot=True, \n",
    "            linewidths=.5, \n",
    "            cmap='Blues',\n",
    "            annot_kws={\"fontsize\":13});"
   ]
  },
  {
   "cell_type": "markdown",
   "id": "1769f6ee",
   "metadata": {},
   "source": [
    " We can visulize the values of sepal width & sepal length from the flowers \n",
    "dataseat using a contur plot. The shade of blue represented the density of vaues in a regine of the grapth.\n"
   ]
  },
  {
   "cell_type": "markdown",
   "id": "17fab1f8",
   "metadata": {},
   "source": [
    "# Downloading the csv manually and upload it via jupyter. \n"
   ]
  },
  {
   "cell_type": "code",
   "execution_count": null,
   "id": "4e0af100",
   "metadata": {
    "scrolled": true
   },
   "outputs": [],
   "source": [
    "import os\n",
    "os.listdir(\"stackoverflow-developer-survey-2020\")"
   ]
  },
  {
   "cell_type": "code",
   "execution_count": null,
   "id": "b050927f",
   "metadata": {},
   "outputs": [],
   "source": [
    "# How to Drope rows in DataFrame by conditions on column values?\n",
    "# importing data from library.\n",
    "import pandas as pd\n",
    "\n",
    "# Dictionary with list object in values.\n",
    "\n",
    "details = {\n",
    "     'Name' : ['Amit','Soni','Rashmi','Harneet'],\n",
    "      \n",
    "      'Age' : [27, 28, 29, 30],\n",
    "      'Univercity' : ['BHU', 'JNU' ,'KUK','MMU'],\n",
    "      \n",
    "}\n",
    "\n",
    "\n",
    "# creating data frame object\n",
    "df = pd.DataFrame(details, columns =['Name','Age','Univercity'],\n",
    "                 index = ['a','b','c','d'])\n",
    "df"
   ]
  },
  {
   "cell_type": "code",
   "execution_count": null,
   "id": "0ec3e3ba",
   "metadata": {},
   "outputs": [],
   "source": [
    "# Delete rows based on condition on column.\n",
    "#import pandas library.\n",
    "import pandas as pd\n",
    "\n",
    "# dictionary with list objects in values.\n",
    "\n",
    "details = {\n",
    "    'Name': ['Amit','Soni','Rashmi','Harneet'],\n",
    "    'Age' : [23, 21, 23, 24],\n",
    "    'Univercity' : ['BGU','MMU','KUK','JNU'],\n",
    "    \n",
    "}\n",
    " #creating a dataFrame objects\n",
    "df = pd.DataFrame(details, columns = ['Name','Age','Univercity'],\n",
    "                 index = ['A','B','C','D'])\n",
    "\n",
    "# geting values name wich coloums Name-Names values is 21\n",
    "\n",
    "index_names = df[df['Age'] == 21 ].index\n",
    "\n",
    "# drop these rows indexes\n",
    "# from dataFrame\n",
    "df.drop(index_names, inplace = True)\n",
    "\n",
    "df"
   ]
  },
  {
   "cell_type": "code",
   "execution_count": null,
   "id": "a8c7db15",
   "metadata": {},
   "outputs": [],
   "source": [
    "# import pandas library\n",
    "import pandas as pd\n",
    "  \n",
    "# dictionary with list object in values\n",
    "details = {\n",
    "    'Name' : ['Ankit', 'Aishwarya', 'Shaurya', \n",
    "              'Shivangi', 'Priya', 'Swapnil'],\n",
    "    'Age' : [23, 21, 22, 21, 24, 25],\n",
    "    'University' : ['BHU', 'JNU', 'DU', 'BHU',\n",
    "                    'Geu', 'Geu'],\n",
    "}\n",
    "  \n",
    "# creating a Dataframe object \n",
    "df = pd.DataFrame(details, columns = ['Name', 'Age',\n",
    "                                      'University'],\n",
    "                  index = ['a', 'b', 'c', 'd', 'e', 'f'])\n",
    "  \n",
    "# get names of indexes for which column Age has value >= 21\n",
    "# and <= 23\n",
    "index_names = df[ (df['Age'] >= 21) & (df['Age'] <= 23)].index\n",
    "  \n",
    "# drop these given row\n",
    "# indexes from dataFrame\n",
    "df.drop(index_names, inplace = True)\n",
    "  \n",
    "df"
   ]
  },
  {
   "cell_type": "code",
   "execution_count": null,
   "id": "16eb4eb4",
   "metadata": {},
   "outputs": [],
   "source": [
    "# import pandas as pd \n",
    "import pandas as pd\n",
    "\n",
    "# Dictionary with list object in values \n",
    "\n",
    "details = {\n",
    "    'Name' : ['Ankit', 'Aishwarya', 'Shaurya'],\n",
    "    'Age' : [23, 21, 23],\n",
    "    \n",
    "    'Univercity' : ['BHU', 'JNU', 'DU'],\n",
    "}\n",
    "# createing a DataFrame object\n",
    "\n",
    "df = pd.DataFrame(details, columns = ['Name', 'Age','Univercity'],\n",
    "                 index = ['a','b','c'])\n",
    "\n",
    "# get names of indexes for which\n",
    "# columns Age has values >= 21\n",
    "# and columns University is BHU \n",
    "\n",
    "index_names = df[(df['Age'] >= 21) & (df['Univercity'] == 'BHU')].index\n",
    "index_names = df[(df['Age'] >=23) & (df['Univercity'] == 'DU')].index\n",
    "index_names = df[(df['Age'] >=)]\n",
    "#drop these  given row\n",
    "# indexes from dataFrame.\n",
    "\n",
    "df.drop(index_names, inplace = True)\n",
    "\n",
    "df"
   ]
  },
  {
   "cell_type": "code",
   "execution_count": null,
   "id": "3a882bfc",
   "metadata": {},
   "outputs": [],
   "source": [
    "# set the background to be white:\n",
    "\n",
    "import seaborn as sns\n",
    "import matplotlib.pyplot as plt\n",
    "\n",
    "#loading the  tips datasets present by default in seaborn\n",
    "\n",
    "tips = sns.load_dataset('tips')\n",
    "sns.set_style('white')\n",
    "\n",
    "# make a countplot.\n",
    "sns.countplot(x ='sex', data = tips)"
   ]
  },
  {
   "cell_type": "code",
   "execution_count": null,
   "id": "71949b66",
   "metadata": {},
   "outputs": [],
   "source": [
    "import seaborn as sns\n",
    "import matplotlib.pyplot as plt\n",
    "\n",
    "tips = sns.load_dataset('tips')\n",
    "sns.set_style('ticks')\n",
    "sns.countplot(x ='sex', data=tips, palette='deep')"
   ]
  },
  {
   "cell_type": "code",
   "execution_count": null,
   "id": "7368178c",
   "metadata": {},
   "outputs": [],
   "source": [
    "#Set the background to darkgrid:\n",
    "\n",
    "import seaborn as sns \n",
    "import matplotlib.pyplot as plt\n",
    "\n",
    "#load the tips datasets present by default in seaborn \n",
    "tips = sns.load_dataset('tips')\n",
    "sns.set_style('darkgrid')\n",
    "\n",
    "# mak a countplot\n",
    "sns.countplot(x ='sex', data= tips)"
   ]
  },
  {
   "cell_type": "code",
   "execution_count": null,
   "id": "524609b9",
   "metadata": {},
   "outputs": [],
   "source": [
    "# biground may taken whitegrid\n",
    "\n",
    "import seaborn as sns\n",
    "import matplotlib.pyplot as plt\n",
    "\n",
    "# load the tips datasets present by default in seaborn\n",
    "tips = sns.load_dataset('tips')\n",
    "sns.set_style('whitegrid')\n",
    "\n",
    "# make a countplot\n",
    "sns.countplot(x = 'sex',data= tips)"
   ]
  },
  {
   "cell_type": "code",
   "execution_count": null,
   "id": "4a13d733",
   "metadata": {},
   "outputs": [],
   "source": [
    "# Removing Axes Spines \n",
    "\n",
    "# The despine() is a function that removes the spines from the \n",
    "# Right and upper portion of the plot by defsult. sun.despine(left=\n",
    "# helping remove the spine from the left.\n",
    "\n",
    "import seaborn as sns\n",
    "import matplotlib.pyplot as pt\n",
    "\n",
    "tips = sns.load_dataset('tips')\n",
    "sns.countplot(x = 'sex', data = tips)\n",
    "sns.despine()\n",
    "\n",
    " "
   ]
  },
  {
   "cell_type": "markdown",
   "id": "91da5571",
   "metadata": {},
   "source": [
    "#  Size and aspect \n",
    "Non grid plot: The figure()is a matplotlib function used to plot the \n",
    "    figures. The figure is used to set the size of the figure."
   ]
  },
  {
   "cell_type": "code",
   "execution_count": null,
   "id": "c46a0370",
   "metadata": {},
   "outputs": [],
   "source": [
    "import seaborn as sns\n",
    "\n",
    "import matplotlib.pyplot as plt\n",
    "\n",
    "tips = sns.load_dataset('tips')\n",
    "plt.figure(figsize =(12,3))\n",
    "\n",
    "sns.countplot(x ='sex', data = tips)"
   ]
  },
  {
   "cell_type": "code",
   "execution_count": null,
   "id": "91a593a6",
   "metadata": {
    "scrolled": true
   },
   "outputs": [],
   "source": [
    "import seaborn as sns\n",
    "import matplotlib.pyplot as plt\n",
    "\n",
    "tips = sns.load_dataset('tips')\n",
    "sns.lmplot(x ='total_bill',y ='tip',size = 2, aspect = 4,data = tips);"
   ]
  },
  {
   "cell_type": "markdown",
   "id": "de9d3bcc",
   "metadata": {},
   "source": [
    "# Scaler and Context\n",
    "The set_context() allows us to override default parameters. This \n",
    "affects thing like the size of the labels, and other elements of the plot, but not the overall style.\n",
    "\n",
    "The countex are:\n",
    ". poster\n",
    ". paper\n",
    ". notebook\n",
    ". talk\n",
    "\n",
    "Example 1: using poster.\n",
    "\n",
    "\n"
   ]
  },
  {
   "cell_type": "code",
   "execution_count": null,
   "id": "763a93ea",
   "metadata": {},
   "outputs": [],
   "source": [
    "import seaborn as sns \n",
    "import matplotlib.pyplot as plt\n",
    "\n",
    "tips = sns.load_dataset('tips')\n",
    "sns.set_context('poster', font_scale = 2)\n",
    "sns.countplot(x ='sex', data=tips, palette='coolwarm')"
   ]
  },
  {
   "cell_type": "code",
   "execution_count": null,
   "id": "eed4ea3a",
   "metadata": {},
   "outputs": [],
   "source": [
    "# Using paper.\n",
    "\n",
    "import seaborn as sns\n",
    "import matplotlib.pyplot as plt\n",
    "\n",
    "tips = sns.load_dataset('tips')\n",
    "sns.set_context('paper',font_scale = 2)\n",
    "sns.countplot(x ='sex',data = tips, palette = 'coolwarm')"
   ]
  },
  {
   "cell_type": "code",
   "execution_count": null,
   "id": "562833df",
   "metadata": {},
   "outputs": [],
   "source": [
    "# Using notebook.\n",
    "\n",
    "import seaborn as sns\n",
    "import matplotlib.pyplot as plt\n",
    "\n",
    "\n",
    "tips = sns.load_dataset('tips')\n",
    "sns.set_context('notebook', font_scale = 3)\n",
    "sns.countplot(x ='sex', data = tips, palette = 'coolwarm')"
   ]
  },
  {
   "cell_type": "code",
   "execution_count": null,
   "id": "3439e93e",
   "metadata": {},
   "outputs": [],
   "source": [
    "# Below is the implacementation of above method:\n",
    "\n",
    "# importing packages\n",
    "import seaborn \n",
    "import matplotlib.pyplot as plt\n",
    "\n",
    "#loading of dataframe from seaborn\n",
    "df = seaborn.load_dataset('tips')\n",
    "\n",
    "####### Main Secction  #####\n",
    "# From a facetgride columns with a hua.\n",
    "\n",
    "graph = seaborn.FacetGrid(df, col = \"sex\", hue = \"day\")\n",
    "# map the above from facetgride with some attributes.\n",
    "graph.map(plt.scatter, \"total_bill\", \"tip\", edgecolor =\"w\").add_legend()\n",
    "# show the object\n",
    "plt.show()\n",
    "\n",
    "# This code is contributed by Deepanshu Rustagi."
   ]
  },
  {
   "cell_type": "code",
   "execution_count": null,
   "id": "7b6d51a7",
   "metadata": {},
   "outputs": [],
   "source": [
    "# importing packages\n",
    "import seaborn\n",
    "import matplotlib.pyplot as plt\n",
    "  \n",
    "# loading of a dataframe from seaborn\n",
    "df = seaborn.load_dataset('tips')\n",
    "  \n",
    "############# Main Section         #############\n",
    "# Form a facetgrid using columns with a hue\n",
    "graph = seaborn.FacetGrid(df, col =\"sex\",  hue =\"day\")\n",
    "# map the above form facetgrid with some attributes\n",
    "graph.map(plt.scatter, \"total_bill\", \"tip\", edgecolor =\"w\").add_legend()\n",
    "# show the object\n",
    "plt.show()\n",
    "  \n",
    "# This code is contributed by Deepanshu Rustagi."
   ]
  },
  {
   "cell_type": "code",
   "execution_count": null,
   "id": "0f80e0db",
   "metadata": {},
   "outputs": [],
   "source": [
    "# Importing packages \n",
    "import seaborn \n",
    "import matplotlib.pyplot as plt\n",
    "\n",
    "# loading of a dataframe from seaborn \n",
    "df = seaborn.load_dataset('tips')\n",
    "\n",
    "\n",
    "########### Main Section   #########\n",
    "# From a facetgrid using columns with a hue,\n",
    "\n",
    "\n",
    "graph = seaborn.FacetGrid(df, row = 'smoker', col = 'time')\n",
    "\n",
    "# map the above from facetgrid with some attributes\n",
    "\n",
    "graph.map(plt.hist, 'total_bill', bins = 15, color = 'orange')\n",
    "# show the object\n",
    "plt.show()\n",
    "\n",
    "# This code is countributed by Deepanshu Rustagi."
   ]
  },
  {
   "cell_type": "code",
   "execution_count": null,
   "id": "7a2fc4b2",
   "metadata": {},
   "outputs": [],
   "source": [
    "# importing packages\n",
    "import seaborn \n",
    "import matplotlib.pyplot as plt\n",
    "\n",
    "# loading of a dataframe from seaborn \n",
    "df = seaborn.load_dataset('tips')\n",
    "\n",
    "########## Main Section  ##########\n",
    "\n",
    "# From a facetgrid using columns with a hue\n",
    "graph = seaborn.FacetGrid(df, col ='time', hue='smoker')\n",
    "# map the above from facatgrid with some attributes\n",
    "graph.map(seaborn.regplot, \"total_bill\",\"tip\").add_legend()\n",
    "# show the object\n",
    "plt.show()\n",
    "\n",
    "# This code is contributed by Deepanshu Rustogi."
   ]
  },
  {
   "cell_type": "code",
   "execution_count": null,
   "id": "cf965613",
   "metadata": {},
   "outputs": [],
   "source": [
    "# Below is the implementation of above method:\n",
    "\n",
    "# importing packages\n",
    "import seaborn \n",
    "import matplotlib.pyplot as plt\n",
    "\n",
    "#loading datasets.\n",
    "df = seaborn.load_dataset('tips')\n",
    "\n",
    "# PairGrid objects with hue.\n",
    "\n",
    "graph = seaborn.PairGrid(df, hue ='day')\n",
    "\n",
    "#Type of graph for diagonal\n",
    "graph = graph.map_diag(plt.hist)\n",
    "\n",
    "#Type of graph for non-diagonal\n",
    "graph = graph.map_offdiag(plt.scatter)\n",
    "\n",
    "# to add legends \n",
    "\n",
    "graph = graph.add_legend()\n",
    "\n",
    "# To show\n",
    "plt.show()\n",
    "\n",
    "# This code is contributed by Deepanshu Rustagi."
   ]
  },
  {
   "cell_type": "code",
   "execution_count": null,
   "id": "78596af4",
   "metadata": {},
   "outputs": [],
   "source": [
    "# importing packages\n",
    "import seaborn\n",
    "import matplotlib.pyplot as plt\n",
    "  \n",
    "# loading dataset\n",
    "df = seaborn.load_dataset('tips')\n",
    "  \n",
    "# PairGrid object with hue\n",
    "graph = seaborn.PairGrid(df)\n",
    "# type of graph for non-diagonal(upper part)\n",
    "graph = graph.map_upper(sns.scatterplot)\n",
    "# type of graph for non-diagonal(lower part)\n",
    "graph = graph.map_lower(sns.kdeplot)\n",
    "# type of graph for diagonal\n",
    "graph = graph.map_diag(sns.kdeplot, lw = 2)\n",
    "# to show\n",
    "plt.show()\n",
    "# This code is contributed by Deepanshu Rusatgi."
   ]
  },
  {
   "cell_type": "code",
   "execution_count": null,
   "id": "f84ac0fb",
   "metadata": {},
   "outputs": [],
   "source": [
    "import seaborn \n",
    "\n",
    "seaborn.set(style='whitegrid')\n",
    "\n",
    "tip = seaborn.load_dataset('tips')\n",
    "\n",
    "seaborn.boxplot(x='day',y='tip',data=tip);"
   ]
  },
  {
   "cell_type": "code",
   "execution_count": null,
   "id": "015902a8",
   "metadata": {},
   "outputs": [],
   "source": [
    "#pyhton program to illustrate\n",
    "# Boxplot using inbulit data- set\n",
    "\n",
    "#given in seaborn\n",
    "\n",
    "# import the request modul\n",
    "import seaborn \n",
    "\n",
    "#use to set style of background of plot.\n",
    "\n",
    "seaborn.set(style='whitegrid')\n",
    "\n",
    "#loading data-set\n",
    "tip = seaborn.load_dataset('tips')\n",
    "\n",
    "seaborn.boxplot(x=tip['total_bill'])"
   ]
  },
  {
   "cell_type": "code",
   "execution_count": null,
   "id": "e7ef9ef5",
   "metadata": {},
   "outputs": [],
   "source": [
    "# pyhton program to illustrate \n",
    "# Boxplot using inbulit data-set\n",
    "\n",
    "# given in seaborn \n",
    "\n",
    "#importing the required module\n",
    "import seaborn\n",
    "\n",
    "# use to set style of background of plot\n",
    "seaborn.set(style='whitegrid')\n",
    "\n",
    "#loading data-set\n",
    "tip = seaborn.load_dataset('tips')\n",
    "seaborn.boxplot(x ='tip',y ='day', data= tip);"
   ]
  },
  {
   "cell_type": "code",
   "execution_count": null,
   "id": "cfe483d8",
   "metadata": {},
   "outputs": [],
   "source": [
    "# Python program to illustrate\n",
    "# boxplot using inbuilt data-set\n",
    "# given in seaborn\n",
    "  \n",
    "# importing the required module\n",
    "import seaborn\n",
    " \n",
    "# use to set style of background of plot\n",
    "seaborn.set(style=\"whitegrid\")\n",
    " \n",
    "# loading data-set\n",
    "tip = seaborn.load_dataset(\"fmri\")\n",
    " \n",
    "seaborn.boxplot(x =\"timepoint\",\n",
    "             y =\"signal\",\n",
    "             hue =\"region\",\n",
    "             data = fmri)"
   ]
  },
  {
   "cell_type": "markdown",
   "id": "9e66d98f",
   "metadata": {},
   "source": [
    "# Draw outliner around the data point using linewidth:\n",
    "\n",
    "Widh of the gray line that frame the plotelements. Whenever\n",
    "we increase linewidth tha  point also will inrease automatically.\n",
    "\n",
    "# syntx:\n",
    "\n",
    "seaborn.boxplot(x,y, data, linewidh)\n",
    "\n"
   ]
  },
  {
   "cell_type": "code",
   "execution_count": null,
   "id": "9e20ab82",
   "metadata": {},
   "outputs": [],
   "source": [
    "# python program to illustrate \n",
    "# Boxplot using inbuil data-set\n",
    "\n",
    "# given in seaborn\n",
    "\n",
    "# importing the required module\n",
    "import seaborn\n",
    "\n",
    "# use to set style of background of plot'\n",
    "seaborn.set(style=\"whitegrid\")\n",
    "\n",
    "# loading data-set\n",
    "tip = seaborn.load_dataset('tips')\n",
    "seaborn.boxplot(x ='day',y = 'tip', data = tip, linewidth=2.5);"
   ]
  },
  {
   "cell_type": "code",
   "execution_count": null,
   "id": "da93417b",
   "metadata": {},
   "outputs": [],
   "source": [
    "#draw each level of the #hue variable at different locations on the major categorical axis:"
   ]
  },
  {
   "cell_type": "markdown",
   "id": "2b533b49",
   "metadata": {},
   "source": []
  },
  {
   "cell_type": "code",
   "execution_count": null,
   "id": "f7a5908e",
   "metadata": {},
   "outputs": [],
   "source": [
    "# pyhthon program to illustrate \n",
    "# Boxplt using inbuilt data-set\n",
    "\n",
    "# given in seaborn \n",
    "\n",
    "# importing the required module\n",
    "import seaborn \n",
    "\n",
    "#use to set style of background of plot\n",
    "seaborn.set(style=\"whitegrid\")\n",
    "\n",
    "# loading data-set\n",
    "tip = seaborn.load_dataset('tips')\n",
    "seaborn.boxplot(dat = tip,orient='h')\n",
    "\n"
   ]
  },
  {
   "cell_type": "code",
   "execution_count": null,
   "id": "397e4408",
   "metadata": {},
   "outputs": [],
   "source": [
    "# Let's check for vertical orient:\n",
    "\n",
    "seaborn.boxplot(data = tip,orient='v')"
   ]
  },
  {
   "cell_type": "code",
   "execution_count": null,
   "id": "30cd33ff",
   "metadata": {},
   "outputs": [],
   "source": [
    "# Using color attribute for color for all the elements.;\n",
    "\n",
    "#python programe to illustrate \n",
    "# Boxplot using inbuilt data-set\n",
    "\n",
    "# given in seaborn\n",
    "\n",
    "import seaborn \n",
    "\n",
    "#use to set style of background of plot.\n",
    "seaborn.set(style='whitegrid')\n",
    "\n",
    "# loading data-set\n",
    "tip = seaborn.load_dataset('tips')\n",
    "seaborn.boxplot(x ='day',y ='tip', data = tip, color = 'yellow')"
   ]
  },
  {
   "cell_type": "code",
   "execution_count": null,
   "id": "dc8c1a7b",
   "metadata": {},
   "outputs": [],
   "source": [
    "#Switching x and y attribute\n",
    "\n",
    "#import library & dataset\n",
    "import seaborn as sns\n",
    "\n",
    "df = sns.load_dataset('iris')\n",
    "\n",
    "# Just switch x and y\n",
    "sns.boxplot(y=df[\"species\"], x=df[\"sepal_length\"]);\n"
   ]
  },
  {
   "cell_type": "code",
   "execution_count": null,
   "id": "f3b1ee4f",
   "metadata": {},
   "outputs": [],
   "source": [
    "# Using  orient = h\n",
    "\n",
    "# import library & dataset\n",
    "import seaborn as sns\n",
    "\n",
    "tips = sns.load_dataset('tips')\n",
    "ax = sns.boxplot(data=tips, orient='h', palette=\"Set2\")"
   ]
  },
  {
   "cell_type": "code",
   "execution_count": null,
   "id": "75578d4b",
   "metadata": {},
   "outputs": [],
   "source": [
    "# import libraries \n",
    "import seaborn as sns\n",
    "import matplotlib.pyplot as plt\n",
    "\n",
    "# Loading the dataset to generate a boxplot.\n",
    "# loading dataset\n",
    "\n",
    "ds = sns.load_dataset('iris')\n",
    "\n",
    "# Generate a boxplotusing the boxplot() method.\n",
    "\n",
    "#create boxlot object\n",
    "ax = sns.boxplot(data=tips, orient='h')\n",
    "\n",
    "# Seaborn boxplot()function has palette argument, in this example we have \n",
    "#we have set palette =\"Set1\", it uses a qualitative color paletter Set3 color the \n",
    "#boxes in boxpolot. So add palette parameter in boxplotmeth use palette method\n",
    "\n",
    "ax = sns.boxplot(data=ds, orient='h', palette='Set1')\n",
    "\n",
    "# Below in the complete program based on the above approach:\n",
    "\n",
    "# import libraries\n",
    "import seaborn as sns\n",
    "import matplotlib.pyplot as plt\n",
    "\n",
    "# load dataset\n",
    "ds = sns.load_dataset(\"tips\")\n",
    "\n",
    "plt.figure(figsize=(8, 6))\n",
    "\n",
    "# use palette method \n",
    "ax = sns.boxplot(data=ds, orient='h', palette=\"Set1\")"
   ]
  },
  {
   "cell_type": "code",
   "execution_count": null,
   "id": "c5bfe4b6",
   "metadata": {},
   "outputs": [],
   "source": [
    " # Basic visulation if fmri data using violinplot()\n",
    "import seaborn \n",
    "    \n",
    "seaborn.set(style = 'whitegrid')\n",
    "fmri = seaborn.load_dataset(\"fmri\")\n",
    "    \n",
    "seaborn.violinplot(x ='timepoint',\n",
    "                      y = 'signal',data=fmri)"
   ]
  },
  {
   "cell_type": "code",
   "execution_count": null,
   "id": "7afbc996",
   "metadata": {},
   "outputs": [],
   "source": [
    "# Groping data point on the basic of category, here here as region and event.\n",
    "\n",
    "\n",
    "import seaborn \n",
    "\n",
    "seaborn.set(style = 'whitegrid')\n",
    "fmri = seaborn.load_dataset(\"fmri\")\n",
    "\n",
    "seaborn.violinplot(x ='timepoint',y =\"signal\",hue = \"region\",style='event',data = fmri)"
   ]
  },
  {
   "cell_type": "code",
   "execution_count": null,
   "id": "99a77bcf",
   "metadata": {},
   "outputs": [],
   "source": [
    "# Basic visulation of \"tips\" dataset using lineplot()\n",
    "\n",
    "import seaborn \n",
    "\n",
    "seaborn.set(style = 'whitegrid')\n",
    "tip = seaborn.load_dataset('tips')\n",
    "\n",
    "seaborn.violinplot(x='day',y='tip', data = tip);"
   ]
  },
  {
   "cell_type": "markdown",
   "id": "69534ea8",
   "metadata": {},
   "source": [
    "1. Draw a single horizontal swarm plot using only one axis:\n",
    "    \n",
    "if we use only one data variable instead of two data variables \n",
    "then it means that the axis deonetes each of thes data variables \n",
    "an an axis .\n",
    "x denotes an x- axis and y denote a y- axis \n",
    "\n"
   ]
  },
  {
   "cell_type": "code",
   "execution_count": null,
   "id": "ebef8b56",
   "metadata": {},
   "outputs": [],
   "source": [
    "#seaborn.violinplot(x)\n",
    "\n",
    "#pyhton programe to illustrate\n",
    "# violineplot using inbulit data-set\\\n",
    "# giveb in seaborn \n",
    "\n",
    "# importing the required module\n",
    "import seaborn \n",
    "\n",
    "# use to set style of background of pot.\n",
    "seaborn.set(style='whitegrid')\n",
    "\n",
    "#loading data-set\n",
    "tips = seaborn.load_dataset(\"tips\")\n",
    "\n",
    "seaborn.violinplot(x=tip[\"total_bill\"])"
   ]
  },
  {
   "cell_type": "code",
   "execution_count": null,
   "id": "e44a13f3",
   "metadata": {},
   "outputs": [],
   "source": [
    "# python program to illustrate \n",
    "# viollinplot using inbuilt data-set\n",
    "# given in seaborn \n",
    "\n",
    "\n",
    "# import the required model.\n",
    "import seaborn\n",
    "\n",
    "# usr the set style of background of plot\n",
    "seaborn.set(style='whitegrid')\n",
    "\n",
    "# loading data-set\n",
    "tips = seaborn.load_dataset('tips')\n",
    "\n",
    "seaborn.violinplot(x='tip',y='day', data=tip)"
   ]
  },
  {
   "cell_type": "code",
   "execution_count": null,
   "id": "413d3a72",
   "metadata": {},
   "outputs": [],
   "source": [
    "# sns.violinplot(x,y,hue,data)\n",
    "\n",
    "#pyhton program to illustrate\n",
    "# violinplot using inbuilt data-set\n",
    "\n",
    "# given in seaborn\n",
    "# importing the required module\n",
    "import seaborn \n",
    "\n",
    "# use to set style of background of plot\n",
    "seaborn.set(style='whitegrid')\n",
    "\n",
    "# loading data-set\n",
    "tips = seaborn.load_dataset('tips')\n",
    "\n",
    "seaborn.violinplot(x='day',y='total_bill',hue='time', data=tips)"
   ]
  },
  {
   "cell_type": "code",
   "execution_count": null,
   "id": "b950d8f9",
   "metadata": {},
   "outputs": [],
   "source": [
    "# Drow outlines around the data point using linewidth:\n",
    "\n",
    "#Width of the gray ine that frame the plt elements.Whenever\n",
    "#we increase linewidth then the point aso will increase automatically.\n",
    "\n",
    "# seaborn.violinpot(xy,data,linewidth)\n",
    "\n",
    "#pyhton program to illustrate \n",
    "# violinplot using inbuilt data-set\n",
    "\n",
    "# given in seaborn \n",
    "\n",
    "# use to set style of background of pot \n",
    "seaborn.set(style='whitegrid')\n",
    "\n",
    "#loading data-set\n",
    "tips = seaborn.load_dataset('tips')\n",
    "\n",
    "seaborn.violinplot(x='day',y='tip',data=tip, linewidth=5)"
   ]
  },
  {
   "cell_type": "code",
   "execution_count": null,
   "id": "39862b93",
   "metadata": {},
   "outputs": [],
   "source": [
    "# Drow each level of the variable at different locations on the major categorical axis;\n",
    "\n",
    "#seaborn.violinplot(x,y,data,hue, palatte, dodge)\n",
    "\n",
    "# pyhon program to illustrate\n",
    "# violinpot using inbuilt data-set\n",
    "\n",
    "#given in seaborn \n",
    "import seaborn \n",
    "\n",
    "#use to set style of background of plot \n",
    "seaborn.set(style='whitegrid')\n",
    "\n",
    "# loading data-set\n",
    "tips = seaborn.load_dataset('tips')\n",
    "\n",
    "seaborn.violinplot(x='day',y='total_bill',hue='smoker',data=tips, palette='Set2',dodge=True)"
   ]
  },
  {
   "cell_type": "code",
   "execution_count": null,
   "id": "d4bd0f28",
   "metadata": {},
   "outputs": [],
   "source": [
    "# seaborn .violinpot(x,y,data,saturation)\n",
    "\n",
    "import seaborn \n",
    "#using to set style of background of plot\n",
    "seaborn.set(style='whitegrid')\n",
    "\n",
    "#loading data-set\n",
    "tips = seaborn.load_dataset('tips')\n",
    "\n",
    "seaborn.violinplot(x ='day',y='tip',data=tip,saturation=0.03)"
   ]
  },
  {
   "cell_type": "code",
   "execution_count": null,
   "id": "52356f73",
   "metadata": {},
   "outputs": [],
   "source": [
    "# import the request module\n",
    "import seaborn\n",
    "\n",
    "# us to set style of background of pot\n",
    "seaborn.set(style='whitegrid')\n",
    "\n",
    "#loading data-set\n",
    "tips = seaborn.load_dataset('tips')\n",
    "\n",
    "seaborn.violinplot(x='day', y='tip', data=tip, color ='yellow')"
   ]
  },
  {
   "cell_type": "code",
   "execution_count": null,
   "id": "a73f794d",
   "metadata": {},
   "outputs": [],
   "source": [
    "# Scale the violin width by the number of observations in each bun:\n",
    "\n",
    "\n",
    "# python programe to illustrate\n",
    "# violinplot using inbulit data-set\n",
    "# given in seaborn \n",
    "\n",
    "# importing the required module\n",
    "import seaborn \n",
    "\n",
    "# use to set style of background of plot\n",
    "seaborn.set(style='whitegrid')\n",
    "\n",
    "# loading data-set\n",
    "\n",
    "tips = seaborn.load_dataset('tips')\n",
    "\n",
    "seaborn.violinplot(x='day',y='total_bill',hue='sex',\n",
    "                  data=tip,palette='Set2', split=True,scale='count')"
   ]
  },
  {
   "cell_type": "code",
   "execution_count": null,
   "id": "4b06e203",
   "metadata": {},
   "outputs": [],
   "source": [
    "# seaborn.spripplot(x, y, data, jitter)\n",
    "\n",
    "# pyhton program to illustrate \n",
    " # Stripplor using inbuilt data-set\n",
    "# Given in seaborn \n",
    "\n",
    "# importing the requisted model\n",
    "import seaborn \n",
    "import matplotlib.pyplot as plt\n",
    "\n",
    "# use to set style of background of plot.\n",
    "\n",
    "seaborn.set(style = 'whitegrid')\n",
    "\n",
    "# loading data-set\n",
    "tips = seaborn.load_dataset(\"tips\")\n",
    "\n",
    "seaborn.stripplot(x='day',y ='total_bill',data=tips, jitter=0.1)\n",
    "            "
   ]
  },
  {
   "cell_type": "markdown",
   "id": "46767725",
   "metadata": {},
   "source": [
    "# Drow outlines around the data point using linewidth\n",
    "\n",
    "width of the gray line that frame the pot elements. Whenever we \n",
    "increase linewidth than the point also will increse automatically."
   ]
  },
  {
   "cell_type": "code",
   "execution_count": null,
   "id": "e87a8165",
   "metadata": {},
   "outputs": [],
   "source": [
    "# seaborn.stripplot(x,y, data, linewidth)\n",
    "\n",
    "# pyhton program to illustrate \n",
    "# Stripplot using inbuilt data-set\n",
    "# given in seaborn \n",
    "\n",
    "\n",
    "# importing the required module\n",
    "import seaborn \n",
    "import matplotlib as plt\n",
    "\n",
    "# use to set style of background of plot \n",
    "seaborn.set(style ='whitegrid')\n",
    "\n",
    "#loading data-set\n",
    "tips = seaborn.load_dataset('tips')\n",
    "\n",
    "seaborn.stripplot(y='total_bill',x='day', data=tips, linewidth=3)\n"
   ]
  },
  {
   "cell_type": "code",
   "execution_count": null,
   "id": "a625345e",
   "metadata": {},
   "outputs": [],
   "source": [
    "# We can change the color with edgecolor \n",
    "\n",
    "seaborn.stripplot(y='total_bill', x='day',data=tips,\n",
    "                 linewidth=2, edgecolor='green')"
   ]
  },
  {
   "cell_type": "code",
   "execution_count": null,
   "id": "c578fbdf",
   "metadata": {},
   "outputs": [],
   "source": [
    "#sns.stripplot(x,y,hue,data);\n",
    "\n",
    "# Pyhton program to illustrate \n",
    "# Stripplot using inbuilt data-set\n",
    "\n",
    "# given in seaborn \n",
    "\n",
    "# importing the required module \n",
    "import seaborn \n",
    "import matplotlib as plt\n",
    "\n",
    "# use the set style of biground of plot\n",
    "seaborn.set(style='whitegrid')\n",
    "\n",
    "# loading data-set\n",
    "trips = seaborn.load_dataset('tips')\n",
    "\n",
    "seaborn.stripplot(x='sex', y='total_bill',hue='day',data=tips)"
   ]
  },
  {
   "cell_type": "code",
   "execution_count": null,
   "id": "1a262f0a",
   "metadata": {},
   "outputs": [],
   "source": [
    "seaborn.stripplot(x='day',y='total_bill',hue='smoker',data=tips,palette='Set2',dodge=True)"
   ]
  },
  {
   "cell_type": "code",
   "execution_count": null,
   "id": "879ad92c",
   "metadata": {},
   "outputs": [],
   "source": [
    "#plotting large points and different aesthetics with marker and alpha parameter. \n",
    "    \n",
    "import seaborn \n",
    "import matplotlib.pyplot as plt\n",
    "\n",
    "seaborn.set(style ='whitegrid')\n",
    "\n",
    "tips = seaborn.load_dataset('tips')\n",
    "\n",
    "seaborn.stripplot(x='day',y='total_bill',hue='smoker',\n",
    "                 data=tips, palette='Set1',size=20,\n",
    "                 marker='s',alpha=0.2)\n",
    "plt.show()"
   ]
  },
  {
   "cell_type": "code",
   "execution_count": null,
   "id": "7feb212d",
   "metadata": {},
   "outputs": [],
   "source": [
    "# Function arguments \n",
    "\n",
    "def fulter_event(number_list):\n",
    "    result_list = []\n",
    "    for number in number_list:\n",
    "        if number % 2 == 0:\n",
    "            result_list.append(number)\n",
    "    return result_list"
   ]
  },
  {
   "cell_type": "code",
   "execution_count": null,
   "id": "9434f2b2",
   "metadata": {},
   "outputs": [],
   "source": [
    "def loan_emi(amount):\n",
    "    emi = amount / 12\n",
    "    print('The EMI is ${}'.format(emi))\n"
   ]
  },
  {
   "cell_type": "code",
   "execution_count": null,
   "id": "c5ffc65e",
   "metadata": {},
   "outputs": [],
   "source": [
    "loan_emi(1200000)"
   ]
  },
  {
   "cell_type": "code",
   "execution_count": null,
   "id": "6ae9193a",
   "metadata": {},
   "outputs": [],
   "source": [
    "# Location variables and scope \n",
    "\n",
    "def loan_emi(amount, duration):\n",
    "    emi = amount / duration\n",
    "    print('The EMI is $()'.format(emi))\n"
   ]
  },
  {
   "cell_type": "code",
   "execution_count": null,
   "id": "ceceb27a",
   "metadata": {},
   "outputs": [],
   "source": [
    "\n",
    "loan_emi(1260000, 8*12)"
   ]
  },
  {
   "cell_type": "markdown",
   "id": "6256b778",
   "metadata": {},
   "source": [
    "\n",
    "Matpotlib and Seaborn also supports ploting multiple charts in a\n",
    "grid , using plt.subplots, which reruens a set of axis for ploting.\n",
    "\n",
    "Here's a single grid showing the differents types of charts we've covered in this tutorial. \n"
   ]
  },
  {
   "cell_type": "code",
   "execution_count": null,
   "id": "b76210d5",
   "metadata": {},
   "outputs": [],
   "source": [
    "fig, axis = plt.subplots(2, 3, figsize=(16, 8))\n",
    "\n",
    "# Use the axes for plotting\n",
    "axes[0,0].plot(years, apples, 's-b')\n",
    "axes[0,0].plot(years,orange, 'o--r')\n",
    "axes[0,0].set_xlabel('year')\n",
    "axes[0,0].set_ylable('yield (tons per hectare)')\n",
    "axes[0,0].legend(['Apples', 'Oranges']);\n",
    "axes[0,0].set_title('Crop yields in Kanto')\n",
    "\n",
    "# Pass the axes into seaborn \n",
    "axes[0,1].set_title('Sepal Length vs. Sepal Width')\n",
    "sns.scatterplot(x=flowers_df.sepal_length,)"
   ]
  },
  {
   "cell_type": "code",
   "execution_count": null,
   "id": "cbe2e0d1",
   "metadata": {},
   "outputs": [],
   "source": [
    "pip list"
   ]
  },
  {
   "cell_type": "markdown",
   "id": "21aa9bbc",
   "metadata": {},
   "source": [
    "# working on matplotlib Tetorial."
   ]
  },
  {
   "cell_type": "code",
   "execution_count": null,
   "id": "d4e2809a",
   "metadata": {},
   "outputs": [],
   "source": [
    "pip install matplotlib \n"
   ]
  },
  {
   "cell_type": "code",
   "execution_count": null,
   "id": "33625569",
   "metadata": {},
   "outputs": [],
   "source": [
    "import matplotlib\n",
    "\n",
    "print(matplotlib.__version__)"
   ]
  },
  {
   "cell_type": "code",
   "execution_count": null,
   "id": "5989daa1",
   "metadata": {},
   "outputs": [],
   "source": [
    "import matplotlib.pyplot as plt\n",
    "import numpy as np\n",
    "\n",
    "xpoints = np.array([0, 6])\n",
    "ypoints = np.array([0, 250])\n",
    "\n",
    "plt.plot(xpoints, ypoints)\n",
    "plt.show()"
   ]
  },
  {
   "cell_type": "code",
   "execution_count": null,
   "id": "52ed4b27",
   "metadata": {},
   "outputs": [],
   "source": [
    "import matplotlib.pyplot as plt\n",
    "import numpy as np\n",
    "\n",
    "xpoints = np.array([1, 8])\n",
    "ypoints = np.array([3, 10])\n",
    "\n",
    "plt.plot(xpoints, ypoints)\n",
    "plt.show()"
   ]
  },
  {
   "cell_type": "code",
   "execution_count": null,
   "id": "12aa7de0",
   "metadata": {},
   "outputs": [],
   "source": [
    "import matplotlib.pyplot as plt\n",
    "import numpy as np\n",
    "\n",
    "xpoints = np.array([1, 8])\n",
    "ypoints = np.array([3, 10])\n",
    "\n",
    "plt.plot(xpoints, ypoints,\"o\")\n",
    "plt.show()"
   ]
  },
  {
   "cell_type": "code",
   "execution_count": null,
   "id": "27e48948",
   "metadata": {},
   "outputs": [],
   "source": [
    "import matplotlib.pyplot as plt\n",
    "import numpy as np\n",
    "\n",
    "xpoints = np.array([1,2,6,8])\n",
    "ypoints = np.array([3,8,1,10])\n",
    "\n",
    "plt.plot(xpoints, ypoints)\n",
    "plt.show()"
   ]
  },
  {
   "cell_type": "code",
   "execution_count": null,
   "id": "9e9b0682",
   "metadata": {},
   "outputs": [],
   "source": [
    "import matplotlib.pyplot as plt\n",
    "import numpy as np\n",
    "\n",
    "ypoints = np.array([3, 8, 1, 10, 5, 7])\n",
    "\n",
    "\n",
    "plt.plot(ypoints)\n",
    "plt.show()"
   ]
  },
  {
   "cell_type": "code",
   "execution_count": null,
   "id": "b3437726",
   "metadata": {},
   "outputs": [],
   "source": [
    "...\n",
    "\n",
    "plt.plot(ypoints, marker = '3')\n",
    "..."
   ]
  },
  {
   "cell_type": "code",
   "execution_count": null,
   "id": "ca19d862",
   "metadata": {},
   "outputs": [],
   "source": [
    "import matplotlib.pyplot as plt\n",
    "import numpy as np\n",
    "\n",
    "yploint = np.array([3,8, 1, 10])\n",
    "\n",
    "plt.plot(ypoints, 'o:m')\n",
    "plt.show()"
   ]
  },
  {
   "cell_type": "code",
   "execution_count": null,
   "id": "be14f905",
   "metadata": {},
   "outputs": [],
   "source": [
    "import matplotlib.pyplot as plt\n",
    "import numpy as np\n",
    "\n",
    "ypoints = np.array([3, 8, 1, 10])\n",
    "\n",
    "plt.plot(ypoints, marker = '*',ms = 20)\n",
    "plt.show()"
   ]
  },
  {
   "cell_type": "code",
   "execution_count": null,
   "id": "17d11b38",
   "metadata": {},
   "outputs": [],
   "source": [
    "import matplotlib.pyplot as plt\n",
    "\n",
    "import numpy as np\n",
    "\n",
    "ypoints = np.array([2,7, 0, 9])\n",
    "\n",
    "plt.plot(ypoints, marker = \"o\", ms=19,mfc = 'r' )\n",
    "plt.show()"
   ]
  },
  {
   "cell_type": "code",
   "execution_count": null,
   "id": "d1f71fb9",
   "metadata": {},
   "outputs": [],
   "source": [
    "...\n",
    "plt.plot(ypoints, marker = 'o', ms = 20, mec = 'hotpink', mfc = 'hotpink')\n",
    "..."
   ]
  },
  {
   "cell_type": "code",
   "execution_count": null,
   "id": "0e6a6a4d",
   "metadata": {},
   "outputs": [],
   "source": [
    "import matplotlib.pyplot as plt \n",
    "import numpy as np\n",
    "\n",
    "ypoints  = np.array([3, 8, 1, 10])\n",
    "\n",
    "plt.plot(ypoints, linestyle = 'dotted')\n",
    "plt.show()"
   ]
  },
  {
   "cell_type": "code",
   "execution_count": null,
   "id": "f38c4574",
   "metadata": {},
   "outputs": [],
   "source": [
    "plt.plot(ypoints, linestyle = 'dashed')"
   ]
  },
  {
   "cell_type": "code",
   "execution_count": null,
   "id": "b01cb67e",
   "metadata": {},
   "outputs": [],
   "source": [
    "plt.plot(ypoints, ls = ':')"
   ]
  },
  {
   "cell_type": "code",
   "execution_count": null,
   "id": "d20c0ea5",
   "metadata": {},
   "outputs": [],
   "source": [
    "plt.plot(ypoints, ls ='-.')"
   ]
  },
  {
   "cell_type": "code",
   "execution_count": null,
   "id": "fc7ae936",
   "metadata": {},
   "outputs": [],
   "source": [
    "import matplotlib.pyplot as plt\n",
    "import numpy as np\n",
    "\n",
    "\n",
    "ypoints = np.array([3, 8, 1 , 10])\n",
    "\n",
    "plt.plot(ypoints, color = 'r')\n",
    "plt.show()"
   ]
  },
  {
   "cell_type": "code",
   "execution_count": null,
   "id": "2b11a089",
   "metadata": {},
   "outputs": [],
   "source": [
    "...\n",
    "plt.plot(ypoints, c = '#4CAF50')\n",
    "...\n"
   ]
  },
  {
   "cell_type": "code",
   "execution_count": null,
   "id": "da839af2",
   "metadata": {},
   "outputs": [],
   "source": [
    "...\n",
    "plt.plot(ypoints, c = 'hotpink')\n",
    "..."
   ]
  },
  {
   "cell_type": "code",
   "execution_count": null,
   "id": "1c7e69cf",
   "metadata": {},
   "outputs": [],
   "source": [
    "import matplotlib.pyplot as plt\n",
    "import numpy as np\n",
    "\n",
    "ypoints = np.array([2, 8, 1, 10])\n",
    "\n",
    "plt.plot(ypoints, linewidth = '20.5')\n",
    "plt.show()"
   ]
  },
  {
   "cell_type": "code",
   "execution_count": null,
   "id": "7eb67920",
   "metadata": {},
   "outputs": [],
   "source": [
    "import matplotlib.pyplot as plt\n",
    "import numpy as np\n",
    "\n",
    "ypoints = np.array([2, 8, 1, 10])\n",
    "\n",
    "plt.plot(ypoints, lw = '20.5')\n",
    "plt.show(\n",
    ")"
   ]
  },
  {
   "cell_type": "code",
   "execution_count": null,
   "id": "56d3c349",
   "metadata": {},
   "outputs": [],
   "source": [
    "import matplotlib.pyplot as plt\n",
    "import numpy as np\n",
    "\n",
    "y1 = np.array([3, 8, 1, 10])\n",
    "y2 = np.array([6, 2, 7, 11])\n",
    "\n",
    "plt.plot(y1)\n",
    "plt.plot(y2)\n",
    "\n",
    "plt.show()"
   ]
  },
  {
   "cell_type": "code",
   "execution_count": null,
   "id": "a8853b77",
   "metadata": {},
   "outputs": [],
   "source": [
    "# create Labels for a plot .\n",
    "\n",
    "import numpy as np\n",
    "import matplotlib.pyplot as plt \n",
    "\n",
    "x = np.array([80, 85, 90, 95, 100, 105, 110, 115, 120, 125])\n",
    "y = np.array([240, 250, 260, 270, 280, 290, 300, 310, 320, 330])\n",
    "\n",
    "plt.plot(x, y)\n",
    "\n",
    "plt.plot(x,y)\n",
    "\n",
    "plt.xlabel('Average Pulse')\n",
    "plt.ylabel('Calorie Burnage')\n",
    "\n",
    "plt.show()"
   ]
  },
  {
   "cell_type": "code",
   "execution_count": null,
   "id": "14c969f2",
   "metadata": {},
   "outputs": [],
   "source": [
    "#Creat a label for the x- and y-axis:\n",
    "\n",
    "import numpy as np\n",
    "import matplotlib.pyplot as plt\n",
    "\n",
    "\n",
    "x = np.array([80, 85, 90, 95,100, 105, 110, 115, 120, 125])\n",
    "y = np.array([240, 250, 260, 270, 280, 290, 300, 310, 320, 330])\n",
    "\n",
    "plt.plot(x, y)\n",
    "\n",
    "plt.title('Sports Water Data')\n",
    "plt.xlabel(\"Average Pulse\")\n",
    "plt.ylabel('Calorie Burnage')\n",
    "\n",
    "plt.show()"
   ]
  },
  {
   "cell_type": "code",
   "execution_count": null,
   "id": "5119a793",
   "metadata": {},
   "outputs": [],
   "source": [
    "import numpy as np\n",
    "import matplotlib.pyplot as plt\n",
    "\n",
    "x = np.array([80, 85, 90, 95, 100, 105, 110, 115, 120, 125])\n",
    "y = np.array([240, 250, 260, 270, 280, 290, 300, 310, 320, 330])\n",
    "\n",
    "plt.plot(x,y)\n",
    "\n",
    "plt.title(\"Sports Watch Data\")\n",
    "plt.xlabel(\"Average Pulse\")\n",
    "plt.ylabel(\"Calorie Burnage\")\n",
    "\n",
    "plt.show()"
   ]
  },
  {
   "cell_type": "code",
   "execution_count": null,
   "id": "ddc2d3b9",
   "metadata": {},
   "outputs": [],
   "source": [
    "import numpy as np\n",
    "import matplotlib.pyplot as plt\n",
    "\n",
    "x = np.array([80, 85, 90, 100, 105, 110, 115, 120, 125])\n",
    "y = np.array([240, 250, 260, 270, 280, 290, 300, 310, 320, 330])\n",
    "\n",
    "font1 = {'family': 'serif', 'color':'blue','size':20}\n",
    "fron2 = {'family': 'serif','color':'darkred','size':15}\n",
    "\n",
    "plt.title('Sports Watch Data', fontdict = font1)\n",
    "plt.xlabel(\"Average Pulse\", fontdict  = font2)\n",
    "plt.ylabel(\"Calorie Burnage\", fontdict = font2)\n",
    "\n",
    "plt.plot(x, y)\n",
    "plt.show()"
   ]
  },
  {
   "cell_type": "code",
   "execution_count": null,
   "id": "c86895b8",
   "metadata": {},
   "outputs": [],
   "source": [
    "import numpy as np\n",
    "import matplotlib.pyplot as plt\n",
    "\n",
    "x = np.array([80, 85, 90, 95, 100, 105, 110, 115, 120, 125])\n",
    "y = np.array([240, 250, 260, 270, 280, 290, 300, 310, 320, 330])\n",
    "\n",
    "font1 = {'family':'serif','color':'blue','size':20}\n",
    "font2 = {'family':'serif','color':'darkred','size':15}\n",
    "\n",
    "plt.title(\"Sports Watch Data\", fontdict = font1)\n",
    "plt.xlabel(\"Average Pulse\", fontdict = font2)\n",
    "plt.ylabel(\"Calorie Burnage\", fontdict = font2)\n",
    "\n",
    "plt.plot(x, y)\n",
    "plt.show()"
   ]
  },
  {
   "cell_type": "code",
   "execution_count": null,
   "id": "8855cbbd",
   "metadata": {},
   "outputs": [],
   "source": [
    "# you can use the loc paremater in title() to position the title.\n",
    "# Lets values are: 'left','right', and 'center'. Default value is 'canter'.\n",
    "\n",
    "import numpy as np\n",
    "import matplotlib.pyplot as plt\n",
    "\n",
    "x = np.array([80, 85, 90, 100, 105, 110, 115, 120, 125])\n",
    "y = np.array([240, 250, 260, 270, 280, 290, 300, 310, 320, 330])\n",
    "\n",
    "\n",
    "plt.title('Sports Watch Data', loc = 'left')\n",
    "plt.xlabel('Average Pulse')\n",
    "plt.ylabel('Calorie Burnage')\n",
    "\n",
    "plt.plot(x,y)\n",
    "plt.show()"
   ]
  },
  {
   "cell_type": "code",
   "execution_count": null,
   "id": "5ecadfdb",
   "metadata": {},
   "outputs": [],
   "source": [
    "import numpy as np\n",
    "import matplotlib.pyplot as plt\n",
    "\n",
    "x = np.array([80, 85, 90, 95, 100, 105, 110, 115, 120, 125])\n",
    "y = np.array([240, 250, 260, 270, 280, 290, 300, 310, 320, 330])\n",
    "\n",
    "plt.title(\"Sports Watch Data\", loc = 'left')\n",
    "plt.xlabel(\"Average Pulse\")\n",
    "plt.ylabel(\"Calorie Burnage\")\n",
    "\n",
    "plt.plot(x, y)\n",
    "plt.grid(color ='pink',linestyle = '--', linewidth = 0.5)\n",
    "plt.show()"
   ]
  },
  {
   "cell_type": "code",
   "execution_count": null,
   "id": "4a35e88f",
   "metadata": {},
   "outputs": [],
   "source": [
    "import matplotlib.pyplot as plt\n",
    "import numpy as np\n",
    "\n",
    "\n",
    "#plot 1:\n",
    "\n",
    "x = np.array([0, 1, 2, 3])\n",
    "y = np.array([3, 8, 1, 10])\n",
    "\n",
    "plt.subplot(1,2,1)\n",
    "plt.plot(x,y)\n",
    "\n",
    "#plot 2 :\n",
    "x = np.array([0, 1, 2, 3])\n",
    "y = np.array([10, 20, 30, 40])\n",
    "\n",
    "plt.subplot(1,2,2)\n",
    "plt.plot(x,y)\n",
    "\n",
    "plt.show()"
   ]
  },
  {
   "cell_type": "code",
   "execution_count": null,
   "id": "5b593dc9",
   "metadata": {},
   "outputs": [],
   "source": [
    "import matplotlib.pyplot as plt\n",
    "import numpy as np\n",
    "\n",
    "#plot 1:\n",
    "x = np.array([0, 1, 2, 3])\n",
    "y = np.array([3, 8, 1, 10])\n",
    "\n",
    "plt.subplot(2, 1, 1)\n",
    "plt.plot(x,y)\n",
    "\n",
    "#plot 2:\n",
    "x = np.array([0, 1, 2, 3])\n",
    "y = np.array([10, 20, 30, 40])\n",
    "\n",
    "plt.subplot(2, 1, 2)\n",
    "plt.plot(x,y)\n",
    "\n",
    "plt.show()\n"
   ]
  },
  {
   "cell_type": "code",
   "execution_count": null,
   "id": "c1e65fa7",
   "metadata": {},
   "outputs": [],
   "source": [
    "import matplotlib.pyplot as plt\n",
    "import numpy as np\n",
    "\n",
    "#plot 1:\n",
    "\n",
    "x = np.array([0, 1, 2, 3])\n",
    "y = np.array([3, 8, 1, 10])\n",
    "\n",
    "plt.subplot(1, 2, 1)\n",
    "plt.plot(x,y)\n",
    "plt.title(\"SALES\")\n",
    "#plot 2:\n",
    "\n",
    "x = np.array([0, 1, 2, 3])\n",
    "y = np.array([10, 20, 30, 40])\n",
    "\n",
    "plt.subplot(1, 2, 2)\n",
    "plt.plot(x,y)\n",
    "plt.title('INCOME')\n",
    "\n",
    "plt.show()"
   ]
  },
  {
   "cell_type": "code",
   "execution_count": null,
   "id": "711dab85",
   "metadata": {},
   "outputs": [],
   "source": [
    "# Super Title \n",
    "\n",
    "import matplotlib.pyplot as plt\n",
    "import numpy as np\n",
    "\n",
    "#plot 1:\n",
    "\n",
    "x = np.array([0, 1, 2, 3])\n",
    "y = np.array([3, 8, 1, 10])\n",
    "\n",
    "plt.subplot(1, 2, 1)\n",
    "plt.plot(x,y)\n",
    "plt.title('SALES')\n",
    "\n",
    "#plot 2 :\n",
    "x = np.array([0, 1, 2, 3])\n",
    "y = np.array([10, 20, 30, 40])\n",
    "\n",
    "plt.subplot(1, 2, 2)\n",
    "plt.plot(x,y)\n",
    "plt.title('INCOME')\n",
    "\n",
    "plt.suptitle('MY SHOP')\n",
    "plt.show()"
   ]
  },
  {
   "cell_type": "code",
   "execution_count": null,
   "id": "266cb633",
   "metadata": {},
   "outputs": [],
   "source": [
    "import matplotlib.pyplot as plt\n",
    "import numpy as np\n",
    "\n",
    "\n",
    "x = np.array([5,7,8,7,2,17,2, 9, 4, 11,12,9,6])\n",
    "y = np.array([99,89,87,88,111,86,103,87,94,78,77,85,86])\n",
    "\n",
    "plt.scatter(x, y)\n",
    "plt.show()"
   ]
  },
  {
   "cell_type": "code",
   "execution_count": null,
   "id": "10a8caf1",
   "metadata": {},
   "outputs": [],
   "source": [
    "import matplotlib.pyplot as plt\n",
    "import numpy as np\n",
    "\n",
    "#day one, the age and speed of 13 cars:\n",
    "x = np.array([5,7,8,7,2,17,2,9,4,11,12,9,6])\n",
    "y = np.array([99,86,87,88,111,86,103,87,94,78,77,85,86])\n",
    "plt.scatter(x,y)\n",
    "\n",
    "#day two, the age and speed of 15 cars:\n",
    "x = np.array([2,2,8,1,158,12,9,7,3,11,4,7,14,12])\n",
    "y = np.array([100,105,84,105,90,99,95,94,100,79,112,91,80,85])\n",
    "plt.scatter(x,y, color='#88c999' )\n",
    "\n",
    "plt.show()\n"
   ]
  },
  {
   "cell_type": "code",
   "execution_count": null,
   "id": "27b6f644",
   "metadata": {},
   "outputs": [],
   "source": [
    "import matplotlib.pyplot as plt\n",
    "import numpy as np\n",
    "\n",
    "x = np.random.randint(100, size=(100))\n",
    "y = np.random.randint(100, size=(100))\n",
    "colors = np.random.randint(100, size=(100))\n",
    "sizes = 10* np.random.randint(100, size=(100))\n",
    "\n",
    "\n",
    "plt.scatter(x, y, c=colors, s=sizes, alpha=0.5, cmap='nipy_spectral')\n",
    "\n",
    "plt.colorbar()\n",
    "plt.show()"
   ]
  },
  {
   "cell_type": "code",
   "execution_count": null,
   "id": "befaa146",
   "metadata": {},
   "outputs": [],
   "source": [
    "# creating Bars \n",
    "\n",
    "import matplotlib.pyplot as plt\n",
    "import numpy as np\n",
    "\n",
    "x = np.array([\"A\",\"B\",\"C\",\"D\"])\n",
    "y = np.array([3, 8, 1, 10])\n",
    "\n",
    "plt.bar(x,y)\n",
    "plt.show()"
   ]
  },
  {
   "cell_type": "code",
   "execution_count": null,
   "id": "454a42a7",
   "metadata": {},
   "outputs": [],
   "source": [
    "x = [\"APPLES\", \"BANANAS\"]\n",
    "y = [400, 350]\n",
    "plt.bar(x,y)"
   ]
  },
  {
   "cell_type": "code",
   "execution_count": null,
   "id": "7c23acee",
   "metadata": {},
   "outputs": [],
   "source": [
    "x = ['MANGOW','GUAVA']\n",
    "Y = [1000, 676]\n",
    "plt.bar(x,y)"
   ]
  },
  {
   "cell_type": "code",
   "execution_count": null,
   "id": "ab363cc3",
   "metadata": {},
   "outputs": [],
   "source": [
    "import matplotlib.pyplot as plt\n",
    "import numpy as np\n",
    "\n",
    "x = np.array([\"A\",\"B\",\"C\",\"D\"])\n",
    "y = np.array([3, 8, 1, 10])\n",
    "\n",
    "plt.bar(x,y, color=\"red\")\n",
    "plt.show()"
   ]
  },
  {
   "cell_type": "code",
   "execution_count": null,
   "id": "1225dd5c",
   "metadata": {},
   "outputs": [],
   "source": [
    "import matplotlib.pyplot as plt\n",
    "import numpy as np\n",
    "\n",
    "x = np.array([\"A\",\"B\",\"C\",\"D\"])\n",
    "y = np.array([3,8, 1, 10])\n",
    "\n",
    "plt.bar(x, y, color = \"hotpink\", width = 0.1)\n",
    "plt.show()"
   ]
  },
  {
   "cell_type": "code",
   "execution_count": null,
   "id": "1d4a883c",
   "metadata": {},
   "outputs": [],
   "source": [
    "import numpy as np\n",
    "import matplotlib.pyplot as plt\n",
    "\n",
    "x = np.random.normal(170, 10, 250)\n",
    "plt.hist(x)\n",
    "plt.show()\n"
   ]
  },
  {
   "cell_type": "code",
   "execution_count": null,
   "id": "a7c85c90",
   "metadata": {},
   "outputs": [],
   "source": [
    "import matplotlib.pyplot as plt\n",
    "import numpy as np\n",
    "\n",
    "y  = np.array([35, 25, 25, 15])\n",
    "mylabels = [\"Apple\",\"Bananas\",\"cherries\",\"Dates\"]\n",
    "plt.pie(y , labels = mylabels)\n",
    "plt.show()"
   ]
  },
  {
   "cell_type": "code",
   "execution_count": null,
   "id": "e534c7ef",
   "metadata": {},
   "outputs": [],
   "source": [
    "    \n",
    "import matplotlib.pyplot as plt\n",
    "import numpy as np\n",
    "\n",
    "y = np.array([35, 25, 25, 15])\n",
    "mylabels = [\"Apples\", \"Bananas\",\"Cherries\",\"Dates\"]\n",
    "\n",
    "plt.pie(y, labels = mylabels, startangle = 90)\n",
    "\n",
    "plt.show()\n",
    "    "
   ]
  },
  {
   "cell_type": "code",
   "execution_count": null,
   "id": "3ef4a0a8",
   "metadata": {},
   "outputs": [],
   "source": [
    "import matplotlib.pyplot as plt\n",
    "import numpy as np\n",
    "\n",
    "y = np.array([35, 25, 25, 15])\n",
    "mylabels = [\"Apples\",\"Bananas\",\"Cherries\",\"Dates\"]\n",
    "myexplode = [0.2, 0, 0, 0]\n",
    "\n",
    "plt.pie(y, labels = mylabels, explode = myexplode, shadow = True)\n",
    "plt.show()"
   ]
  },
  {
   "cell_type": "code",
   "execution_count": null,
   "id": "770f012f",
   "metadata": {},
   "outputs": [],
   "source": [
    "import matplotlib.pyplot as plt\n",
    "import numpy as np \n",
    "\n",
    "y = np.array([35, 25, 25, 15])\n",
    "mylabels = [\"Apples\", \"Banana\",\"Cherries\", \"Dates\" ]\n",
    "mycolors = ['black','hotpink','b', '#4CAF50']\n",
    "\n",
    "plt.pie(y, labels = mylabels, colors = mycolors)\n",
    "plt.legend(title = \"Four Fruits:\")\n",
    "plt.show()"
   ]
  },
  {
   "cell_type": "code",
   "execution_count": null,
   "id": "0be22a97",
   "metadata": {},
   "outputs": [],
   "source": [
    "# python programe for implementatin of Bubble short\n",
    "\n",
    "def bubbleSort(arr):\n",
    "    n = len(arr)\n",
    "    \n",
    "    # Traverse thought all arry elements\n",
    "    for i in range(n-1):\n",
    "        # range(n) also worke outer loop with \n",
    "        # repeat one time more than needed.\n",
    "        \n",
    "        \n",
    "        # Last i elements are already in place\n",
    "        for j in range(0, n-1-1):\n",
    "            \n",
    "            # traverse the array from 0 to n-i-1\n",
    "            # Swap if the elemnt found in graeter\n",
    "            # than the next element\n",
    "            if arr[j] > arr[j + 1] :\n",
    "                arr[j], arr[j + 1] + arr[j + 1], arr[j]\n",
    "                \n",
    "                \n",
    "# Driver code to test above \n",
    "arr = [64, 34, 25, 12, 22, 11, 90]\n",
    "\n",
    "bubbleSort(arr)\n",
    "\n",
    "print (\"Sorted array is\")\n",
    "for i in range(len(arr)):\n",
    "        print (\"% d\" % arr[i], end=\" \")"
   ]
  },
  {
   "cell_type": "code",
   "execution_count": null,
   "id": "f4b06e86",
   "metadata": {},
   "outputs": [],
   "source": [
    "# Bubble Short \n",
    "\n",
    "def bubblesort(elements):\n",
    "    # Looping from sizr of array from last index[-1] to index [0]\n",
    "    for n in range(len(elements)-1, 0, -1):\n",
    "        for i in range(n):\n",
    "            if elements[i] > elements[i +1]:\n",
    "                # SWapping data if the elements us less than next elements in the array\n",
    "                elements = [39, 12, 18, 85, 72, 10, 2, 18]\n",
    "                \n",
    "                print(\"Unshorted list is,\")\n",
    "                print( elements)\n",
    "                bubblesorts(elements)\n",
    "                print(\"Sorted Array is,\")\n",
    "                print(elements)\n",
    "                \n",
    "            "
   ]
  },
  {
   "cell_type": "code",
   "execution_count": null,
   "id": "48abc6e9",
   "metadata": {},
   "outputs": [],
   "source": [
    "#use can use this to sort string too\n",
    "def bubble_sort(elements):\n",
    "    size = len(element)\n",
    "    \n",
    "    for i in range(size-1):\n",
    "        swapped = False\n",
    "        for j in range(size-1-i):\n",
    "            if elements[j] > elements[J+1]:\n",
    "                tmp = elements[j]\n",
    "                elements[j] = elements[j+1]\n",
    "                elements[j + 1] = tmp\n",
    "                swapped = True\n",
    "                \n",
    "                \n",
    "            if not swapped:\n",
    "                break\n",
    "                \n",
    "    if __name__  == '__main__':\n",
    "        elements = [5, 9, 2, 1, 67, 34, 88, 34]\n",
    "        elements = [1, 2, 3, 4, 2]\n",
    "        elements = [\"mona\", \"dhaval\",\"aamir\", \"tina\", \"chang\"]\n",
    "        \n",
    "        bubble_sort(elements)\n",
    "        print(elements)"
   ]
  },
  {
   "cell_type": "code",
   "execution_count": null,
   "id": "d0cd740c",
   "metadata": {},
   "outputs": [],
   "source": [
    "print(elements)"
   ]
  },
  {
   "cell_type": "code",
   "execution_count": 28,
   "id": "5bdbfd98",
   "metadata": {},
   "outputs": [
    {
     "ename": "SyntaxError",
     "evalue": "unexpected character after line continuation character (<ipython-input-28-6cd8bbe364ed>, line 30)",
     "output_type": "error",
     "traceback": [
      "\u001b[1;36m  File \u001b[1;32m\"<ipython-input-28-6cd8bbe364ed>\"\u001b[1;36m, line \u001b[1;32m30\u001b[0m\n\u001b[1;33m    print(f'Given unsorted array, *elements, sep='\\n')\u001b[0m\n\u001b[1;37m                                                      ^\u001b[0m\n\u001b[1;31mSyntaxError\u001b[0m\u001b[1;31m:\u001b[0m unexpected character after line continuation character\n"
     ]
    }
   ],
   "source": [
    "def maultileval_selection_sort(elements, sort_by_list):\n",
    "    for sort_by in sort_by_list[-1::-1]:\n",
    "        for x in range(len(elements)):\n",
    "            min_index = x\n",
    "            for y in range(x, len(elements)):\n",
    "                if elements[y][sort_by] < elements[min_index][sort_by]:\n",
    "                    min_index = y\n",
    "                if x != main_index:\n",
    "                    elements[x], elements[min_index] = elements[min_index], elements[x]\n",
    "  \n",
    "if __name__ =='__main__':\n",
    "    elements = [\n",
    "        {'First Name': 'Raj', 'Last Name': 'Nayyar'},\n",
    "        {'First Name':'Suraj','Last Name':'Sharma'},\n",
    "        {'First Name':'Karan','Last Name':'Kumar'},\n",
    "        {'First Name':'Jade','Last Name':'Thakur'},\n",
    "        {'First Name':'Raj','Last Name':'Sharma'},\n",
    "        {'First Name':'Raj','Last Nmae':'Palay'},\n",
    "        {'First Name':'Kiran','Last Name':'Sanon'},\n",
    "        {'First Name':'Arman','Last Name':'Kamla'},\n",
    "        {'First Name':'Jaya','Last Name':'Sharma'},\n",
    "        {'First Name':'Ingrid','Last Name':'Galore'},\n",
    "        {'First Name':'jaya','Last Name':'seth'},\n",
    "        {'First Name':'Arman','Last Name':'Dadra'},\n",
    "        {'First Name':'Ingrid','Last Name':'Maverick'},\n",
    "        {'First Name':'Ahana','Last Name': 'Arora'}\n",
    "        \n",
    "  ]\n",
    "    \n",
    "    print(f'Given unsorted array, *elements, sep='\\n')\n",
    "    mutilevel_selecion_sort(\n",
    "       elements, ['First Name','Last Name'])\n",
    "          \n",
    "    print(f'Array after Multi-Level Sorting:,*elements, sep='\\n')\n",
    "          \n",
    "          "
   ]
  },
  {
   "cell_type": "markdown",
   "id": "c81e566e",
   "metadata": {},
   "source": [
    "# Selection Shorting array."
   ]
  },
  {
   "cell_type": "code",
   "execution_count": 29,
   "id": "efa6694a",
   "metadata": {},
   "outputs": [],
   "source": [
    "def selection_sort(arr):\n",
    "    \n",
    "    if __name__ == '__main__':\n",
    "        elements = [78, 12, 15, 8, 61, 53, 23, 27]\n",
    "        selection_sort(elements)\n",
    "        print(elements)\n",
    "        "
   ]
  },
  {
   "cell_type": "code",
   "execution_count": 32,
   "id": "838a895a",
   "metadata": {},
   "outputs": [
    {
     "name": "stdout",
     "output_type": "stream",
     "text": [
      "10000000\n"
     ]
    }
   ],
   "source": [
    "def find_main_element(arr):\n",
    "    main = 10000000\n",
    "    for i in range(len(arr)):\n",
    "        if arr[i] < main:\n",
    "            min = arr[i]\n",
    "    return main\n",
    "\n",
    "if __name__=='__main__':\n",
    "    elements = [78, 12, 15,   2, 8, 61, 53, 23, 27]\n",
    "    print(find_main_element(elements))"
   ]
  },
  {
   "cell_type": "code",
   "execution_count": 33,
   "id": "b6a7f893",
   "metadata": {},
   "outputs": [
    {
     "name": "stdout",
     "output_type": "stream",
     "text": [
      "10000000\n"
     ]
    }
   ],
   "source": [
    "if __name__=='__main__':\n",
    "    elements = [78, 12, 15,   2, 8, 61, 53, 23, 27]\n",
    "    print(find_main_element(elements))"
   ]
  },
  {
   "cell_type": "code",
   "execution_count": 37,
   "id": "30a7c80d",
   "metadata": {},
   "outputs": [],
   "source": [
    "def selection_sort(arr):\n",
    "    size = len(arr)\n",
    "    for i in range(size-1):\n",
    "        main_index = 1\n",
    "        for j in range(min_index+1,size):\n",
    "            if arr[j] < arr[min_index]:\n",
    "                main_index = j\n",
    "                \n",
    "            if i != min_index:\n",
    "                arr[i], arr[min_index] = arr[min_index], arr[i]\n",
    "                \n",
    "    if __name__ == '__main__':\n",
    "        test =[\n",
    "            [89, 78, 61, 53, 23, 21, 17, 12, 9, 7, 2, 1],\n",
    "            [],\n",
    "            [1,5,8,9],\n",
    "            [234, 3, 1, 56, 34, 12, 9, 12, 1300],\n",
    "            [78, 12, 15, 8, 61, 53, 23, 27],\n",
    "            [5]\n",
    "        \n",
    "            \n",
    "        ]\n",
    "        for elements in tests:\n",
    "            selection_sort(elements)\n",
    "            print(elements)"
   ]
  },
  {
   "cell_type": "code",
   "execution_count": 38,
   "id": "723410e9",
   "metadata": {},
   "outputs": [
    {
     "name": "stdout",
     "output_type": "stream",
     "text": [
      "15\n",
      "55\n"
     ]
    }
   ],
   "source": [
    "def find_sum(n):\n",
    "    if n==1:\n",
    "        return 1\n",
    "    return n + find_sum(n-1)\n",
    "\n",
    "def fib(n):\n",
    "    # 0, 1, 1, 2,3,5,8 < -- fibonacci numbers\n",
    "    # ------------\n",
    "    # 0, 1, 2, 3, 4, 5, 6 < --index\n",
    "    if n==0 or n ==1:\n",
    "        return n\n",
    "    return fib(n-1) + fib(n-2)\n",
    "\n",
    "if __name__ =='__main__':\n",
    "    print(find_sum(5))\n",
    "    print(fib(10))"
   ]
  },
  {
   "cell_type": "code",
   "execution_count": 47,
   "id": "670985cd",
   "metadata": {},
   "outputs": [
    {
     "name": "stdout",
     "output_type": "stream",
     "text": [
      "15\n",
      "610\n"
     ]
    }
   ],
   "source": [
    "  def find_sum(n):\n",
    "        if n == 1:\n",
    "            return 1\n",
    "        return n + find_sum(n-1)\n",
    "    \n",
    "def fib(n):\n",
    "        # 0, 1, 1, 2, 3, 5, 8 <-- fibonacci numbers\n",
    "        # --------------\n",
    "        # 0, 1, 1, 2,3, 5, 8 <--- index\n",
    "        if n==0 or n==1:\n",
    "            return n\n",
    "        return fib(n-1) + fib(n-2)\n",
    "    \n",
    "if __name__=='__main__':\n",
    "        print(find_sum(5))\n",
    "        print(fib(15))"
   ]
  },
  {
   "cell_type": "code",
   "execution_count": 48,
   "id": "f7787002",
   "metadata": {},
   "outputs": [],
   "source": [
    "def sumDigits(n):\n",
    "    if n == 0:\n",
    "        return 0\n",
    "    else:\n",
    "        return n % 10 + sumDigits(int(n / 10))\n",
    "    \n",
    "    print(sumDights(345))\n",
    "    print(sumDights(45))"
   ]
  },
  {
   "cell_type": "code",
   "execution_count": 50,
   "id": "f5285c58",
   "metadata": {},
   "outputs": [],
   "source": [
    "def sumDigits(n):\n",
    "    if n == 0:\n",
    "        return 0\n",
    "    else:\n",
    "        return n % 10 + sumDigits(int(n / 10))\n",
    "    \n",
    "    print(SumDigits(345))\n",
    "    print(SumDigits(45))"
   ]
  },
  {
   "cell_type": "code",
   "execution_count": null,
   "id": "9748fd7a",
   "metadata": {},
   "outputs": [],
   "source": []
  }
 ],
 "metadata": {
  "kernelspec": {
   "display_name": "Python 3",
   "language": "python",
   "name": "python3"
  },
  "language_info": {
   "codemirror_mode": {
    "name": "ipython",
    "version": 3
   },
   "file_extension": ".py",
   "mimetype": "text/x-python",
   "name": "python",
   "nbconvert_exporter": "python",
   "pygments_lexer": "ipython3",
   "version": "3.8.8"
  }
 },
 "nbformat": 4,
 "nbformat_minor": 5
}
