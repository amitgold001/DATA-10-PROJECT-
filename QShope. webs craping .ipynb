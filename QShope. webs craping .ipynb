{
 "cells": [
  {
   "cell_type": "code",
   "execution_count": 60,
   "id": "4a1ca38e",
   "metadata": {},
   "outputs": [],
   "source": [
    "import urllib\n",
    "from bs4 import BeautifulSoup"
   ]
  },
  {
   "cell_type": "code",
   "execution_count": 61,
   "id": "b9e55264",
   "metadata": {},
   "outputs": [],
   "source": [
    "web_url = \"https://yoshops.com/t/food\"\n",
    "page = urllib.request.urlopen(web_url)"
   ]
  },
  {
   "cell_type": "code",
   "execution_count": 62,
   "id": "1f84c877",
   "metadata": {},
   "outputs": [],
   "source": [
    "sp = BeautifulSoup(page, 'html.parser')"
   ]
  },
  {
   "cell_type": "code",
   "execution_count": null,
   "id": "39ddce97",
   "metadata": {},
   "outputs": [],
   "source": []
  },
  {
   "cell_type": "code",
   "execution_count": 63,
   "id": "7976f79d",
   "metadata": {},
   "outputs": [],
   "source": [
    "product_container = sp.find_all('div', {'class': \"product\"})"
   ]
  },
  {
   "cell_type": "markdown",
   "id": "e87db1d1",
   "metadata": {},
   "source": [
    "# image url"
   ]
  },
  {
   "cell_type": "code",
   "execution_count": 64,
   "id": "105812f9",
   "metadata": {},
   "outputs": [],
   "source": [
    "imgUrl_list = []\n",
    "for imgUrl_finder in product_container:\n",
    "    iuf = imgUrl_finder.find('img')['src']\n",
    "    if (iuf.find('https') == -1):\n",
    "        imgUrl_list.append(imgUrl_finder.find('img')['src'])"
   ]
  },
  {
   "cell_type": "code",
   "execution_count": 65,
   "id": "21468150",
   "metadata": {},
   "outputs": [
    {
     "data": {
      "text/plain": [
       "['//onlinestore.wsimg.com/assets/noimage/product-5fec99477aebb10bac85d82665ec1497de4536cda3279e59089555c45cf589fa.png',\n",
       " '//onlinestore.wsimg.com/assets/noimage/product-5fec99477aebb10bac85d82665ec1497de4536cda3279e59089555c45cf589fa.png',\n",
       " '//onlinestore.wsimg.com/assets/noimage/product-5fec99477aebb10bac85d82665ec1497de4536cda3279e59089555c45cf589fa.png',\n",
       " '//onlinestore.wsimg.com/assets/noimage/product-5fec99477aebb10bac85d82665ec1497de4536cda3279e59089555c45cf589fa.png',\n",
       " '//onlinestore.wsimg.com/assets/noimage/product-5fec99477aebb10bac85d82665ec1497de4536cda3279e59089555c45cf589fa.png',\n",
       " '//onlinestore.wsimg.com/assets/noimage/product-5fec99477aebb10bac85d82665ec1497de4536cda3279e59089555c45cf589fa.png',\n",
       " '//onlinestore.wsimg.com/assets/noimage/product-5fec99477aebb10bac85d82665ec1497de4536cda3279e59089555c45cf589fa.png',\n",
       " '//onlinestore.wsimg.com/assets/noimage/product-5fec99477aebb10bac85d82665ec1497de4536cda3279e59089555c45cf589fa.png',\n",
       " '//onlinestore.wsimg.com/assets/noimage/product-5fec99477aebb10bac85d82665ec1497de4536cda3279e59089555c45cf589fa.png',\n",
       " '//onlinestore.wsimg.com/assets/noimage/product-5fec99477aebb10bac85d82665ec1497de4536cda3279e59089555c45cf589fa.png',\n",
       " '//onlinestore.wsimg.com/assets/noimage/product-5fec99477aebb10bac85d82665ec1497de4536cda3279e59089555c45cf589fa.png',\n",
       " '//onlinestore.wsimg.com/assets/noimage/product-5fec99477aebb10bac85d82665ec1497de4536cda3279e59089555c45cf589fa.png']"
      ]
     },
     "execution_count": 65,
     "metadata": {},
     "output_type": "execute_result"
    }
   ],
   "source": [
    "imgUrl_list"
   ]
  },
  {
   "cell_type": "code",
   "execution_count": null,
   "id": "cd82deea",
   "metadata": {},
   "outputs": [],
   "source": []
  },
  {
   "cell_type": "markdown",
   "id": "f4d90ece",
   "metadata": {},
   "source": [
    "# product url"
   ]
  },
  {
   "cell_type": "code",
   "execution_count": 66,
   "id": "0d4ae039",
   "metadata": {},
   "outputs": [
    {
     "data": {
      "text/plain": [
       "'https://yoshops.com/t/food'"
      ]
     },
     "execution_count": 66,
     "metadata": {},
     "output_type": "execute_result"
    }
   ],
   "source": [
    "web_url"
   ]
  },
  {
   "cell_type": "code",
   "execution_count": 67,
   "id": "0c856d2c",
   "metadata": {},
   "outputs": [],
   "source": [
    "url_list = []\n",
    "for url_finder in product_container:\n",
    "    uf = url_finder.find('img')['src']\n",
    "    if (uf.find('https') == -1):\n",
    "        url_container = url_finder.find('span', {'class': \"product-title\"})\n",
    "        url_list.append(web_url + url_container['href'])"
   ]
  },
  {
   "cell_type": "code",
   "execution_count": 68,
   "id": "cf4c7c9a",
   "metadata": {},
   "outputs": [
    {
     "data": {
      "text/plain": [
       "['https://yoshops.com/t/food/products/river-prawn-small-4cm-250gm-berhampur',\n",
       " 'https://yoshops.com/t/food/products/rohu-river-fish-raw-1kg-berhampur',\n",
       " 'https://yoshops.com/t/food/products/rohu-river-fish-cutting-no-head-1kg-berhampur',\n",
       " 'https://yoshops.com/t/food/products/vakura-catla-river-fish-raw-1kg-berhampur',\n",
       " 'https://yoshops.com/t/food/products/river-prawn-raw-big-12cm-250gm-berhampur',\n",
       " 'https://yoshops.com/t/food/products/river-prawn-raw-middium-6cm-250gm-berhampur',\n",
       " 'https://yoshops.com/t/food/products/river-prawn-raw-big-12cm-500gm-berhampur',\n",
       " 'https://yoshops.com/t/food/products/river-prawn-raw-middium-6cm-500gm-berhampur',\n",
       " 'https://yoshops.com/t/food/products/river-prawn-small-4cm-500gm-berhampur',\n",
       " 'https://yoshops.com/t/food/products/cooking-oil-1liter-berhampur',\n",
       " 'https://yoshops.com/t/food/products/atta-1kg-berhampur',\n",
       " 'https://yoshops.com/t/food/products/sweet-pickel-1kg-berhampur']"
      ]
     },
     "execution_count": 68,
     "metadata": {},
     "output_type": "execute_result"
    }
   ],
   "source": [
    "url_list"
   ]
  },
  {
   "cell_type": "code",
   "execution_count": null,
   "id": "bb49f4db",
   "metadata": {},
   "outputs": [],
   "source": []
  },
  {
   "cell_type": "markdown",
   "id": "1dea6a43",
   "metadata": {},
   "source": [
    "# product title"
   ]
  },
  {
   "cell_type": "code",
   "execution_count": 69,
   "id": "88923bd4",
   "metadata": {},
   "outputs": [],
   "source": [
    "title_list = []\n",
    "for title_finder in product_container:\n",
    "    tf = title_finder.find('img')['src']\n",
    "    if (tf.find('https') == -1):\n",
    "        title_container = title_finder.find('span', {'class': \"product-title\"})\n",
    "        title_list.append(title_container.text.split('-')[0])"
   ]
  },
  {
   "cell_type": "code",
   "execution_count": 70,
   "id": "4cf62b3c",
   "metadata": {},
   "outputs": [
    {
     "data": {
      "text/plain": [
       "['River Prawn Small',\n",
       " 'Rohu River Fish Raw 1Kg(Berhampur)',\n",
       " 'Rohu River Fish Cutting(No Head) 1Kg(Berhampur)',\n",
       " 'Vakura Catla River Fish Raw 1Kg(Berhampur)',\n",
       " 'River Prawn Raw Big',\n",
       " 'River Prawn Raw Middium',\n",
       " 'River Prawn Raw Big',\n",
       " 'River Prawn Raw Middium',\n",
       " 'River Prawn Small',\n",
       " 'Cooking OiL 1Liter(Berhampur)',\n",
       " 'ATTA 1Kg(Berhampur)',\n",
       " 'Sweet Pickel 1Kg(Berhampur)']"
      ]
     },
     "execution_count": 70,
     "metadata": {},
     "output_type": "execute_result"
    }
   ],
   "source": [
    "title_list"
   ]
  },
  {
   "cell_type": "code",
   "execution_count": null,
   "id": "e353b03b",
   "metadata": {},
   "outputs": [],
   "source": []
  },
  {
   "cell_type": "code",
   "execution_count": null,
   "id": "67607573",
   "metadata": {},
   "outputs": [],
   "source": []
  },
  {
   "cell_type": "code",
   "execution_count": 71,
   "id": "094b85cb",
   "metadata": {},
   "outputs": [],
   "source": [
    "# title_list1 = []\n",
    "# for title_finder in product_container:\n",
    "#     tf = title_finder.find('img')['src']\n",
    "#     if (tf.find('https') == -1):\n",
    "#         utt = title_finder.find('span', {'class': \"product-title\"})\n",
    "#         if utt.find('-') == -1:\n",
    "#             title_list1.append(utt.text.split('1Kg')[-1])\n",
    "#         else:\n",
    "#             continue"
   ]
  },
  {
   "cell_type": "code",
   "execution_count": 72,
   "id": "d7da1e98",
   "metadata": {},
   "outputs": [],
   "source": [
    "# title_list2 = []\n",
    "# for title_finder in product_container:\n",
    "#     tf = title_finder.find('img')['src']\n",
    "#     if (tf.find('https') == -1):\n",
    "#         utt = title_finder.find('span', {'class': \"product-title\"})\n",
    "#         if (utt.find('-') != -1):\n",
    "#             title_list2.append(utt.text.split('-')[0])\n",
    "#         else:\n",
    "#             continue"
   ]
  },
  {
   "cell_type": "code",
   "execution_count": null,
   "id": "06052b76",
   "metadata": {},
   "outputs": [],
   "source": []
  },
  {
   "cell_type": "code",
   "execution_count": null,
   "id": "2fbb022f",
   "metadata": {},
   "outputs": [],
   "source": []
  },
  {
   "cell_type": "markdown",
   "id": "ae612559",
   "metadata": {},
   "source": [
    "# product details"
   ]
  },
  {
   "cell_type": "code",
   "execution_count": 73,
   "id": "0ccbc0c3",
   "metadata": {},
   "outputs": [],
   "source": [
    "details_list = []\n",
    "for details_finder in product_container:\n",
    "    df = details_finder.find('img')['src']\n",
    "    if (df.find('https') == -1):\n",
    "        details_container = details_finder.find('span', {'class': \"product-title\"})\n",
    "        details_list.append(details_container.text)"
   ]
  },
  {
   "cell_type": "code",
   "execution_count": 74,
   "id": "34df8704",
   "metadata": {},
   "outputs": [
    {
     "data": {
      "text/plain": [
       "['River Prawn Small- 4cm 250gm(Berhampur)',\n",
       " 'Rohu River Fish Raw 1Kg(Berhampur)',\n",
       " 'Rohu River Fish Cutting(No Head) 1Kg(Berhampur)',\n",
       " 'Vakura Catla River Fish Raw 1Kg(Berhampur)',\n",
       " 'River Prawn Raw Big-12cm 250gm(Berhampur)',\n",
       " 'River Prawn Raw Middium- 6cm 250gm(Berhampur)',\n",
       " 'River Prawn Raw Big-12cm 500gm(Berhampur)',\n",
       " 'River Prawn Raw Middium- 6cm 500gm(Berhampur)',\n",
       " 'River Prawn Small- 4cm 500gm(Berhampur)',\n",
       " 'Cooking OiL 1Liter(Berhampur)',\n",
       " 'ATTA 1Kg(Berhampur)',\n",
       " 'Sweet Pickel 1Kg(Berhampur)']"
      ]
     },
     "execution_count": 74,
     "metadata": {},
     "output_type": "execute_result"
    }
   ],
   "source": [
    "details_list"
   ]
  },
  {
   "cell_type": "code",
   "execution_count": null,
   "id": "6e9d6fd3",
   "metadata": {},
   "outputs": [],
   "source": []
  },
  {
   "cell_type": "markdown",
   "id": "a209196e",
   "metadata": {},
   "source": [
    "# contact details"
   ]
  },
  {
   "cell_type": "code",
   "execution_count": 75,
   "id": "dcb2daf8",
   "metadata": {},
   "outputs": [
    {
     "data": {
      "text/plain": [
       "12"
      ]
     },
     "execution_count": 75,
     "metadata": {},
     "output_type": "execute_result"
    }
   ],
   "source": [
    "len(details_list)"
   ]
  },
  {
   "cell_type": "code",
   "execution_count": 76,
   "id": "687b6996",
   "metadata": {},
   "outputs": [],
   "source": [
    "contact = sp.find('span', {'class': \"tagline\"})"
   ]
  },
  {
   "cell_type": "code",
   "execution_count": 77,
   "id": "60fb0b9c",
   "metadata": {},
   "outputs": [],
   "source": [
    "contact_list = []\n",
    "for i in range(len(details_list)):\n",
    "    cont = contact.text\n",
    "    contact_list.append(cont.split(sep=None)[1])"
   ]
  },
  {
   "cell_type": "code",
   "execution_count": 1,
   "id": "7cf4f162",
   "metadata": {},
   "outputs": [
    {
     "ename": "NameError",
     "evalue": "name 'contact_list' is not defined",
     "output_type": "error",
     "traceback": [
      "\u001b[1;31m---------------------------------------------------------------------------\u001b[0m",
      "\u001b[1;31mNameError\u001b[0m                                 Traceback (most recent call last)",
      "\u001b[1;32m<ipython-input-1-8a3e41107e60>\u001b[0m in \u001b[0;36m<module>\u001b[1;34m\u001b[0m\n\u001b[1;32m----> 1\u001b[1;33m \u001b[0mcontact_list\u001b[0m\u001b[1;33m\u001b[0m\u001b[1;33m\u001b[0m\u001b[0m\n\u001b[0m",
      "\u001b[1;31mNameError\u001b[0m: name 'contact_list' is not defined"
     ]
    }
   ],
   "source": [
    "contact_list"
   ]
  },
  {
   "cell_type": "code",
   "execution_count": null,
   "id": "f1cfc72d",
   "metadata": {},
   "outputs": [],
   "source": []
  },
  {
   "cell_type": "markdown",
   "id": "cab6e849",
   "metadata": {},
   "source": [
    "# product price"
   ]
  },
  {
   "cell_type": "code",
   "execution_count": 79,
   "id": "2693d115",
   "metadata": {},
   "outputs": [],
   "source": [
    "price_list_old = []\n",
    "price_list_new = []\n",
    "for price_finder in product_container:\n",
    "    pf = price_finder.find('img')['src']\n",
    "    if (pf.find('https') == -1):\n",
    "        price_container = price_finder.find('div', {'class': \"product-price\"})\n",
    "        price_list_old.append(price_container.text.split('.')[0] + '.00')\n",
    "        price_list_new.append(''₹'' + price_container.text.split('00₹')[1])"
   ]
  },
  {
   "cell_type": "code",
   "execution_count": 80,
   "id": "0b9b496f",
   "metadata": {},
   "outputs": [
    {
     "data": {
      "text/plain": [
       "['₹90.00',\n",
       " '₹180.00',\n",
       " '₹300.00',\n",
       " '₹180.00',\n",
       " '₹130.00',\n",
       " '₹100.00',\n",
       " '₹260.00',\n",
       " '₹200.00',\n",
       " '₹150.00',\n",
       " '₹180.00',\n",
       " '₹80.00',\n",
       " '₹150.00']"
      ]
     },
     "execution_count": 80,
     "metadata": {},
     "output_type": "execute_result"
    }
   ],
   "source": [
    "price_list_old"
   ]
  },
  {
   "cell_type": "code",
   "execution_count": 81,
   "id": "5fe39e27",
   "metadata": {},
   "outputs": [
    {
     "data": {
      "text/plain": [
       "['₹59.00',\n",
       " '₹149.00',\n",
       " '₹269.00',\n",
       " '₹149.00',\n",
       " '₹99.00',\n",
       " '₹79.00',\n",
       " '₹199.00',\n",
       " '₹159.00',\n",
       " '₹99.00',\n",
       " '₹99.00',\n",
       " '₹49.00',\n",
       " '₹99.00']"
      ]
     },
     "execution_count": 81,
     "metadata": {},
     "output_type": "execute_result"
    }
   ],
   "source": [
    "price_list_new"
   ]
  },
  {
   "cell_type": "code",
   "execution_count": null,
   "id": "b7debf87",
   "metadata": {},
   "outputs": [],
   "source": []
  },
  {
   "cell_type": "code",
   "execution_count": 82,
   "id": "a2627e10",
   "metadata": {},
   "outputs": [],
   "source": [
    "import pandas as pd"
   ]
  },
  {
   "cell_type": "code",
   "execution_count": 83,
   "id": "0cb9dcd3",
   "metadata": {},
   "outputs": [],
   "source": [
    "data_dict = {'Image URL': imgUrl_list, 'Item Name': title_list, 'Item Detail': details_list, 'Old Price': price_list_old, \n",
    "             'New Price': price_list_new, 'Contact Person': contact_list, 'URL': url_list}"
   ]
  },
  {
   "cell_type": "code",
   "execution_count": 84,
   "id": "c7b898af",
   "metadata": {},
   "outputs": [
    {
     "data": {
      "text/html": [
       "<div>\n",
       "<style scoped>\n",
       "    .dataframe tbody tr th:only-of-type {\n",
       "        vertical-align: middle;\n",
       "    }\n",
       "\n",
       "    .dataframe tbody tr th {\n",
       "        vertical-align: top;\n",
       "    }\n",
       "\n",
       "    .dataframe thead th {\n",
       "        text-align: right;\n",
       "    }\n",
       "</style>\n",
       "<table border=\"1\" class=\"dataframe\">\n",
       "  <thead>\n",
       "    <tr style=\"text-align: right;\">\n",
       "      <th></th>\n",
       "      <th>Image URL</th>\n",
       "      <th>Item Name</th>\n",
       "      <th>Item Detail</th>\n",
       "      <th>Old Price</th>\n",
       "      <th>New Price</th>\n",
       "      <th>Contact Person</th>\n",
       "      <th>URL</th>\n",
       "    </tr>\n",
       "  </thead>\n",
       "  <tbody>\n",
       "    <tr>\n",
       "      <th>0</th>\n",
       "      <td>//onlinestore.wsimg.com/assets/noimage/product...</td>\n",
       "      <td>River Prawn Small</td>\n",
       "      <td>River Prawn Small- 4cm 250gm(Berhampur)</td>\n",
       "      <td>₹90.00</td>\n",
       "      <td>₹59.00</td>\n",
       "      <td>+91-9080749858</td>\n",
       "      <td>https://yoshops.com/t/food/products/river-praw...</td>\n",
       "    </tr>\n",
       "    <tr>\n",
       "      <th>1</th>\n",
       "      <td>//onlinestore.wsimg.com/assets/noimage/product...</td>\n",
       "      <td>Rohu River Fish Raw 1Kg(Berhampur)</td>\n",
       "      <td>Rohu River Fish Raw 1Kg(Berhampur)</td>\n",
       "      <td>₹180.00</td>\n",
       "      <td>₹149.00</td>\n",
       "      <td>+91-9080749858</td>\n",
       "      <td>https://yoshops.com/t/food/products/rohu-river...</td>\n",
       "    </tr>\n",
       "    <tr>\n",
       "      <th>2</th>\n",
       "      <td>//onlinestore.wsimg.com/assets/noimage/product...</td>\n",
       "      <td>Rohu River Fish Cutting(No Head) 1Kg(Berhampur)</td>\n",
       "      <td>Rohu River Fish Cutting(No Head) 1Kg(Berhampur)</td>\n",
       "      <td>₹300.00</td>\n",
       "      <td>₹269.00</td>\n",
       "      <td>+91-9080749858</td>\n",
       "      <td>https://yoshops.com/t/food/products/rohu-river...</td>\n",
       "    </tr>\n",
       "    <tr>\n",
       "      <th>3</th>\n",
       "      <td>//onlinestore.wsimg.com/assets/noimage/product...</td>\n",
       "      <td>Vakura Catla River Fish Raw 1Kg(Berhampur)</td>\n",
       "      <td>Vakura Catla River Fish Raw 1Kg(Berhampur)</td>\n",
       "      <td>₹180.00</td>\n",
       "      <td>₹149.00</td>\n",
       "      <td>+91-9080749858</td>\n",
       "      <td>https://yoshops.com/t/food/products/vakura-cat...</td>\n",
       "    </tr>\n",
       "    <tr>\n",
       "      <th>4</th>\n",
       "      <td>//onlinestore.wsimg.com/assets/noimage/product...</td>\n",
       "      <td>River Prawn Raw Big</td>\n",
       "      <td>River Prawn Raw Big-12cm 250gm(Berhampur)</td>\n",
       "      <td>₹130.00</td>\n",
       "      <td>₹99.00</td>\n",
       "      <td>+91-9080749858</td>\n",
       "      <td>https://yoshops.com/t/food/products/river-praw...</td>\n",
       "    </tr>\n",
       "    <tr>\n",
       "      <th>5</th>\n",
       "      <td>//onlinestore.wsimg.com/assets/noimage/product...</td>\n",
       "      <td>River Prawn Raw Middium</td>\n",
       "      <td>River Prawn Raw Middium- 6cm 250gm(Berhampur)</td>\n",
       "      <td>₹100.00</td>\n",
       "      <td>₹79.00</td>\n",
       "      <td>+91-9080749858</td>\n",
       "      <td>https://yoshops.com/t/food/products/river-praw...</td>\n",
       "    </tr>\n",
       "    <tr>\n",
       "      <th>6</th>\n",
       "      <td>//onlinestore.wsimg.com/assets/noimage/product...</td>\n",
       "      <td>River Prawn Raw Big</td>\n",
       "      <td>River Prawn Raw Big-12cm 500gm(Berhampur)</td>\n",
       "      <td>₹260.00</td>\n",
       "      <td>₹199.00</td>\n",
       "      <td>+91-9080749858</td>\n",
       "      <td>https://yoshops.com/t/food/products/river-praw...</td>\n",
       "    </tr>\n",
       "    <tr>\n",
       "      <th>7</th>\n",
       "      <td>//onlinestore.wsimg.com/assets/noimage/product...</td>\n",
       "      <td>River Prawn Raw Middium</td>\n",
       "      <td>River Prawn Raw Middium- 6cm 500gm(Berhampur)</td>\n",
       "      <td>₹200.00</td>\n",
       "      <td>₹159.00</td>\n",
       "      <td>+91-9080749858</td>\n",
       "      <td>https://yoshops.com/t/food/products/river-praw...</td>\n",
       "    </tr>\n",
       "    <tr>\n",
       "      <th>8</th>\n",
       "      <td>//onlinestore.wsimg.com/assets/noimage/product...</td>\n",
       "      <td>River Prawn Small</td>\n",
       "      <td>River Prawn Small- 4cm 500gm(Berhampur)</td>\n",
       "      <td>₹150.00</td>\n",
       "      <td>₹99.00</td>\n",
       "      <td>+91-9080749858</td>\n",
       "      <td>https://yoshops.com/t/food/products/river-praw...</td>\n",
       "    </tr>\n",
       "    <tr>\n",
       "      <th>9</th>\n",
       "      <td>//onlinestore.wsimg.com/assets/noimage/product...</td>\n",
       "      <td>Cooking OiL 1Liter(Berhampur)</td>\n",
       "      <td>Cooking OiL 1Liter(Berhampur)</td>\n",
       "      <td>₹180.00</td>\n",
       "      <td>₹99.00</td>\n",
       "      <td>+91-9080749858</td>\n",
       "      <td>https://yoshops.com/t/food/products/cooking-oi...</td>\n",
       "    </tr>\n",
       "    <tr>\n",
       "      <th>10</th>\n",
       "      <td>//onlinestore.wsimg.com/assets/noimage/product...</td>\n",
       "      <td>ATTA 1Kg(Berhampur)</td>\n",
       "      <td>ATTA 1Kg(Berhampur)</td>\n",
       "      <td>₹80.00</td>\n",
       "      <td>₹49.00</td>\n",
       "      <td>+91-9080749858</td>\n",
       "      <td>https://yoshops.com/t/food/products/atta-1kg-b...</td>\n",
       "    </tr>\n",
       "    <tr>\n",
       "      <th>11</th>\n",
       "      <td>//onlinestore.wsimg.com/assets/noimage/product...</td>\n",
       "      <td>Sweet Pickel 1Kg(Berhampur)</td>\n",
       "      <td>Sweet Pickel 1Kg(Berhampur)</td>\n",
       "      <td>₹150.00</td>\n",
       "      <td>₹99.00</td>\n",
       "      <td>+91-9080749858</td>\n",
       "      <td>https://yoshops.com/t/food/products/sweet-pick...</td>\n",
       "    </tr>\n",
       "  </tbody>\n",
       "</table>\n",
       "</div>"
      ],
      "text/plain": [
       "                                            Image URL  \\\n",
       "0   //onlinestore.wsimg.com/assets/noimage/product...   \n",
       "1   //onlinestore.wsimg.com/assets/noimage/product...   \n",
       "2   //onlinestore.wsimg.com/assets/noimage/product...   \n",
       "3   //onlinestore.wsimg.com/assets/noimage/product...   \n",
       "4   //onlinestore.wsimg.com/assets/noimage/product...   \n",
       "5   //onlinestore.wsimg.com/assets/noimage/product...   \n",
       "6   //onlinestore.wsimg.com/assets/noimage/product...   \n",
       "7   //onlinestore.wsimg.com/assets/noimage/product...   \n",
       "8   //onlinestore.wsimg.com/assets/noimage/product...   \n",
       "9   //onlinestore.wsimg.com/assets/noimage/product...   \n",
       "10  //onlinestore.wsimg.com/assets/noimage/product...   \n",
       "11  //onlinestore.wsimg.com/assets/noimage/product...   \n",
       "\n",
       "                                          Item Name  \\\n",
       "0                                 River Prawn Small   \n",
       "1                Rohu River Fish Raw 1Kg(Berhampur)   \n",
       "2   Rohu River Fish Cutting(No Head) 1Kg(Berhampur)   \n",
       "3        Vakura Catla River Fish Raw 1Kg(Berhampur)   \n",
       "4                               River Prawn Raw Big   \n",
       "5                           River Prawn Raw Middium   \n",
       "6                               River Prawn Raw Big   \n",
       "7                           River Prawn Raw Middium   \n",
       "8                                 River Prawn Small   \n",
       "9                     Cooking OiL 1Liter(Berhampur)   \n",
       "10                              ATTA 1Kg(Berhampur)   \n",
       "11                      Sweet Pickel 1Kg(Berhampur)   \n",
       "\n",
       "                                        Item Detail Old Price New Price  \\\n",
       "0           River Prawn Small- 4cm 250gm(Berhampur)    ₹90.00    ₹59.00   \n",
       "1                Rohu River Fish Raw 1Kg(Berhampur)   ₹180.00   ₹149.00   \n",
       "2   Rohu River Fish Cutting(No Head) 1Kg(Berhampur)   ₹300.00   ₹269.00   \n",
       "3        Vakura Catla River Fish Raw 1Kg(Berhampur)   ₹180.00   ₹149.00   \n",
       "4         River Prawn Raw Big-12cm 250gm(Berhampur)   ₹130.00    ₹99.00   \n",
       "5     River Prawn Raw Middium- 6cm 250gm(Berhampur)   ₹100.00    ₹79.00   \n",
       "6         River Prawn Raw Big-12cm 500gm(Berhampur)   ₹260.00   ₹199.00   \n",
       "7     River Prawn Raw Middium- 6cm 500gm(Berhampur)   ₹200.00   ₹159.00   \n",
       "8           River Prawn Small- 4cm 500gm(Berhampur)   ₹150.00    ₹99.00   \n",
       "9                     Cooking OiL 1Liter(Berhampur)   ₹180.00    ₹99.00   \n",
       "10                              ATTA 1Kg(Berhampur)    ₹80.00    ₹49.00   \n",
       "11                      Sweet Pickel 1Kg(Berhampur)   ₹150.00    ₹99.00   \n",
       "\n",
       "    Contact Person                                                URL  \n",
       "0   +91-9080749858  https://yoshops.com/t/food/products/river-praw...  \n",
       "1   +91-9080749858  https://yoshops.com/t/food/products/rohu-river...  \n",
       "2   +91-9080749858  https://yoshops.com/t/food/products/rohu-river...  \n",
       "3   +91-9080749858  https://yoshops.com/t/food/products/vakura-cat...  \n",
       "4   +91-9080749858  https://yoshops.com/t/food/products/river-praw...  \n",
       "5   +91-9080749858  https://yoshops.com/t/food/products/river-praw...  \n",
       "6   +91-9080749858  https://yoshops.com/t/food/products/river-praw...  \n",
       "7   +91-9080749858  https://yoshops.com/t/food/products/river-praw...  \n",
       "8   +91-9080749858  https://yoshops.com/t/food/products/river-praw...  \n",
       "9   +91-9080749858  https://yoshops.com/t/food/products/cooking-oi...  \n",
       "10  +91-9080749858  https://yoshops.com/t/food/products/atta-1kg-b...  \n",
       "11  +91-9080749858  https://yoshops.com/t/food/products/sweet-pick...  "
      ]
     },
     "execution_count": 84,
     "metadata": {},
     "output_type": "execute_result"
    }
   ],
   "source": [
    "validation_page = pd.DataFrame(data_dict)\n",
    "validation_page"
   ]
  },
  {
   "cell_type": "code",
   "execution_count": 85,
   "id": "14d2df55",
   "metadata": {},
   "outputs": [],
   "source": [
    "validation_page.to_excel('page_validation_VictorOtubure.xlsx', sheet_name='Task-1Page', index=False)"
   ]
  },
  {
   "cell_type": "code",
   "execution_count": null,
   "id": "f09b2e37",
   "metadata": {},
   "outputs": [],
   "source": []
  },
  {
   "cell_type": "code",
   "execution_count": null,
   "id": "49aca615",
   "metadata": {},
   "outputs": [],
   "source": []
  },
  {
   "cell_type": "code",
   "execution_count": null,
   "id": "fe49e250",
   "metadata": {},
   "outputs": [],
   "source": []
  },
  {
   "cell_type": "code",
   "execution_count": null,
   "id": "bf9b4f07",
   "metadata": {},
   "outputs": [],
   "source": []
  }
 ],
 "metadata": {
  "kernelspec": {
   "display_name": "Python 3",
   "language": "python",
   "name": "python3"
  },
  "language_info": {
   "codemirror_mode": {
    "name": "ipython",
    "version": 3
   },
   "file_extension": ".py",
   "mimetype": "text/x-python",
   "name": "python",
   "nbconvert_exporter": "python",
   "pygments_lexer": "ipython3",
   "version": "3.8.8"
  }
 },
 "nbformat": 4,
 "nbformat_minor": 5
}
