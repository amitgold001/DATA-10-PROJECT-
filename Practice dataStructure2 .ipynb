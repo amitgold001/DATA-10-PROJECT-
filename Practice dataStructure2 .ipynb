{
 "cells": [
  {
   "cell_type": "code",
   "execution_count": 1,
   "id": "7e379ce0",
   "metadata": {},
   "outputs": [
    {
     "data": {
      "text/plain": [
       "7.0"
      ]
     },
     "execution_count": 1,
     "metadata": {},
     "output_type": "execute_result"
    },
    {
     "data": {
      "text/plain": [
       "7.0"
      ]
     },
     "execution_count": 1,
     "metadata": {},
     "output_type": "execute_result"
    }
   ],
   "source": [
    "# Import a ibrary module\n",
    "import math\n",
    "# Use a function from the library.\n",
    "math.sqrt(49)"
   ]
  },
  {
   "cell_type": "code",
   "execution_count": 2,
   "id": "2ab1cba5",
   "metadata": {},
   "outputs": [
    {
     "name": "stdout",
     "output_type": "stream",
     "text": [
      "None\n",
      "None\n"
     ]
    }
   ],
   "source": [
    "def locate_card(cards, query):\n",
    "    pass\n",
    "\n",
    "cards = [13, 11, 10, 7, 4, 3, 1, 0]\n",
    "query = 7\n",
    "output= 3\n",
    "result = locate_card(cards, query)\n",
    "print(result)"
   ]
  },
  {
   "cell_type": "code",
   "execution_count": 3,
   "id": "12da305c",
   "metadata": {},
   "outputs": [
    {
     "data": {
      "text/plain": [
       "False"
      ]
     },
     "execution_count": 3,
     "metadata": {},
     "output_type": "execute_result"
    },
    {
     "data": {
      "text/plain": [
       "False"
      ]
     },
     "execution_count": 3,
     "metadata": {},
     "output_type": "execute_result"
    }
   ],
   "source": [
    "result == output"
   ]
  },
  {
   "cell_type": "code",
   "execution_count": 4,
   "id": "7d023074",
   "metadata": {},
   "outputs": [],
   "source": [
    "test = {'input':{'cards':[13, 11, 10, 7, 4, 3, 1, 0],\n",
    "                'query': 7\n",
    "                },'output': 3\n",
    "       }"
   ]
  },
  {
   "cell_type": "code",
   "execution_count": 5,
   "id": "75c3e233",
   "metadata": {},
   "outputs": [
    {
     "data": {
      "text/plain": [
       "False"
      ]
     },
     "execution_count": 5,
     "metadata": {},
     "output_type": "execute_result"
    },
    {
     "data": {
      "text/plain": [
       "False"
      ]
     },
     "execution_count": 5,
     "metadata": {},
     "output_type": "execute_result"
    }
   ],
   "source": [
    "locate_card(**test['input']) == test['output']"
   ]
  },
  {
   "cell_type": "code",
   "execution_count": 6,
   "id": "0b6108c5",
   "metadata": {},
   "outputs": [],
   "source": [
    "tests = []"
   ]
  },
  {
   "cell_type": "code",
   "execution_count": 7,
   "id": "4ea9a26b",
   "metadata": {},
   "outputs": [],
   "source": [
    "# query occurs in the midde\n",
    "tests.append(test)\n",
    "\n",
    "tests.append({\n",
    "    'input':{'cards':[13, 11, 10, 7, 4, 3, 1, 0],\n",
    "            'query': 1},\n",
    "      'output': 6\n",
    "})"
   ]
  },
  {
   "cell_type": "code",
   "execution_count": 8,
   "id": "43f55ebd",
   "metadata": {},
   "outputs": [],
   "source": [
    "# query is the first element \n",
    "tests.append({\n",
    "    'input': {\n",
    "        'cards' : [4, 2, 1, -1],\n",
    "        'query': 4\n",
    "    },\n",
    "    'output': 0\n",
    "})"
   ]
  },
  {
   "cell_type": "code",
   "execution_count": 9,
   "id": "841810fd",
   "metadata": {},
   "outputs": [],
   "source": [
    "# query is the last element \n",
    "tests.append({\n",
    "    'input': {\n",
    "        'cards': [3, -1, -9, -127],\n",
    "        'queary': -127\n",
    "    },\n",
    "    'output': 3\n",
    "\n",
    "})"
   ]
  },
  {
   "cell_type": "code",
   "execution_count": 10,
   "id": "51c07b0c",
   "metadata": {},
   "outputs": [],
   "source": [
    "# cards countain just one element, query\n",
    "tests.append({\n",
    "    'input':{\n",
    "        'cards': [6],\n",
    "        'query': 6\n",
    "    },\n",
    "    'output': 0\n",
    "})"
   ]
  },
  {
   "cell_type": "code",
   "execution_count": 11,
   "id": "a7ec607e",
   "metadata": {},
   "outputs": [],
   "source": [
    "# cards does not countain quary\n",
    "tests.append({\n",
    "    'input': {\n",
    "        'cards':[9, 7, 5, 2, -9],\n",
    "        'query': 4\n",
    "    },\n",
    "    'output': -1\n",
    "})"
   ]
  },
  {
   "cell_type": "code",
   "execution_count": 12,
   "id": "ff16aa29",
   "metadata": {},
   "outputs": [],
   "source": [
    "# cards empty\n",
    "tests.append({\n",
    "    'input': {\n",
    "        'cards': [],\n",
    "        'query': 7\n",
    "    },\n",
    "    'output': -1\n",
    "})"
   ]
  },
  {
   "cell_type": "code",
   "execution_count": 13,
   "id": "45e910a0",
   "metadata": {},
   "outputs": [],
   "source": [
    "# numbers can repeate in cards\n",
    "tests.append({\n",
    "    'input': {\n",
    "        'cards': [8, 8, 6, 6, 6, 6, 3, 2, 2, 2, 0, 0, 0],\n",
    "        'query': 3\n",
    "    },\n",
    "    'output': 7\n",
    "})"
   ]
  },
  {
   "cell_type": "code",
   "execution_count": 14,
   "id": "085e7ece",
   "metadata": {},
   "outputs": [],
   "source": [
    "# query occurs mutiple times\n",
    "tests.append({\n",
    "    'input': {\n",
    "        'cards': [8, 8, 6, 6, 6, 6, 6, 6, 3, 2, 2, 2, 0, 0, 0,],\n",
    "        'query': 6\n",
    "        \n",
    "    },\n",
    "    'output': 2\n",
    "})"
   ]
  },
  {
   "cell_type": "code",
   "execution_count": 15,
   "id": "242de48e",
   "metadata": {
    "scrolled": true
   },
   "outputs": [
    {
     "data": {
      "text/plain": [
       "[{'input': {'cards': [13, 11, 10, 7, 4, 3, 1, 0], 'query': 7}, 'output': 3},\n",
       " {'input': {'cards': [13, 11, 10, 7, 4, 3, 1, 0], 'query': 1}, 'output': 6},\n",
       " {'input': {'cards': [4, 2, 1, -1], 'query': 4}, 'output': 0},\n",
       " {'input': {'cards': [3, -1, -9, -127], 'queary': -127}, 'output': 3},\n",
       " {'input': {'cards': [6], 'query': 6}, 'output': 0},\n",
       " {'input': {'cards': [9, 7, 5, 2, -9], 'query': 4}, 'output': -1},\n",
       " {'input': {'cards': [], 'query': 7}, 'output': -1},\n",
       " {'input': {'cards': [8, 8, 6, 6, 6, 6, 3, 2, 2, 2, 0, 0, 0], 'query': 3},\n",
       "  'output': 7},\n",
       " {'input': {'cards': [8, 8, 6, 6, 6, 6, 6, 6, 3, 2, 2, 2, 0, 0, 0],\n",
       "   'query': 6},\n",
       "  'output': 2}]"
      ]
     },
     "execution_count": 15,
     "metadata": {},
     "output_type": "execute_result"
    },
    {
     "data": {
      "text/plain": [
       "[{'input': {'cards': [13, 11, 10, 7, 4, 3, 1, 0], 'query': 7}, 'output': 3},\n",
       " {'input': {'cards': [13, 11, 10, 7, 4, 3, 1, 0], 'query': 1}, 'output': 6},\n",
       " {'input': {'cards': [4, 2, 1, -1], 'query': 4}, 'output': 0},\n",
       " {'input': {'cards': [3, -1, -9, -127], 'queary': -127}, 'output': 3},\n",
       " {'input': {'cards': [6], 'query': 6}, 'output': 0},\n",
       " {'input': {'cards': [9, 7, 5, 2, -9], 'query': 4}, 'output': -1},\n",
       " {'input': {'cards': [], 'query': 7}, 'output': -1},\n",
       " {'input': {'cards': [8, 8, 6, 6, 6, 6, 3, 2, 2, 2, 0, 0, 0], 'query': 3},\n",
       "  'output': 7},\n",
       " {'input': {'cards': [8, 8, 6, 6, 6, 6, 6, 6, 3, 2, 2, 2, 0, 0, 0],\n",
       "   'query': 6},\n",
       "  'output': 2}]"
      ]
     },
     "execution_count": 15,
     "metadata": {},
     "output_type": "execute_result"
    }
   ],
   "source": [
    "# Let's  ooks the full set of test cases we have creates so far.\n",
    "tests"
   ]
  },
  {
   "cell_type": "code",
   "execution_count": 16,
   "id": "435b1511",
   "metadata": {},
   "outputs": [],
   "source": [
    " #''implement the solution and test it using example inputs.\n",
    "#Fix bugs, if any''' \n",
    "\n",
    "def locate_card(cards, query):\n",
    "    # Create a veriable positon with the value 0\n",
    "    position = 0\n",
    "    \n",
    "    #Set up a loop for repetition \n",
    "    while True:\n",
    "        # Check if element at the current positon match the query\n",
    "        if cards[postion] == query:\n",
    "            \n",
    "            # Answer found! Return and exit..\n",
    "            return position\n",
    "        \n",
    "        # Increment the postion\n",
    "        position += 1\n",
    "        \n",
    "        if positon ==len(cards):\n",
    "            \n",
    "            # Number not found, return -1\n",
    "            return -1"
   ]
  },
  {
   "cell_type": "code",
   "execution_count": 17,
   "id": "9af70326",
   "metadata": {},
   "outputs": [
    {
     "data": {
      "text/plain": [
       "{'input': {'cards': [13, 11, 10, 7, 4, 3, 1, 0], 'query': 7}, 'output': 3}"
      ]
     },
     "execution_count": 17,
     "metadata": {},
     "output_type": "execute_result"
    },
    {
     "data": {
      "text/plain": [
       "{'input': {'cards': [13, 11, 10, 7, 4, 3, 1, 0], 'query': 7}, 'output': 3}"
      ]
     },
     "execution_count": 17,
     "metadata": {},
     "output_type": "execute_result"
    }
   ],
   "source": [
    "# let's test the function  with the first case\n",
    "test"
   ]
  },
  {
   "cell_type": "code",
   "execution_count": 18,
   "id": "279cae50",
   "metadata": {},
   "outputs": [
    {
     "ename": "NameError",
     "evalue": "name 'postion' is not defined",
     "output_type": "error",
     "traceback": [
      "\u001b[1;31m---------------------------------------------------------------------------\u001b[0m",
      "\u001b[1;31mNameError\u001b[0m                                 Traceback (most recent call last)",
      "\u001b[1;32m<ipython-input-18-919999700363>\u001b[0m in \u001b[0;36m<module>\u001b[1;34m\u001b[0m\n\u001b[1;32m----> 1\u001b[1;33m \u001b[0mresult\u001b[0m \u001b[1;33m=\u001b[0m \u001b[0mlocate_card\u001b[0m\u001b[1;33m(\u001b[0m\u001b[0mtest\u001b[0m\u001b[1;33m[\u001b[0m\u001b[1;34m'input'\u001b[0m\u001b[1;33m]\u001b[0m\u001b[1;33m[\u001b[0m\u001b[1;34m'cards'\u001b[0m\u001b[1;33m]\u001b[0m\u001b[1;33m,\u001b[0m \u001b[0mtest\u001b[0m\u001b[1;33m[\u001b[0m\u001b[1;34m'input'\u001b[0m\u001b[1;33m]\u001b[0m\u001b[1;33m[\u001b[0m\u001b[1;34m'query'\u001b[0m\u001b[1;33m]\u001b[0m\u001b[1;33m)\u001b[0m\u001b[1;33m\u001b[0m\u001b[1;33m\u001b[0m\u001b[0m\n\u001b[0m\u001b[0;32m      2\u001b[0m \u001b[0mresult\u001b[0m\u001b[1;33m\u001b[0m\u001b[1;33m\u001b[0m\u001b[0m\n",
      "\u001b[1;32m<ipython-input-16-fb2591e675c8>\u001b[0m in \u001b[0;36mlocate_card\u001b[1;34m(cards, query)\u001b[0m\n\u001b[0;32m      9\u001b[0m    \u001b[1;32mwhile\u001b[0m \u001b[1;32mTrue\u001b[0m\u001b[1;33m:\u001b[0m\u001b[1;33m\u001b[0m\u001b[1;33m\u001b[0m\u001b[0m\n\u001b[0;32m     10\u001b[0m        \u001b[1;31m# Check if element at the current positon match the query\u001b[0m\u001b[1;33m\u001b[0m\u001b[1;33m\u001b[0m\u001b[1;33m\u001b[0m\u001b[0m\n\u001b[1;32m---> 11\u001b[1;33m        \u001b[1;32mif\u001b[0m \u001b[0mcards\u001b[0m\u001b[1;33m[\u001b[0m\u001b[0mpostion\u001b[0m\u001b[1;33m]\u001b[0m \u001b[1;33m==\u001b[0m \u001b[0mquery\u001b[0m\u001b[1;33m:\u001b[0m\u001b[1;33m\u001b[0m\u001b[1;33m\u001b[0m\u001b[0m\n\u001b[0m\u001b[0;32m     12\u001b[0m \u001b[1;33m\u001b[0m\u001b[0m\n\u001b[0;32m     13\u001b[0m            \u001b[1;31m# Answer found! Return and exit..\u001b[0m\u001b[1;33m\u001b[0m\u001b[1;33m\u001b[0m\u001b[1;33m\u001b[0m\u001b[0m\n",
      "\u001b[1;31mNameError\u001b[0m: name 'postion' is not defined"
     ]
    },
    {
     "ename": "NameError",
     "evalue": "name 'postion' is not defined",
     "output_type": "error",
     "traceback": [
      "\u001b[1;31m---------------------------------------------------------------------------\u001b[0m",
      "\u001b[1;31mNameError\u001b[0m                                 Traceback (most recent call last)",
      "\u001b[1;32m<ipython-input-18-919999700363>\u001b[0m in \u001b[0;36m<module>\u001b[1;34m\u001b[0m\n\u001b[1;32m----> 1\u001b[1;33m \u001b[0mresult\u001b[0m \u001b[1;33m=\u001b[0m \u001b[0mlocate_card\u001b[0m\u001b[1;33m(\u001b[0m\u001b[0mtest\u001b[0m\u001b[1;33m[\u001b[0m\u001b[1;34m'input'\u001b[0m\u001b[1;33m]\u001b[0m\u001b[1;33m[\u001b[0m\u001b[1;34m'cards'\u001b[0m\u001b[1;33m]\u001b[0m\u001b[1;33m,\u001b[0m \u001b[0mtest\u001b[0m\u001b[1;33m[\u001b[0m\u001b[1;34m'input'\u001b[0m\u001b[1;33m]\u001b[0m\u001b[1;33m[\u001b[0m\u001b[1;34m'query'\u001b[0m\u001b[1;33m]\u001b[0m\u001b[1;33m)\u001b[0m\u001b[1;33m\u001b[0m\u001b[1;33m\u001b[0m\u001b[0m\n\u001b[0m\u001b[0;32m      2\u001b[0m \u001b[0mresult\u001b[0m\u001b[1;33m\u001b[0m\u001b[1;33m\u001b[0m\u001b[0m\n",
      "\u001b[1;32m<ipython-input-16-fb2591e675c8>\u001b[0m in \u001b[0;36mlocate_card\u001b[1;34m(cards, query)\u001b[0m\n\u001b[0;32m      9\u001b[0m    \u001b[1;32mwhile\u001b[0m \u001b[1;32mTrue\u001b[0m\u001b[1;33m:\u001b[0m\u001b[1;33m\u001b[0m\u001b[1;33m\u001b[0m\u001b[0m\n\u001b[0;32m     10\u001b[0m        \u001b[1;31m# Check if element at the current positon match the query\u001b[0m\u001b[1;33m\u001b[0m\u001b[1;33m\u001b[0m\u001b[1;33m\u001b[0m\u001b[0m\n\u001b[1;32m---> 11\u001b[1;33m        \u001b[1;32mif\u001b[0m \u001b[0mcards\u001b[0m\u001b[1;33m[\u001b[0m\u001b[0mpostion\u001b[0m\u001b[1;33m]\u001b[0m \u001b[1;33m==\u001b[0m \u001b[0mquery\u001b[0m\u001b[1;33m:\u001b[0m\u001b[1;33m\u001b[0m\u001b[1;33m\u001b[0m\u001b[0m\n\u001b[0m\u001b[0;32m     12\u001b[0m \u001b[1;33m\u001b[0m\u001b[0m\n\u001b[0;32m     13\u001b[0m            \u001b[1;31m# Answer found! Return and exit..\u001b[0m\u001b[1;33m\u001b[0m\u001b[1;33m\u001b[0m\u001b[1;33m\u001b[0m\u001b[0m\n",
      "\u001b[1;31mNameError\u001b[0m: name 'postion' is not defined"
     ]
    }
   ],
   "source": [
    "result = locate_card(test['input']['cards'], test['input']['query'])\n",
    "result"
   ]
  },
  {
   "cell_type": "code",
   "execution_count": null,
   "id": "714f3ef0",
   "metadata": {},
   "outputs": [],
   "source": [
    "result = output "
   ]
  },
  {
   "cell_type": "code",
   "execution_count": null,
   "id": "a2837b40",
   "metadata": {},
   "outputs": [],
   "source": [
    "from.pythondsa import evaluate_test_case\n",
    "evaluate_test_case(lacate_card, test)"
   ]
  },
  {
   "cell_type": "code",
   "execution_count": null,
   "id": "9d650f28",
   "metadata": {},
   "outputs": [],
   "source": [
    "def locate_card(cards, query):\n",
    "    positin = 0\n",
    "    \n",
    "    print('cards:', cards)\n",
    "    print('query:', query)\n",
    "    \n",
    "    while True:\n",
    "        print('position:', position)\n",
    "        \n",
    "        if cards[position] == query:\n",
    "            return positon\n",
    "        \n",
    "        positioon += 1\n",
    "        if position == len(cards):\n",
    "            return -1"
   ]
  },
  {
   "cell_type": "code",
   "execution_count": null,
   "id": "f22acd20",
   "metadata": {},
   "outputs": [],
   "source": [
    "cards6 = tests[6]['input']['cards']\n",
    "query6 = tests[6]['input']['query']\n",
    "\n",
    "\n",
    "locate_card(cards6, query6)"
   ]
  },
  {
   "cell_type": "code",
   "execution_count": null,
   "id": "dbce90a1",
   "metadata": {},
   "outputs": [],
   "source": [
    "def locate_card(cards, query):\n",
    "    position = 0\n",
    "    while position < len(cards):\n",
    "        if cards[position] == query:\n",
    "            return position\n",
    "        position += 1\n",
    "        return -1"
   ]
  },
  {
   "cell_type": "code",
   "execution_count": null,
   "id": "69bb89db",
   "metadata": {},
   "outputs": [],
   "source": [
    "tests[6]"
   ]
  },
  {
   "cell_type": "code",
   "execution_count": null,
   "id": "930f8bc5",
   "metadata": {},
   "outputs": [],
   "source": [
    "locate_card(cards6, query6)"
   ]
  },
  {
   "cell_type": "code",
   "execution_count": null,
   "id": "b4cc8f33",
   "metadata": {},
   "outputs": [],
   "source": [
    "\n",
    "evaluate_test_cases(locate_card, tests)"
   ]
  },
  {
   "cell_type": "code",
   "execution_count": null,
   "id": "a702a9e4",
   "metadata": {},
   "outputs": [],
   "source": [
    "def location_card(cards, query):\n",
    "    lo, hi = 0, len(cards) -1\n",
    "    while lo <= hi:\n",
    "        mid = (lo + hi) // 2\n",
    "        mid_number = cards[mid]\n",
    "        \n",
    "        print('lo:', lo, \",hi:\", hi,\",mid:\",mid,\",mid_number:\", mid_number)\n",
    "        \n",
    "        if mid_number == query:\n",
    "            return mid\n",
    "        elif mid_number < query:\n",
    "            hi = mid -1\n",
    "        elif mid_number > query:\n",
    "            lo = mid + 1\n",
    "            \n",
    "    return -1"
   ]
  },
  {
   "cell_type": "code",
   "execution_count": null,
   "id": "b7567ba0",
   "metadata": {},
   "outputs": [],
   "source": [
    "cards8 = tests[8]['input']['cards']\n",
    "query8 = tests[8]['input']['cards']\n",
    "\n",
    "query8[7]"
   ]
  },
  {
   "cell_type": "code",
   "execution_count": null,
   "id": "d6014cb6",
   "metadata": {},
   "outputs": [],
   "source": [
    "def test_location(cards, query, mid):\n",
    "    mid_number = cards[mid]\n",
    "    print(\"mid:\",mid,\",mid_number:\", mid_number)\n",
    "    if mid_number == query:\n",
    "        if mid-1 >= 0 and cards[mid-1] == query:\n",
    "            return 'left'\n",
    "        else:\n",
    "            return 'found'\n",
    "    elif mid_number < query:\n",
    "        return 'left'\n",
    "    else:\n",
    "        return 'right'\n",
    "    \n",
    "def locate_card(cards, query):\n",
    "    lo, hi = 0, len(cards)-1\n",
    "    \n",
    "    while lo <= hi:\n",
    "        print(\"lo:\", lo, \", hi:\", hi)\n",
    "        mid = (lo + hi) // 2\n",
    "        result = test_location(cards, query, mid)\n",
    "        \n",
    "        if result =='found':\n",
    "            return mid\n",
    "        elif result == 'left':\n",
    "            hi = mid -1\n",
    "        elif result == 'right':\n",
    "            lo = mid + 1 \n",
    "    return -1"
   ]
  },
  {
   "cell_type": "code",
   "execution_count": null,
   "id": "b0a92bbc",
   "metadata": {},
   "outputs": [],
   "source": [
    "\n",
    "evaluate_test_case(locate_card, tests[8])"
   ]
  },
  {
   "cell_type": "code",
   "execution_count": null,
   "id": "6d699511",
   "metadata": {
    "scrolled": true
   },
   "outputs": [],
   "source": [
    "evaluate_test_cases(locate_card, tests)"
   ]
  },
  {
   "cell_type": "code",
   "execution_count": null,
   "id": "d4c968c3",
   "metadata": {},
   "outputs": [],
   "source": [
    "def test_location(cards, query, mid):\n",
    "    if cards[mid] == query:\n",
    "        if mid-1 >= 0 and cards[mid-1] == query:\n",
    "            return 'left'\n",
    "        else:\n",
    "            return 'found'\n",
    "    elif cards[mid] < query:\n",
    "        return 'left'\n",
    "    else:\n",
    "        return 'right'\n",
    "    \n",
    "def locate_card(cards, query):\n",
    "    lo, hi = 0, len(cards) -1\n",
    "    while lo <= hi:\n",
    "        mid = (lo + hi) // 2\n",
    "        result = test_location(cards, query, mid)\n",
    "        if result == 'found':\n",
    "            return mid\n",
    "        elif result == ' left':\n",
    "            hi = mid -1\n",
    "        elif result == 'right':\n",
    "            lo = mid +1\n",
    "        result -1"
   ]
  },
  {
   "cell_type": "code",
   "execution_count": null,
   "id": "2313d879",
   "metadata": {},
   "outputs": [],
   "source": [
    "#Binary Search vs. Linear Search \n",
    "\n",
    "def locate_card_linear(cards, query):\n",
    "    position = 0\n",
    "    while position < len(cards):\n",
    "        if cards[position] == query:\n",
    "            return position \n",
    "        position += 1\n",
    "    return -1"
   ]
  },
  {
   "cell_type": "code",
   "execution_count": null,
   "id": "bc3de842",
   "metadata": {},
   "outputs": [],
   "source": [
    "large_test = {\n",
    "    'input': {\n",
    "        'cards': list(range(1000000, 0, -1)),\n",
    "        'query': 2\n",
    "\n",
    "    },\n",
    "    'output': 9999998\n",
    "}"
   ]
  },
  {
   "cell_type": "code",
   "execution_count": null,
   "id": "3ca0e1b4",
   "metadata": {},
   "outputs": [],
   "source": [
    "result, passed, runtime = evaluate_test_case(locate_card_linear, large_test, display=False)\n",
    "\n",
    "print(\"Result: {}\\nPassed: {}\\Execution Time: {} ms\".format(result, passed, runtime))"
   ]
  },
  {
   "cell_type": "code",
   "execution_count": null,
   "id": "e3f47252",
   "metadata": {},
   "outputs": [],
   "source": [
    "def binary_search(lo, hi, condition):\n",
    "    \"\"\"TODO - add Docs\"\"\"\n",
    "    while lo <= hi:\n",
    "        mid = (lo + hi) // 2\n",
    "        result = condition(mid)\n",
    "        if result == 'found':\n",
    "            return mid\n",
    "        elif result == 'left':\n",
    "            hi = mid -1\n",
    "        else:\n",
    "            lo = mid + 1\n",
    "    return -1"
   ]
  },
  {
   "cell_type": "code",
   "execution_count": null,
   "id": "850e31db",
   "metadata": {},
   "outputs": [],
   "source": [
    "def locate_card(cards, query):\n",
    "    \n",
    "    def condition(mid):\n",
    "        if cards[mid] == query:\n",
    "            if mid > 0 and cards[mid-1] == query:\n",
    "                return 'left'\n",
    "            else:\n",
    "                return 'found'\n",
    "        elif cards[mid] < query:\n",
    "                return 'left'\n",
    "        else:\n",
    "                return 'right'\n",
    "            \n",
    "        return binary_search(0, len(cards) -1, condition)"
   ]
  },
  {
   "cell_type": "code",
   "execution_count": null,
   "id": "e97e5ee1",
   "metadata": {},
   "outputs": [],
   "source": [
    "evaluate_test_cases(locate_card, tests)"
   ]
  },
  {
   "cell_type": "code",
   "execution_count": null,
   "id": "22d4dcef",
   "metadata": {},
   "outputs": [],
   "source": [
    "def first_position(nums, target):\n",
    "    def conditin(mid):\n",
    "        if nums[mid] == target:\n",
    "            if min > 0 and nums[mid-1] == target:\n",
    "                return 'found'\n",
    "            elif nums[mid] < target:\n",
    "                return 'right'\n",
    "            else:\n",
    "                return 'left'\n",
    "        return binary_search(0, len(nums)-1, condition)\n",
    "    def last_position(nums,target ):\n",
    "        return first_position(nums, target), last_position(nums, target)"
   ]
  },
  {
   "cell_type": "markdown",
   "id": "17d94fd2",
   "metadata": {},
   "source": [
    "# practice Link list "
   ]
  },
  {
   "cell_type": "code",
   "execution_count": null,
   "id": "3f47d7df",
   "metadata": {},
   "outputs": [],
   "source": [
    "!pip install jovian --upgrade --quiet"
   ]
  },
  {
   "cell_type": "code",
   "execution_count": null,
   "id": "bcd26a86",
   "metadata": {},
   "outputs": [],
   "source": [
    "import jovian "
   ]
  },
  {
   "cell_type": "markdown",
   "id": "d95407d5",
   "metadata": {},
   "source": [
    "# A quick Prime on Classes in pyhton \n",
    " Let's create a class for it. A class is a blueprint for crating objects."
   ]
  },
  {
   "cell_type": "code",
   "execution_count": null,
   "id": "ede051d4",
   "metadata": {},
   "outputs": [],
   "source": [
    "class Node():\n",
    "    pass"
   ]
  },
  {
   "cell_type": "code",
   "execution_count": null,
   "id": "9553d2f0",
   "metadata": {},
   "outputs": [],
   "source": [
    "Node()"
   ]
  },
  {
   "cell_type": "code",
   "execution_count": null,
   "id": "29ddef74",
   "metadata": {},
   "outputs": [],
   "source": [
    " node1 = Node()"
   ]
  },
  {
   "cell_type": "code",
   "execution_count": null,
   "id": "a0d83d15",
   "metadata": {},
   "outputs": [],
   "source": [
    "node1"
   ]
  },
  {
   "cell_type": "code",
   "execution_count": null,
   "id": "e78959c4",
   "metadata": {},
   "outputs": [],
   "source": [
    "node2 = Node()"
   ]
  },
  {
   "cell_type": "code",
   "execution_count": null,
   "id": "c450e23f",
   "metadata": {},
   "outputs": [],
   "source": [
    "node2"
   ]
  },
  {
   "cell_type": "code",
   "execution_count": null,
   "id": "c9dacd92",
   "metadata": {},
   "outputs": [],
   "source": [
    "node3 = node1"
   ]
  },
  {
   "cell_type": "code",
   "execution_count": null,
   "id": "973c54d9",
   "metadata": {},
   "outputs": [],
   "source": [
    "class NOde():\n",
    "    def __init__(self):\n",
    "        self.data = 0"
   ]
  },
  {
   "cell_type": "code",
   "execution_count": null,
   "id": "b95b3d86",
   "metadata": {},
   "outputs": [],
   "source": [
    "node4 = Node()"
   ]
  },
  {
   "cell_type": "code",
   "execution_count": null,
   "id": "5148a3ff",
   "metadata": {},
   "outputs": [],
   "source": [
    "node4.data"
   ]
  },
  {
   "cell_type": "code",
   "execution_count": null,
   "id": "9d7f371a",
   "metadata": {},
   "outputs": [],
   "source": [
    "node4.data = 10\n",
    "node4.data"
   ]
  },
  {
   "cell_type": "code",
   "execution_count": null,
   "id": "ed4dc8e0",
   "metadata": {},
   "outputs": [],
   "source": [
    "node1 = Node()\n",
    "node1.data = 2\n",
    "node2 = Node()\n",
    "node2.data = 3\n",
    "node3 = Node()\n",
    "node3.data = 5"
   ]
  },
  {
   "cell_type": "code",
   "execution_count": null,
   "id": "6061454c",
   "metadata": {},
   "outputs": [],
   "source": [
    "node1.data, node2.data, node3.data"
   ]
  },
  {
   "cell_type": "code",
   "execution_count": null,
   "id": "172ff11c",
   "metadata": {},
   "outputs": [],
   "source": [
    "# while this is ok, there's an easier way to do , it\n",
    "\n",
    "class Node():\n",
    "    def __init__(self, a_number):\n",
    "        self.data = a_number\n",
    "        self.next = None"
   ]
  },
  {
   "cell_type": "code",
   "execution_count": null,
   "id": "bef8f695",
   "metadata": {},
   "outputs": [],
   "source": [
    "node1 = Node(2)\n",
    "node2 = Node(3)\n",
    "node3 = Node(5)"
   ]
  },
  {
   "cell_type": "code",
   "execution_count": null,
   "id": "d43fdab8",
   "metadata": {},
   "outputs": [],
   "source": [
    "node1.data, node2.data, node3.data"
   ]
  },
  {
   "cell_type": "code",
   "execution_count": null,
   "id": "3173a041",
   "metadata": {},
   "outputs": [],
   "source": [
    "class LinkList():\n",
    "    def __init__(self):\n",
    "        self.hend = None"
   ]
  },
  {
   "cell_type": "code",
   "execution_count": null,
   "id": "63e60d20",
   "metadata": {},
   "outputs": [],
   "source": [
    "\n",
    "list1 = LinkedList()"
   ]
  },
  {
   "cell_type": "code",
   "execution_count": null,
   "id": "6e4c0e27",
   "metadata": {},
   "outputs": [],
   "source": [
    "list2 = LinkList()"
   ]
  },
  {
   "cell_type": "code",
   "execution_count": null,
   "id": "6ef8ff2c",
   "metadata": {},
   "outputs": [],
   "source": [
    "ist1.head.next = Node(3)"
   ]
  },
  {
   "cell_type": "code",
   "execution_count": null,
   "id": "cd7fa4cd",
   "metadata": {},
   "outputs": [],
   "source": [
    "list1.head, list1.head.next, list.head.next.neaxt, list1.head.next.next.next"
   ]
  },
  {
   "cell_type": "code",
   "execution_count": null,
   "id": "fc26672e",
   "metadata": {},
   "outputs": [],
   "source": [
    "class LinkedList():\n",
    "    def __init__(self):\n",
    "        self.head = None\n",
    "    \n",
    "    def append(self, value):\n",
    "        if self.head is None:\n",
    "            self.head = Node(value)\n",
    "        else:\n",
    "            current_node = self.head\n",
    "            while current_node.next is not None:\n",
    "                 current_node = current_node.next\n",
    "            current_node.next = Node(value)"
   ]
  },
  {
   "cell_type": "code",
   "execution_count": null,
   "id": "016f77c3",
   "metadata": {},
   "outputs": [],
   "source": [
    "\n",
    "list2 = LinkedList()\n",
    "list2.append(2)\n",
    "list2.append(3)\n",
    "list2.append(5)"
   ]
  },
  {
   "cell_type": "code",
   "execution_count": null,
   "id": "f9d76fd0",
   "metadata": {},
   "outputs": [],
   "source": [
    "list2.head.data, list2.head.neaxt.data, liat2.head.next.next.data"
   ]
  },
  {
   "cell_type": "code",
   "execution_count": null,
   "id": "d00542af",
   "metadata": {},
   "outputs": [],
   "source": [
    "class LinkedList():\n",
    "    def __init__(self):\n",
    "        self.head = None\n",
    "        \n",
    "    def append(self, value):\n",
    "        if self.head is None:\n",
    "            self.head = Node(value)\n",
    "        else:\n",
    "            current_node = self.head\n",
    "            while current_node.next is not None:\n",
    "                current_node = current_node.next\n",
    "            current_node.neaxt = Node(value)\n",
    "            \n",
    "    def show_elements(self):\n",
    "        current = self.head\n",
    "        while current is not None:\n",
    "            print(curent.data)\n",
    "            current = current.next"
   ]
  },
  {
   "cell_type": "code",
   "execution_count": null,
   "id": "ebf31c88",
   "metadata": {},
   "outputs": [],
   "source": [
    "list2 = LinkedList()\n",
    "list2.append(2)\n",
    "list2.append(3)\n",
    "list2.append(5)"
   ]
  },
  {
   "cell_type": "code",
   "execution_count": null,
   "id": "7fad4fa0",
   "metadata": {},
   "outputs": [],
   "source": [
    "list2.show_elements()"
   ]
  },
  {
   "cell_type": "markdown",
   "id": "45f1ef8f",
   "metadata": {},
   "source": [
    "# Let's add a couple of more function: length and get_element to \n",
    "get element at a specific position."
   ]
  },
  {
   "cell_type": "code",
   "execution_count": null,
   "id": "c719accc",
   "metadata": {},
   "outputs": [],
   "source": [
    "class LinkedList():\n",
    "    def __init__(self):\n",
    "        self.head = None\n",
    "        \n",
    "    def append(self, value):\n",
    "        if self.head is None:\n",
    "            self.head = Node(value)\n",
    "            \n",
    "            "
   ]
  },
  {
   "cell_type": "code",
   "execution_count": null,
   "id": "786dce81",
   "metadata": {},
   "outputs": [],
   "source": [
    "phone_number = {\n",
    "    'Akash': '983847387','Hemant':'747427828','Rohan':'82748234'\n",
    "    \n",
    "}\n",
    "phone_number"
   ]
  },
  {
   "cell_type": "code",
   "execution_count": null,
   "id": "d912df4d",
   "metadata": {},
   "outputs": [],
   "source": [
    "phone_numbers['Akash']"
   ]
  },
  {
   "cell_type": "code",
   "execution_count": 19,
   "id": "5019bd77",
   "metadata": {},
   "outputs": [
    {
     "ename": "NameError",
     "evalue": "name 'phone_numbers' is not defined",
     "output_type": "error",
     "traceback": [
      "\u001b[1;31m---------------------------------------------------------------------------\u001b[0m",
      "\u001b[1;31mNameError\u001b[0m                                 Traceback (most recent call last)",
      "\u001b[1;32m<ipython-input-19-b45792d93244>\u001b[0m in \u001b[0;36m<module>\u001b[1;34m\u001b[0m\n\u001b[0;32m      1\u001b[0m \u001b[1;31m#Add  a new value\u001b[0m\u001b[1;33m\u001b[0m\u001b[1;33m\u001b[0m\u001b[1;33m\u001b[0m\u001b[0m\n\u001b[1;32m----> 2\u001b[1;33m \u001b[0mphone_numbers\u001b[0m\u001b[1;33m[\u001b[0m\u001b[1;34m'Vishal'\u001b[0m\u001b[1;33m]\u001b[0m \u001b[1;33m=\u001b[0m \u001b[1;34m'878787878787'\u001b[0m\u001b[1;33m\u001b[0m\u001b[1;33m\u001b[0m\u001b[0m\n\u001b[0m\u001b[0;32m      3\u001b[0m \u001b[1;31m#Updating existing value\u001b[0m\u001b[1;33m\u001b[0m\u001b[1;33m\u001b[0m\u001b[1;33m\u001b[0m\u001b[0m\n\u001b[0;32m      4\u001b[0m \u001b[0mphone_numbers\u001b[0m\u001b[1;33m[\u001b[0m\u001b[1;34m'Aakash'\u001b[0m\u001b[1;33m]\u001b[0m \u001b[1;33m=\u001b[0m \u001b[1;34m'787878787878'\u001b[0m\u001b[1;33m\u001b[0m\u001b[1;33m\u001b[0m\u001b[0m\n\u001b[0;32m      5\u001b[0m \u001b[1;31m# view the update dictionary\u001b[0m\u001b[1;33m\u001b[0m\u001b[1;33m\u001b[0m\u001b[1;33m\u001b[0m\u001b[0m\n",
      "\u001b[1;31mNameError\u001b[0m: name 'phone_numbers' is not defined"
     ]
    },
    {
     "ename": "NameError",
     "evalue": "name 'phone_numbers' is not defined",
     "output_type": "error",
     "traceback": [
      "\u001b[1;31m---------------------------------------------------------------------------\u001b[0m",
      "\u001b[1;31mNameError\u001b[0m                                 Traceback (most recent call last)",
      "\u001b[1;32m<ipython-input-19-b45792d93244>\u001b[0m in \u001b[0;36m<module>\u001b[1;34m\u001b[0m\n\u001b[0;32m      1\u001b[0m \u001b[1;31m#Add  a new value\u001b[0m\u001b[1;33m\u001b[0m\u001b[1;33m\u001b[0m\u001b[1;33m\u001b[0m\u001b[0m\n\u001b[1;32m----> 2\u001b[1;33m \u001b[0mphone_numbers\u001b[0m\u001b[1;33m[\u001b[0m\u001b[1;34m'Vishal'\u001b[0m\u001b[1;33m]\u001b[0m \u001b[1;33m=\u001b[0m \u001b[1;34m'878787878787'\u001b[0m\u001b[1;33m\u001b[0m\u001b[1;33m\u001b[0m\u001b[0m\n\u001b[0m\u001b[0;32m      3\u001b[0m \u001b[1;31m#Updating existing value\u001b[0m\u001b[1;33m\u001b[0m\u001b[1;33m\u001b[0m\u001b[1;33m\u001b[0m\u001b[0m\n\u001b[0;32m      4\u001b[0m \u001b[0mphone_numbers\u001b[0m\u001b[1;33m[\u001b[0m\u001b[1;34m'Aakash'\u001b[0m\u001b[1;33m]\u001b[0m \u001b[1;33m=\u001b[0m \u001b[1;34m'787878787878'\u001b[0m\u001b[1;33m\u001b[0m\u001b[1;33m\u001b[0m\u001b[0m\n\u001b[0;32m      5\u001b[0m \u001b[1;31m# view the update dictionary\u001b[0m\u001b[1;33m\u001b[0m\u001b[1;33m\u001b[0m\u001b[1;33m\u001b[0m\u001b[0m\n",
      "\u001b[1;31mNameError\u001b[0m: name 'phone_numbers' is not defined"
     ]
    }
   ],
   "source": [
    "#Add  a new value \n",
    "phone_numbers['Vishal'] = '878787878787'\n",
    "#Updating existing value\n",
    "phone_numbers['Aakash'] = '787878787878'\n",
    "# view the update dictionary\n",
    "phone_numbers\n"
   ]
  },
  {
   "cell_type": "code",
   "execution_count": 22,
   "id": "fb2aefc4",
   "metadata": {},
   "outputs": [
    {
     "ename": "NameError",
     "evalue": "name 'phone_numbers' is not defined",
     "output_type": "error",
     "traceback": [
      "\u001b[1;31m---------------------------------------------------------------------------\u001b[0m",
      "\u001b[1;31mNameError\u001b[0m                                 Traceback (most recent call last)",
      "\u001b[1;32m<ipython-input-22-89337957fe89>\u001b[0m in \u001b[0;36m<module>\u001b[1;34m\u001b[0m\n\u001b[1;32m----> 1\u001b[1;33m \u001b[1;32mfor\u001b[0m \u001b[0mname\u001b[0m \u001b[1;32min\u001b[0m \u001b[0mphone_numbers\u001b[0m\u001b[1;33m:\u001b[0m\u001b[1;33m\u001b[0m\u001b[1;33m\u001b[0m\u001b[0m\n\u001b[0m\u001b[0;32m      2\u001b[0m     \u001b[0mprint\u001b[0m\u001b[1;33m(\u001b[0m\u001b[1;34m'Name:'\u001b[0m\u001b[1;33m,\u001b[0m\u001b[0mname\u001b[0m\u001b[1;33m,\u001b[0m\u001b[1;34m'Phone Number:'\u001b[0m\u001b[1;33m,\u001b[0m \u001b[0mphone_numbers\u001b[0m\u001b[1;33m[\u001b[0m\u001b[0mname\u001b[0m\u001b[1;33m]\u001b[0m\u001b[1;33m)\u001b[0m\u001b[1;33m\u001b[0m\u001b[1;33m\u001b[0m\u001b[0m\n",
      "\u001b[1;31mNameError\u001b[0m: name 'phone_numbers' is not defined"
     ]
    },
    {
     "ename": "NameError",
     "evalue": "name 'phone_numbers' is not defined",
     "output_type": "error",
     "traceback": [
      "\u001b[1;31m---------------------------------------------------------------------------\u001b[0m",
      "\u001b[1;31mNameError\u001b[0m                                 Traceback (most recent call last)",
      "\u001b[1;32m<ipython-input-22-89337957fe89>\u001b[0m in \u001b[0;36m<module>\u001b[1;34m\u001b[0m\n\u001b[1;32m----> 1\u001b[1;33m \u001b[1;32mfor\u001b[0m \u001b[0mname\u001b[0m \u001b[1;32min\u001b[0m \u001b[0mphone_numbers\u001b[0m\u001b[1;33m:\u001b[0m\u001b[1;33m\u001b[0m\u001b[1;33m\u001b[0m\u001b[0m\n\u001b[0m\u001b[0;32m      2\u001b[0m     \u001b[0mprint\u001b[0m\u001b[1;33m(\u001b[0m\u001b[1;34m'Name:'\u001b[0m\u001b[1;33m,\u001b[0m\u001b[0mname\u001b[0m\u001b[1;33m,\u001b[0m\u001b[1;34m'Phone Number:'\u001b[0m\u001b[1;33m,\u001b[0m \u001b[0mphone_numbers\u001b[0m\u001b[1;33m[\u001b[0m\u001b[0mname\u001b[0m\u001b[1;33m]\u001b[0m\u001b[1;33m)\u001b[0m\u001b[1;33m\u001b[0m\u001b[1;33m\u001b[0m\u001b[0m\n",
      "\u001b[1;31mNameError\u001b[0m: name 'phone_numbers' is not defined"
     ]
    }
   ],
   "source": [
    "for name in phone_numbers:\n",
    "    print('Name:',name,'Phone Number:', phone_numbers[name])"
   ]
  },
  {
   "cell_type": "markdown",
   "id": "3e568eeb",
   "metadata": {},
   "source": [
    "# excercise for mounthly expences. "
   ]
  },
  {
   "cell_type": "code",
   "execution_count": null,
   "id": "5933cf5a",
   "metadata": {},
   "outputs": [],
   "source": [
    "list_monthely_expences:\n",
    "    ['january': 2200$,\n",
    "    'February': 2350$,\n",
    "    'March': 2600$,\n",
    "    'April': 2130$,\n",
    "    'May': 2190$,\n",
    "    ]\n",
    "exp = [2200, 2350, 2600, 2130, 2190]\n",
    "#1. In Feb, how many dollars you spent extra compary to january?\n",
    "print(\"IN feb this much extra was spend compared to jan:\",exp[1]-exp[0]) # 150\n",
    "\n",
    "#2 . Find the first quater expences in first (first three mounths) of the year\n",
    "print(\"Expences in first quaters:\", exp[0]+exp[1]+exp[2]) # 7150\n",
    "\n",
    "#3. Find out if you spend exacty 2000 dollers in any month.\n",
    "print(\"Did I spend 2000$ in any mounth?\" 2000 in exp) # False\n",
    "\n",
    "# 4. June mounth just finished and your expences in 1980 .\n",
    "exp.append(1980)\n",
    "print(\"Expenses at the end of June:\", exp) # [2200, 2350, 2600, 2130, 2190, 1980]\n",
    "\n",
    "\n",
    "# you returned an item that you bought in a mounth of April and\n",
    "# got a return if 200$. Make a correction to your mounthly expense list\n",
    "# Bases on this.\n",
    "\n",
    "exp[3] = exp[3] - 200\n",
    "print(\"Expenses after 200$ return in April:\" exp) #[2200, 2350, 2600, 1930, 2190, ]"
   ]
  },
  {
   "cell_type": "markdown",
   "id": "7608e0ac",
   "metadata": {},
   "source": [
    "# Lotes of fovourits marvel super-Heros\n",
    "\n",
    "\n"
   ]
  },
  {
   "cell_type": "code",
   "execution_count": null,
   "id": "a850a926",
   "metadata": {},
   "outputs": [],
   "source": [
    "heros=['spider man', 'thor', 'hulk','iron man','capton america']\n",
    "# 1. Lenght of the list\n",
    "print(len(heros))\n",
    "# 2. Add. 'black panther' at the end of the list \n",
    "heros.append('black panther')\n",
    "print(heros)\n",
    "#3. you realize that you need to add 'black panther' after 'hulk',\n",
    "# so remove it form that list first and then add it after 'hulk'\n",
    "\n",
    "heros.remove('black panther')\n",
    "heros.insert(3, 'black panther')\n",
    "print(heros)\n",
    "\n",
    "# 4. Now  you don't like thor and hulk because they get angry easily :\n",
    " # so you want to replace thor and hulk from the list replace them with doctor stranger(because he is cool).\n",
    "# Do that with one list of code.\n",
    "heros[1:3]=['doctor strange']\n",
    "print(heros)\n",
    "\n",
    "# 5. Sort the ist in alphabetical order.\n",
    "heros.sort()\n",
    "print(heros)"
   ]
  },
  {
   "cell_type": "code",
   "execution_count": null,
   "id": "78a967fc",
   "metadata": {},
   "outputs": [],
   "source": [
    "# max = int(input(\"Enter max number:\"))\n",
    "\n",
    "odd_numbers = []\n",
    "\n",
    "for i in range(1, max):\n",
    "    if i % 2 == 1:\n",
    "        odd_numbers.append(i)\n",
    "        \n",
    "\n",
    "print(\"Odd numbers:\", odd_numbers)"
   ]
  },
  {
   "cell_type": "code",
   "execution_count": null,
   "id": "9922c88e",
   "metadata": {},
   "outputs": [],
   "source": [
    "# Linked List.\n",
    "def insert_after_value(self, data_after, data_to_insert):\n",
    "    # Serch for first occurence of data_after value in linked list.\n",
    "    # Now insert data_to_insert after data_after node.\n",
    "def remove_by_value(self, data):\n",
    "    # Remove first node that countain data .\n",
    "    \n",
    " class Node:\n",
    "    def __init__(self, data=None, next=None):\n",
    "        self.data = data\n",
    "        self.next = next\n",
    "        \n",
    " class LinkedList:\n",
    "    def__ init__(self):\n",
    "        self.head = None\n",
    "        \n",
    "        \n",
    "        \n",
    "    def print(self):\n",
    "        if self.head is None:\n",
    "            print(\"Linked list is empty\")\n",
    "            return\n",
    "        \n",
    "        itr = self.head\n",
    "        llstr = ''\n",
    "        while itr:\n",
    "            llstr += str(itr.data) + '-->'\n",
    "            itr = itr.next\n",
    "        print(llstr)\n",
    "        \n",
    "        \n",
    "    def get_length(self):\n",
    "        count = 0\n",
    "        itr = self.head\n",
    "        while itr:\n",
    "            count +=1\n",
    "            itr = itr.next\n",
    "        \n",
    "        return count\n",
    "    \n",
    "    def insert_at_begining(self, data):\n",
    "        none = Node(data, self.head)\n",
    "        self.head = node\n",
    "        \n",
    "    def insert_at_end(self, data):\n",
    "        if self.head is None:\n",
    "            self.head = node\n",
    "            \n",
    "    def insert_at_end(self, data):\n",
    "        if self.head os None:\n",
    "            self.head = Node(data, None)\n",
    "            return\n",
    "        \n",
    "         itr = self.head\n",
    "            \n",
    "         \n",
    "         while itr.next:\n",
    "                itr = itr.next\n",
    "                \n",
    "                \n",
    "        itr.next = Node(data, None)\n",
    "        \n",
    "        \n",
    "        \n",
    "    def insert_at(self, index, data):\n",
    "        if index<0 or index>self.get_lenght():\n",
    "            rain Expection(\"Invalit Index\")\n",
    "            \n",
    "        if index== 0:\n",
    "            sef.insert_at_beagining(data)\n",
    "            return\n",
    "        \n",
    "        count = 0\n",
    "        itr = self.head\n",
    "        while itr:\n",
    "            if count == index -1:\n",
    "                node = Node(data, itr.next)\n",
    "                itr.next = node\n",
    "                break\n",
    "                \n",
    "            itr = itr.next\n",
    "            count +1\n",
    "            \n",
    "        def remove_at(sef, index):\n",
    "            if index<0, or index=>sef.get_length():\n",
    "                raise Exception(\"Invaid Index\")\n",
    "                \n",
    "            if index==0\n",
    "               self.head = self.head.next\n",
    "                return\n",
    "            \n",
    "            count = 0\n",
    "            itr = self.head\n",
    "            while itr:\n",
    "                if count == index -1:\n",
    "                    itr.next = itr.next.next\n",
    "                    breck\n",
    "                    \n",
    "                    \n",
    "                itr = itr.next\n",
    "                count+=1\n",
    "        def insert_values(self, data_list):\n",
    "            self.head = None\n",
    "            for data in data_list:\n",
    "                self.insert_at_end(data)\n",
    "                \n",
    "                \n",
    "        def insert_after_value(self, data_after, data_to_insert):\n",
    "            if self.head in None:\n",
    "                return\n",
    "            \n",
    "            itr = self.head\n",
    "            while itr:\n",
    "                if itr.data == data_after:\n",
    "                    itr.next = Node(data_to_insert, itr.next)\n",
    "                    break\n",
    "                    \n",
    "                itr = itr.next\n",
    "                \n",
    "                \n",
    "            def remove_by_value(self, data):\n",
    "                if self.head is None:\n",
    "                    return\n",
    "                \n",
    "                \n",
    "                if self.head.data == data:\n",
    "                    self.head = self.head.next\n",
    "                    return \n",
    "                \n",
    "                itr = self.head\n",
    "                while itr.next:\n",
    "                    if itr.next.data == data:\n",
    "                        itr.neaxt = itr.next.next\n",
    "                        break\n",
    "                    itr = itr.next\n",
    "                    \n",
    "                    \n",
    "        if __name__ =='__main__':\n",
    "            ll = LinkedList()\n",
    "            ll.insert_value([\"banana\",\"mango\",\"graps\",\"orange\"])\n",
    "            ll.print()\n",
    "            ll.insert_after_value(\"mango\",\"apple\")\n",
    "            ll.print()\n",
    "            ll.remove_by_value(\"orange\")\n",
    "            ll.print()\n",
    "            ll.remove_by_value(\"fish\")\n",
    "            ll.print()\n",
    "            ll.remove_by_value(\"banana\")\n",
    "            ll.remove_by_value(\"mango\")\n",
    "            ll.remove_by_value(\"apple\")\n",
    "            ll.removw_by_value(\"grapes\")\n",
    "            ll.print()\n",
    "\n",
    "                \n",
    "        #ll.insert_values([45, 7, 12, 567, 99])\n",
    "        # ll.insert_at_end(67)\n",
    "        # ll.print()\n",
    "                        \n",
    "                \n",
    "                \n",
    "        \n",
    "        \n",
    "        "
   ]
  },
  {
   "cell_type": "markdown",
   "id": "68f4d461",
   "metadata": {},
   "source": [
    "# implementing the Hash Table . "
   ]
  },
  {
   "cell_type": "code",
   "execution_count": 1,
   "id": "c2ecff90",
   "metadata": {},
   "outputs": [
    {
     "ename": "FileNotFoundError",
     "evalue": "[Errno 2] No such file or directory: 'stock_price.csv'",
     "output_type": "error",
     "traceback": [
      "\u001b[1;31m---------------------------------------------------------------------------\u001b[0m",
      "\u001b[1;31mFileNotFoundError\u001b[0m                         Traceback (most recent call last)",
      "\u001b[1;32m<ipython-input-1-667e9492a0d2>\u001b[0m in \u001b[0;36m<module>\u001b[1;34m\u001b[0m\n\u001b[0;32m      1\u001b[0m \u001b[0mstock_price\u001b[0m \u001b[1;33m=\u001b[0m \u001b[1;33m[\u001b[0m\u001b[1;33m]\u001b[0m\u001b[1;33m\u001b[0m\u001b[1;33m\u001b[0m\u001b[0m\n\u001b[1;32m----> 2\u001b[1;33m \u001b[1;32mwith\u001b[0m \u001b[0mopen\u001b[0m\u001b[1;33m(\u001b[0m\u001b[1;34m\"stock_price.csv\"\u001b[0m\u001b[1;33m,\u001b[0m\u001b[1;34m\"r\"\u001b[0m\u001b[1;33m)\u001b[0m \u001b[1;32mas\u001b[0m \u001b[0mf\u001b[0m\u001b[1;33m:\u001b[0m\u001b[1;33m\u001b[0m\u001b[1;33m\u001b[0m\u001b[0m\n\u001b[0m\u001b[0;32m      3\u001b[0m     \u001b[1;32mfor\u001b[0m \u001b[0mline\u001b[0m \u001b[1;32min\u001b[0m \u001b[0mf\u001b[0m\u001b[1;33m:\u001b[0m\u001b[1;33m\u001b[0m\u001b[1;33m\u001b[0m\u001b[0m\n\u001b[0;32m      4\u001b[0m         \u001b[0mtockens\u001b[0m \u001b[1;33m=\u001b[0m \u001b[0mline\u001b[0m\u001b[1;33m.\u001b[0m\u001b[0msplit\u001b[0m\u001b[1;33m(\u001b[0m\u001b[1;34m\",\"\u001b[0m\u001b[1;33m)\u001b[0m\u001b[1;33m\u001b[0m\u001b[1;33m\u001b[0m\u001b[0m\n\u001b[0;32m      5\u001b[0m         \u001b[0mday\u001b[0m \u001b[1;33m=\u001b[0m \u001b[0mtokens\u001b[0m\u001b[1;33m[\u001b[0m\u001b[1;36m0\u001b[0m\u001b[1;33m]\u001b[0m\u001b[1;33m\u001b[0m\u001b[1;33m\u001b[0m\u001b[0m\n",
      "\u001b[1;31mFileNotFoundError\u001b[0m: [Errno 2] No such file or directory: 'stock_price.csv'"
     ]
    }
   ],
   "source": [
    "stock_price = []\n",
    "with open(\"stock_price.csv\",\"r\") as f:\n",
    "    for line in f:\n",
    "        tockens = line.split(\",\")\n",
    "        day = tokens[0]\n",
    "        price = float(tokens[1])\n",
    "        stock_price.append([day, price])"
   ]
  },
  {
   "cell_type": "code",
   "execution_count": 2,
   "id": "c0418e03",
   "metadata": {},
   "outputs": [
    {
     "ename": "NameError",
     "evalue": "name 'stock_prices' is not defined",
     "output_type": "error",
     "traceback": [
      "\u001b[1;31m---------------------------------------------------------------------------\u001b[0m",
      "\u001b[1;31mNameError\u001b[0m                                 Traceback (most recent call last)",
      "\u001b[1;32m<ipython-input-2-7ce5e8f5a231>\u001b[0m in \u001b[0;36m<module>\u001b[1;34m\u001b[0m\n\u001b[1;32m----> 1\u001b[1;33m \u001b[0mstock_prices\u001b[0m\u001b[1;33m\u001b[0m\u001b[1;33m\u001b[0m\u001b[0m\n\u001b[0m",
      "\u001b[1;31mNameError\u001b[0m: name 'stock_prices' is not defined"
     ]
    }
   ],
   "source": [
    "stock_prices"
   ]
  },
  {
   "cell_type": "code",
   "execution_count": 6,
   "id": "b07ab240",
   "metadata": {},
   "outputs": [],
   "source": [
    "##_Implements HASH TABLE.\n",
    "\n",
    "def get_hash(key):\n",
    "    hash = 0\n",
    "    for char in key:\n",
    "        hash += ord(char)\n",
    "    return hash % 100"
   ]
  },
  {
   "cell_type": "code",
   "execution_count": 7,
   "id": "c5a1b337",
   "metadata": {},
   "outputs": [
    {
     "data": {
      "text/plain": [
       "9"
      ]
     },
     "execution_count": 7,
     "metadata": {},
     "output_type": "execute_result"
    }
   ],
   "source": [
    "get_hash('march 6')"
   ]
  },
  {
   "cell_type": "code",
   "execution_count": 10,
   "id": "3892585e",
   "metadata": {},
   "outputs": [],
   "source": [
    "class HashTable:\n",
    "    def __init__(self):\n",
    "        sef.Max = 100\n",
    "        self.arr = [None for i in range(self.MAX)]\n",
    "        \n",
    "    def get_hash(self, key):\n",
    "        hash = 0\n",
    "        for char in key:\n",
    "            hash += ord(char)\n",
    "        return hash % self.MAX\n",
    "    \n",
    "    def __getitem__(self, index):\n",
    "        h = self.get_hash(index)\n",
    "        return self.arr[h]\n",
    "    \n",
    "    def __setitem__(self, key, val):\n",
    "        h = self.get_hash(index)\n",
    "        return self.arry[h]\n",
    "    \n",
    "    def __setitem__(self, kay, val):\n",
    "        h = self.get_hash(key)\n",
    "        self.arry[h] = val\n",
    "        \n",
    "    def __delitem__(self, key):\n",
    "        h = self.get_hash(key)\n",
    "        self.arr[h] = None\n"
   ]
  },
  {
   "cell_type": "code",
   "execution_count": 11,
   "id": "8b6a9e30",
   "metadata": {},
   "outputs": [
    {
     "ename": "NameError",
     "evalue": "name 'sef' is not defined",
     "output_type": "error",
     "traceback": [
      "\u001b[1;31m---------------------------------------------------------------------------\u001b[0m",
      "\u001b[1;31mNameError\u001b[0m                                 Traceback (most recent call last)",
      "\u001b[1;32m<ipython-input-11-5fc8ccb46674>\u001b[0m in \u001b[0;36m<module>\u001b[1;34m\u001b[0m\n\u001b[1;32m----> 1\u001b[1;33m \u001b[0mt\u001b[0m \u001b[1;33m=\u001b[0m \u001b[0mHashTable\u001b[0m\u001b[1;33m(\u001b[0m\u001b[1;33m)\u001b[0m\u001b[1;33m\u001b[0m\u001b[1;33m\u001b[0m\u001b[0m\n\u001b[0m\u001b[0;32m      2\u001b[0m \u001b[0mt\u001b[0m\u001b[1;33m[\u001b[0m\u001b[1;34m\"march 6\"\u001b[0m\u001b[1;33m]\u001b[0m \u001b[1;33m=\u001b[0m \u001b[1;36m310\u001b[0m\u001b[1;33m\u001b[0m\u001b[1;33m\u001b[0m\u001b[0m\n\u001b[0;32m      3\u001b[0m \u001b[0mt\u001b[0m\u001b[1;33m[\u001b[0m\u001b[1;34m\"march 7\"\u001b[0m\u001b[1;33m]\u001b[0m \u001b[1;33m=\u001b[0m \u001b[1;36m420\u001b[0m\u001b[1;33m\u001b[0m\u001b[1;33m\u001b[0m\u001b[0m\n",
      "\u001b[1;32m<ipython-input-10-678bc772f1f1>\u001b[0m in \u001b[0;36m__init__\u001b[1;34m(self)\u001b[0m\n\u001b[0;32m      1\u001b[0m \u001b[1;32mclass\u001b[0m \u001b[0mHashTable\u001b[0m\u001b[1;33m:\u001b[0m\u001b[1;33m\u001b[0m\u001b[1;33m\u001b[0m\u001b[0m\n\u001b[0;32m      2\u001b[0m     \u001b[1;32mdef\u001b[0m \u001b[0m__init__\u001b[0m\u001b[1;33m(\u001b[0m\u001b[0mself\u001b[0m\u001b[1;33m)\u001b[0m\u001b[1;33m:\u001b[0m\u001b[1;33m\u001b[0m\u001b[1;33m\u001b[0m\u001b[0m\n\u001b[1;32m----> 3\u001b[1;33m         \u001b[0msef\u001b[0m\u001b[1;33m.\u001b[0m\u001b[0mMax\u001b[0m \u001b[1;33m=\u001b[0m \u001b[1;36m100\u001b[0m\u001b[1;33m\u001b[0m\u001b[1;33m\u001b[0m\u001b[0m\n\u001b[0m\u001b[0;32m      4\u001b[0m         \u001b[0mself\u001b[0m\u001b[1;33m.\u001b[0m\u001b[0marr\u001b[0m \u001b[1;33m=\u001b[0m \u001b[1;33m[\u001b[0m\u001b[1;32mNone\u001b[0m \u001b[1;32mfor\u001b[0m \u001b[0mi\u001b[0m \u001b[1;32min\u001b[0m \u001b[0mrange\u001b[0m\u001b[1;33m(\u001b[0m\u001b[0mself\u001b[0m\u001b[1;33m.\u001b[0m\u001b[0mMAX\u001b[0m\u001b[1;33m)\u001b[0m\u001b[1;33m]\u001b[0m\u001b[1;33m\u001b[0m\u001b[1;33m\u001b[0m\u001b[0m\n\u001b[0;32m      5\u001b[0m \u001b[1;33m\u001b[0m\u001b[0m\n",
      "\u001b[1;31mNameError\u001b[0m: name 'sef' is not defined"
     ]
    }
   ],
   "source": [
    "t = HashTable()\n",
    "t[\"march 6\"] = 310\n",
    "t[\"march 7\"] = 420"
   ]
  },
  {
   "cell_type": "code",
   "execution_count": 12,
   "id": "8ce6adc7",
   "metadata": {},
   "outputs": [
    {
     "ename": "NameError",
     "evalue": "name 't' is not defined",
     "output_type": "error",
     "traceback": [
      "\u001b[1;31m---------------------------------------------------------------------------\u001b[0m",
      "\u001b[1;31mNameError\u001b[0m                                 Traceback (most recent call last)",
      "\u001b[1;32m<ipython-input-12-f753bf24c561>\u001b[0m in \u001b[0;36m<module>\u001b[1;34m\u001b[0m\n\u001b[1;32m----> 1\u001b[1;33m \u001b[0mt\u001b[0m\u001b[1;33m.\u001b[0m\u001b[0marr\u001b[0m\u001b[1;33m\u001b[0m\u001b[1;33m\u001b[0m\u001b[0m\n\u001b[0m",
      "\u001b[1;31mNameError\u001b[0m: name 't' is not defined"
     ]
    }
   ],
   "source": [
    "t.arr"
   ]
  },
  {
   "cell_type": "markdown",
   "id": "8e2a0dd8",
   "metadata": {},
   "source": [
    "# Implement Stank class using a deque"
   ]
  },
  {
   "cell_type": "code",
   "execution_count": 13,
   "id": "904c63bf",
   "metadata": {},
   "outputs": [],
   "source": [
    "class Stack:\n",
    "    def __init__(self):\n",
    "        self.countainer = deque()\n",
    "        \n",
    "    def puch(self, val):\n",
    "        self.countainer.append(val)\n",
    "        \n",
    "    def pop(self):\n",
    "        return self.countainer.pop()\n",
    "    \n",
    "    def peek(self):\n",
    "        return self.container[-1]\n",
    "    \n",
    "    def is_empty(self):\n",
    "        return len(self.countainer)==0\n",
    "    \n",
    "    def size(self):\n",
    "        return len(self.container)"
   ]
  },
  {
   "cell_type": "code",
   "execution_count": 16,
   "id": "d7cfda4a",
   "metadata": {},
   "outputs": [
    {
     "ename": "NameError",
     "evalue": "name 'deque' is not defined",
     "output_type": "error",
     "traceback": [
      "\u001b[1;31m---------------------------------------------------------------------------\u001b[0m",
      "\u001b[1;31mNameError\u001b[0m                                 Traceback (most recent call last)",
      "\u001b[1;32m<ipython-input-16-49d27803cf0c>\u001b[0m in \u001b[0;36m<module>\u001b[1;34m\u001b[0m\n\u001b[1;32m----> 1\u001b[1;33m \u001b[0ms\u001b[0m \u001b[1;33m=\u001b[0m \u001b[0mStack\u001b[0m\u001b[1;33m(\u001b[0m\u001b[1;33m)\u001b[0m\u001b[1;33m\u001b[0m\u001b[1;33m\u001b[0m\u001b[0m\n\u001b[0m\u001b[0;32m      2\u001b[0m \u001b[0ms\u001b[0m\u001b[1;33m.\u001b[0m\u001b[0mpush\u001b[0m\u001b[1;33m(\u001b[0m\u001b[1;36m5\u001b[0m\u001b[1;33m)\u001b[0m\u001b[1;33m\u001b[0m\u001b[1;33m\u001b[0m\u001b[0m\n\u001b[0;32m      3\u001b[0m \u001b[1;33m\u001b[0m\u001b[0m\n",
      "\u001b[1;32m<ipython-input-13-3914bae7aadd>\u001b[0m in \u001b[0;36m__init__\u001b[1;34m(self)\u001b[0m\n\u001b[0;32m      1\u001b[0m \u001b[1;32mclass\u001b[0m \u001b[0mStack\u001b[0m\u001b[1;33m:\u001b[0m\u001b[1;33m\u001b[0m\u001b[1;33m\u001b[0m\u001b[0m\n\u001b[0;32m      2\u001b[0m     \u001b[1;32mdef\u001b[0m \u001b[0m__init__\u001b[0m\u001b[1;33m(\u001b[0m\u001b[0mself\u001b[0m\u001b[1;33m)\u001b[0m\u001b[1;33m:\u001b[0m\u001b[1;33m\u001b[0m\u001b[1;33m\u001b[0m\u001b[0m\n\u001b[1;32m----> 3\u001b[1;33m         \u001b[0mself\u001b[0m\u001b[1;33m.\u001b[0m\u001b[0mcountainer\u001b[0m \u001b[1;33m=\u001b[0m \u001b[0mdeque\u001b[0m\u001b[1;33m(\u001b[0m\u001b[1;33m)\u001b[0m\u001b[1;33m\u001b[0m\u001b[1;33m\u001b[0m\u001b[0m\n\u001b[0m\u001b[0;32m      4\u001b[0m \u001b[1;33m\u001b[0m\u001b[0m\n\u001b[0;32m      5\u001b[0m     \u001b[1;32mdef\u001b[0m \u001b[0mpuch\u001b[0m\u001b[1;33m(\u001b[0m\u001b[0mself\u001b[0m\u001b[1;33m,\u001b[0m \u001b[0mval\u001b[0m\u001b[1;33m)\u001b[0m\u001b[1;33m:\u001b[0m\u001b[1;33m\u001b[0m\u001b[1;33m\u001b[0m\u001b[0m\n",
      "\u001b[1;31mNameError\u001b[0m: name 'deque' is not defined"
     ]
    }
   ],
   "source": [
    "\n",
    "\n"
   ]
  },
  {
   "cell_type": "code",
   "execution_count": 21,
   "id": "d1fd2a7b",
   "metadata": {},
   "outputs": [
    {
     "ename": "SyntaxError",
     "evalue": "invalid syntax (<ipython-input-21-6023ce50ac26>, line 1)",
     "output_type": "error",
     "traceback": [
      "\u001b[1;36m  File \u001b[1;32m\"<ipython-input-21-6023ce50ac26>\"\u001b[1;36m, line \u001b[1;32m1\u001b[0m\n\u001b[1;33m    class collactions import deque\u001b[0m\n\u001b[1;37m                      ^\u001b[0m\n\u001b[1;31mSyntaxError\u001b[0m\u001b[1;31m:\u001b[0m invalid syntax\n"
     ]
    }
   ],
   "source": [
    "class collactions import deque\n",
    "\n",
    "class Queue:\n",
    "    def __int__(self):\n",
    "        self.buffer = deque()\n",
    "        \n",
    "    def qnquery(self, val):\n",
    "        self.buffer.appendleft(val)\n",
    "        \n",
    "    def dequeue(self):\n",
    "        if len(self.buffer)==0:\n",
    "            print(\"Queue is empty\")\n",
    "            return \n",
    "        \n",
    "        return self.buffer.pop()\n",
    "    \n",
    "    def is_empty(self):\n",
    "        if len(self.buffer)==0:\n",
    "            print(\"Queue is empty\")\n",
    "            return\n",
    "        \n",
    "        return self.buffer.pop()\n",
    "      \n",
    "    def is_empty(self):\n",
    "        return len(self.buffer) == 0\n",
    "    \n",
    "    def size(self):\n",
    "        return len(self.buffer)[-1]\n",
    "    \n",
    "    def produce_binary_numbers(n):\n",
    "        numbers_queue = Queue()\n",
    "        number_queue.enqueue(\"1\")\n",
    "        \n",
    "        \n",
    "        for i in range(n):\n",
    "            front = numbers_queue.front()\n",
    "            print(\" \", front)\n",
    "            numbers_queue.enqueu(front + \"0\")\n",
    "            numbers_queue.enqueue(format + \"1\")\n",
    "            \n",
    "            numbers_queue.dequeue()\n",
    "            \n",
    "    if __name__=='__main__':\n",
    "    produce_binary_numbers(10)"
   ]
  },
  {
   "cell_type": "code",
   "execution_count": 1,
   "id": "2946a6ec",
   "metadata": {},
   "outputs": [
    {
     "ename": "SyntaxError",
     "evalue": "invalid syntax (<ipython-input-1-b423286b5c4f>, line 4)",
     "output_type": "error",
     "traceback": [
      "\u001b[1;36m  File \u001b[1;32m\"<ipython-input-1-b423286b5c4f>\"\u001b[1;36m, line \u001b[1;32m4\u001b[0m\n\u001b[1;33m    form collactions import deque\u001b[0m\n\u001b[1;37m         ^\u001b[0m\n\u001b[1;31mSyntaxError\u001b[0m\u001b[1;31m:\u001b[0m invalid syntax\n"
     ]
    }
   ],
   "source": [
    "import threading \n",
    "import time\n",
    "\n",
    "form collactions import deque\n",
    "\n",
    "class Queue:\n",
    "    def __init__(self):\n",
    "        self.buffer = deque()\n",
    "        \n",
    "    def enqueue(self, val):\n",
    "        self.buffer.appendleft(val)\n",
    "        \n",
    "    def dequeue(self):\n",
    "        if len(self,buffer)==0:\n",
    "            print(\"Queue is empty\")\n",
    "            return\n",
    "        \n",
    "        return self.buffer.pop()\n",
    "    \n",
    "    def is empty(self):\n",
    "        return len(self.buffer) == 0\n",
    "    \n",
    "    def siz(self):\n",
    "        return len(self.buffer)\n",
    "    \n",
    "food_order_queue = Queue()\n",
    "\n",
    "def place_orders(orders):\n"
   ]
  },
  {
   "cell_type": "markdown",
   "id": "594741f2",
   "metadata": {},
   "source": [
    "# call binery tree : and node !"
   ]
  },
  {
   "cell_type": "code",
   "execution_count": null,
   "id": "8fccce00",
   "metadata": {},
   "outputs": [],
   "source": []
  },
  {
   "cell_type": "code",
   "execution_count": 2,
   "id": "0ddc1445",
   "metadata": {},
   "outputs": [
    {
     "ename": "SyntaxError",
     "evalue": "invalid syntax (<ipython-input-2-a20daa7380aa>, line 20)",
     "output_type": "error",
     "traceback": [
      "\u001b[1;36m  File \u001b[1;32m\"<ipython-input-2-a20daa7380aa>\"\u001b[1;36m, line \u001b[1;32m20\u001b[0m\n\u001b[1;33m    elif propery_name = \"name\":\u001b[0m\n\u001b[1;37m                      ^\u001b[0m\n\u001b[1;31mSyntaxError\u001b[0m\u001b[1;31m:\u001b[0m invalid syntax\n"
     ]
    }
   ],
   "source": [
    "class TreeNode:\n",
    "    def __init__(self, name, designation):\n",
    "        self.name = name\n",
    "        self.designation = designation \n",
    "        self.children = []\n",
    "        self.parent = None\n",
    "        \n",
    "    def get_level(self):\n",
    "        level = 0\n",
    "        p = self.parent\n",
    "        while P:\n",
    "            level += 1\n",
    "            p = p.parent \n",
    "            \n",
    "        return level\n",
    "    \n",
    "    def print_tree(self, property_name):\n",
    "        if property_name == \"both\":\n",
    "            value = self.name + \"(\" + self.designation +\")\"\n",
    "        elif propery_name = \"name\":\n",
    "            value = self.name\n",
    "        else:\n",
    "            value = self.designation\n",
    "            \n",
    "            \n",
    "        spaces = ''* self.get_level()* 3\n",
    "        perfix = spaces + \"|__\" if self.parent else \"\"\n",
    "        print(prefix + value)\n",
    "        if self.children:\n",
    "            for child in self.children:\n",
    "                child.print_tree(property_name)\n",
    "                \n",
    "        def add_child(self, child):\n",
    "            child.parent = self\n",
    "            self.children.append(child)\n",
    "            \n",
    "            \n",
    "        \n",
    "        \n",
    "    def build_management_tree():\n",
    "        # CTO HIERARCHY\n",
    "        \n",
    "        infra_head = TreeNode(\"Vishwa\", \"Infrastrucuture Head\")\n",
    "        infra_head.add_child(TreeNode(\"Dhaval\",\"Cloud Manager\"))\n",
    "        infra_head.add_child(TreeNode(\"Abhijit\", \"App Manager\"))\n",
    "        \n",
    "        \n",
    "        cto = TreeNode(\"chinmay\",\"CTO\")\n",
    "        cto.add_child(infra_head)\n",
    "        cto.add_child(TreeNode(\"Aamir\",\"Application Head\"))\n",
    "        \n",
    "        \n",
    "        # HR hierarchy\n",
    "        hr_head = TreeNode(\"Gels\", \"HR Head\")\n",
    "        \n",
    "        hr_head.add_child(TreeNode(\"Peter\",\"Recruitement Maneger\"))\n",
    "        hr_head.add_child(TreeNode(\"Waqas\", \"Policy Manager\"))\n",
    "        \n",
    "        \n",
    "        ceo = TreeNode(\"Nilupul\", \"CEO\")\n",
    "        ceo.add_child(cto)\n",
    "        ceo.add_child(hr_head)\n",
    "        \n",
    "        return ceo\n",
    "    \n",
    "    \n",
    "    if _name__ == '__main__':\n",
    "        root_node = bulid_management_tree()\n",
    "        root_node.print_tree(\"name\")\n",
    "        root_node.price_tree(\"designation\")\n",
    "        root_node.print_tree(\"both\")"
   ]
  },
  {
   "cell_type": "markdown",
   "id": "16bd8023",
   "metadata": {},
   "source": [
    "# Build below location tree using TreeNode class\n"
   ]
  },
  {
   "cell_type": "markdown",
   "id": "425fa16a",
   "metadata": {},
   "source": [
    "Now modify print_tree methord to take tree level as input. And that should print\n",
    "tree only upto that level as shown below,"
   ]
  },
  {
   "cell_type": "code",
   "execution_count": 2,
   "id": "9994899f",
   "metadata": {},
   "outputs": [],
   "source": [
    "class TreeNode:\n",
    "    def __init__(self, data):\n",
    "        self.data = data\n",
    "        self.children = []\n",
    "        self.parent = None\n",
    "        \n",
    "    def get_level(self):\n",
    "        level = 0\n",
    "        p = self.parent\n",
    "        while p:\n",
    "            level =+1\n",
    "            p =p.parent\n",
    "            \n",
    "        return level\n",
    "    \n",
    "    def print_tree(self, level):\n",
    "        if self.get_level() > level:\n",
    "            return\n",
    "        spaces = '' * self.get_level() * 3\n",
    "        prefix = spaces + \"|__\" if self.parent else \"\"\n",
    "        print(prefix + self.data)\n",
    "        if self.children:\n",
    "            for child in self.children:\n",
    "                child.print_tree(level)\n",
    "                \n",
    "                \n",
    "    def add_child(self, child):\n",
    "        child.parent = self\n",
    "        self.children.append(child)\n",
    "        \n",
    "        \n",
    "    def build_location_tree():\n",
    "        root = TreeNode(\"Global\")\n",
    "        \n",
    "        india = TreeNode(\"india\")\n",
    "        \n",
    "        gujarat = TreeNode(\"Gujarat\")\n",
    "        gujarat.add_child(TreeNode(\"Ahmedabad\"))\n",
    "        gujarat.add_child(TreeNode(\"Baroda\"))\n",
    "        \n",
    "        \n",
    "        Karnataka = TreeNode(\"Karnataka\")\n",
    "        karnataka.add_child(TreeNode(\"Banglure\"))\n",
    "        karnatake.add_child(TreeNode(\"Mysore\"))\n",
    "        \n",
    "        \n",
    "        india.add_child(gujarat)\n",
    "        india.add_child(Karanataka)\n",
    "        \n",
    "        \n",
    "        \n",
    "        nj = TreeNode(\"New Jersey\")\n",
    "        nj.add_child(TreeNode(\"Princeton\"))\n",
    "        nj.add_child(TreeNode(\"Trenton\"))\n",
    "        \n",
    "        calaifonia = TreeNode(\"Califonia\")\n",
    "        california.add_child(TreeNode(\"San Francisco\"))\n",
    "        california.add_child(TreeNode(\"Mountain View\"))\n",
    "        california.add_child(TreeNode(\"palo Alto\"))\n",
    "        \n",
    "        \n",
    "        usa.add_child(nj)\n",
    "        usa.add_child(california)\n",
    "        \n",
    "        root.add_child(india)\n",
    "        root.add_child(usa)\n",
    "        \n",
    "       \n",
    "        \n",
    "        "
   ]
  },
  {
   "cell_type": "code",
   "execution_count": null,
   "id": "d3ca5d45",
   "metadata": {},
   "outputs": [],
   "source": []
  }
 ],
 "metadata": {
  "kernelspec": {
   "display_name": "Python 3 (ipykernel)",
   "language": "python",
   "name": "python3"
  },
  "language_info": {
   "codemirror_mode": {
    "name": "ipython",
    "version": 3
   },
   "file_extension": ".py",
   "mimetype": "text/x-python",
   "name": "python",
   "nbconvert_exporter": "python",
   "pygments_lexer": "ipython3",
   "version": "3.8.8"
  }
 },
 "nbformat": 4,
 "nbformat_minor": 5
}
