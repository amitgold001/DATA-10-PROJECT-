{
 "cells": [
  {
   "cell_type": "code",
   "execution_count": 1,
   "id": "4f6f9636-ebc0-44d5-b831-42206167021d",
   "metadata": {},
   "outputs": [
    {
     "name": "stdout",
     "output_type": "stream",
     "text": [
      "Amit kumar\n"
     ]
    }
   ],
   "source": [
    "import numpy as np\n",
    "import pandas as pd\n",
    "# Data \n",
    "print('Amit kumar')"
   ]
  },
  {
   "cell_type": "code",
   "execution_count": 2,
   "id": "f04af06b-44a8-40ad-9ee4-aba240adcbce",
   "metadata": {},
   "outputs": [
    {
     "name": "stdout",
     "output_type": "stream",
     "text": [
      "amit\n"
     ]
    }
   ],
   "source": [
    "print('amit')"
   ]
  },
  {
   "cell_type": "code",
   "execution_count": 3,
   "id": "f4447153-7f1a-4faf-9ec6-275dd88bdcdd",
   "metadata": {},
   "outputs": [
    {
     "name": "stdout",
     "output_type": "stream",
     "text": [
      "Today is Sataurdy\n"
     ]
    }
   ],
   "source": [
    "today = \"Sataurdy\"\n",
    "print(\"Today is\", today)"
   ]
  },
  {
   "cell_type": "code",
   "execution_count": 4,
   "id": "9951f851",
   "metadata": {},
   "outputs": [],
   "source": [
    "def say_hello():\n",
    "    print('Hello there!')\n",
    "    print('How are you?')"
   ]
  },
  {
   "cell_type": "code",
   "execution_count": 5,
   "id": "6e1d7c0a",
   "metadata": {},
   "outputs": [
    {
     "name": "stdout",
     "output_type": "stream",
     "text": [
      "Hello there!\n",
      "How are you?\n"
     ]
    }
   ],
   "source": [
    "say_hello()"
   ]
  },
  {
   "cell_type": "code",
   "execution_count": 6,
   "id": "3209c9ae",
   "metadata": {},
   "outputs": [],
   "source": [
    "def filter_even(number_list):\n",
    "    result_list =[]\n",
    "    for number in number_list:\n",
    "        if number % 2 ==0:\n",
    "            result_list.append(number)\n",
    "    return result_list"
   ]
  },
  {
   "cell_type": "code",
   "execution_count": 7,
   "id": "8d89c783",
   "metadata": {},
   "outputs": [],
   "source": [
    "even_list = filter_even([1,2,3,4,5,6])"
   ]
  },
  {
   "cell_type": "code",
   "execution_count": 8,
   "id": "0ab15e50",
   "metadata": {},
   "outputs": [
    {
     "data": {
      "text/plain": [
       "[2, 4, 6]"
      ]
     },
     "execution_count": 8,
     "metadata": {},
     "output_type": "execute_result"
    }
   ],
   "source": [
    "even_list"
   ]
  },
  {
   "cell_type": "code",
   "execution_count": 9,
   "id": "7ddf2da6",
   "metadata": {},
   "outputs": [],
   "source": [
    "def loan_emi(amount):\n",
    "    emi = amount / 12\n",
    "    print('The EMI is ${}'.format(emi))"
   ]
  },
  {
   "cell_type": "code",
   "execution_count": 10,
   "id": "83b4e1c0",
   "metadata": {},
   "outputs": [
    {
     "name": "stdout",
     "output_type": "stream",
     "text": [
      "The EMI is $105000.0\n"
     ]
    }
   ],
   "source": [
    "loan_emi(1260000)"
   ]
  },
  {
   "cell_type": "code",
   "execution_count": 11,
   "id": "711cb7ed",
   "metadata": {},
   "outputs": [],
   "source": [
    "def loan_emi(amount, duration):\n",
    "    emi = amount / duration\n",
    "    print('The EMI is ${}' .format(emi))"
   ]
  },
  {
   "cell_type": "code",
   "execution_count": 12,
   "id": "15f53107",
   "metadata": {},
   "outputs": [
    {
     "name": "stdout",
     "output_type": "stream",
     "text": [
      "The EMI is $13125.0\n",
      "The EMI is $10500.0\n"
     ]
    }
   ],
   "source": [
    "\n",
    "loan_emi(1260000, 8*12)\n",
    "loan_emi(1260000, 10*12)"
   ]
  },
  {
   "cell_type": "code",
   "execution_count": 13,
   "id": "f71dfdd0",
   "metadata": {},
   "outputs": [],
   "source": [
    "def loan_emi(amount, duration):\n",
    "    emi = amount / duration\n",
    "    return emi"
   ]
  },
  {
   "cell_type": "code",
   "execution_count": 14,
   "id": "55641aac",
   "metadata": {},
   "outputs": [],
   "source": [
    "emi1 = loan_emi(1260000, 8*12)\n",
    "emi2 = loan_emi(1260000, 10*12)"
   ]
  },
  {
   "cell_type": "code",
   "execution_count": 15,
   "id": "6ecc2fdd",
   "metadata": {},
   "outputs": [
    {
     "data": {
      "text/plain": [
       "13125.0"
      ]
     },
     "execution_count": 15,
     "metadata": {},
     "output_type": "execute_result"
    }
   ],
   "source": [
    "emi1"
   ]
  },
  {
   "cell_type": "code",
   "execution_count": 16,
   "id": "14f06c92",
   "metadata": {},
   "outputs": [
    {
     "data": {
      "text/plain": [
       "10500.0"
      ]
     },
     "execution_count": 16,
     "metadata": {},
     "output_type": "execute_result"
    }
   ],
   "source": [
    "emi2"
   ]
  },
  {
   "cell_type": "code",
   "execution_count": 17,
   "id": "9cbe176b",
   "metadata": {},
   "outputs": [],
   "source": [
    "# Optional arguments\n",
    "\n",
    "\n",
    "def loan_emi(amount, duration, down_payment=0):\n",
    "    loan_amount = amount - down_payment\n",
    "    emi = loan_amount / duration\n",
    "    return emi"
   ]
  },
  {
   "cell_type": "markdown",
   "id": "87942dd7",
   "metadata": {},
   "source": [
    "emi1 = loan_emi(1260000, 8*12, 3e5)"
   ]
  },
  {
   "cell_type": "code",
   "execution_count": 18,
   "id": "befeeff9",
   "metadata": {},
   "outputs": [
    {
     "data": {
      "text/plain": [
       "13125.0"
      ]
     },
     "execution_count": 18,
     "metadata": {},
     "output_type": "execute_result"
    }
   ],
   "source": [
    "emi1"
   ]
  },
  {
   "cell_type": "code",
   "execution_count": 19,
   "id": "b1fe2a53",
   "metadata": {},
   "outputs": [],
   "source": [
    "emi2 = loan_emi(1260000, 10*12)"
   ]
  },
  {
   "cell_type": "code",
   "execution_count": 20,
   "id": "3727901f",
   "metadata": {},
   "outputs": [
    {
     "data": {
      "text/plain": [
       "10500.0"
      ]
     },
     "execution_count": 20,
     "metadata": {},
     "output_type": "execute_result"
    }
   ],
   "source": [
    "emi2"
   ]
  },
  {
   "cell_type": "code",
   "execution_count": 21,
   "id": "e867f320",
   "metadata": {},
   "outputs": [],
   "source": [
    "def lone_emi(amount, duration, rate, down_payment=0):\n",
    "    loan_amount = amount - down_payment\n",
    "    emi = loan_amount * rate * ((1+rate)**duration) / (((1+rate)**duration)-1)\n",
    "    \n",
    "    return emi"
   ]
  },
  {
   "cell_type": "code",
   "execution_count": 22,
   "id": "1330f697",
   "metadata": {},
   "outputs": [
    {
     "data": {
      "text/plain": [
       "14567.19753389219"
      ]
     },
     "execution_count": 22,
     "metadata": {},
     "output_type": "execute_result"
    }
   ],
   "source": [
    "lone_emi(1260000, 8*12, 0.1/12, 3e5)"
   ]
  },
  {
   "cell_type": "code",
   "execution_count": 23,
   "id": "6b567548",
   "metadata": {},
   "outputs": [],
   "source": [
    "# while calculating the EMI for option 2, we need not include the down_payment argument."
   ]
  },
  {
   "cell_type": "code",
   "execution_count": 24,
   "id": "e3ccb004",
   "metadata": {},
   "outputs": [
    {
     "data": {
      "text/plain": [
       "15287.276888775077"
      ]
     },
     "execution_count": 24,
     "metadata": {},
     "output_type": "execute_result"
    }
   ],
   "source": [
    "lone_emi(1260000, 10*12, 0.08/12)"
   ]
  },
  {
   "cell_type": "code",
   "execution_count": 25,
   "id": "406d1425",
   "metadata": {},
   "outputs": [
    {
     "ename": "TypeError",
     "evalue": "loan_emi() got an unexpected keyword argument 'rate'",
     "output_type": "error",
     "traceback": [
      "\u001b[1;31m---------------------------------------------------------------------------\u001b[0m",
      "\u001b[1;31mTypeError\u001b[0m                                 Traceback (most recent call last)",
      "\u001b[1;32m<ipython-input-25-c603da7e89a9>\u001b[0m in \u001b[0;36m<module>\u001b[1;34m\u001b[0m\n\u001b[1;32m----> 1\u001b[1;33m emi1 = loan_emi(\n\u001b[0m\u001b[0;32m      2\u001b[0m     \u001b[0mamount\u001b[0m\u001b[1;33m=\u001b[0m\u001b[1;36m1260000\u001b[0m\u001b[1;33m,\u001b[0m\u001b[1;33m\u001b[0m\u001b[1;33m\u001b[0m\u001b[0m\n\u001b[0;32m      3\u001b[0m     \u001b[0mduration\u001b[0m\u001b[1;33m=\u001b[0m\u001b[1;36m8\u001b[0m\u001b[1;33m*\u001b[0m\u001b[1;36m12\u001b[0m\u001b[1;33m,\u001b[0m\u001b[1;33m\u001b[0m\u001b[1;33m\u001b[0m\u001b[0m\n\u001b[0;32m      4\u001b[0m     \u001b[0mrate\u001b[0m\u001b[1;33m=\u001b[0m\u001b[1;36m0.1\u001b[0m\u001b[1;33m/\u001b[0m\u001b[1;36m12\u001b[0m\u001b[1;33m,\u001b[0m\u001b[1;33m\u001b[0m\u001b[1;33m\u001b[0m\u001b[0m\n\u001b[0;32m      5\u001b[0m     \u001b[0mdown_payment\u001b[0m\u001b[1;33m=\u001b[0m\u001b[1;36m3e5\u001b[0m\u001b[1;33m\u001b[0m\u001b[1;33m\u001b[0m\u001b[0m\n",
      "\u001b[1;31mTypeError\u001b[0m: loan_emi() got an unexpected keyword argument 'rate'"
     ]
    }
   ],
   "source": [
    "emi1 = loan_emi(\n",
    "    amount=1260000, \n",
    "    duration=8*12, \n",
    "    rate=0.1/12, \n",
    "    down_payment=3e5\n",
    ")"
   ]
  },
  {
   "cell_type": "code",
   "execution_count": null,
   "id": "0a74b0cb",
   "metadata": {},
   "outputs": [],
   "source": [
    "emi2 = loan_emi(amount=1260000, duration=10*12, rate=0.08/12)"
   ]
  },
  {
   "cell_type": "code",
   "execution_count": null,
   "id": "1c3328a3",
   "metadata": {},
   "outputs": [],
   "source": [
    "import math"
   ]
  },
  {
   "cell_type": "code",
   "execution_count": null,
   "id": "1ddf8c97",
   "metadata": {},
   "outputs": [],
   "source": [
    "help(math.ceil)"
   ]
  },
  {
   "cell_type": "code",
   "execution_count": null,
   "id": "548a8e68",
   "metadata": {},
   "outputs": [],
   "source": [
    "math.ceil(1.2)"
   ]
  },
  {
   "cell_type": "markdown",
   "id": "d408ef2c",
   "metadata": {},
   "source": [
    "Lets now use the math.ceil function within the home_lone_emi function to round up the \n",
    "EMI amount.\n",
    "\n",
    "\n",
    "Using functions to build other functions is a great way to reuse code and implement\n",
    "complex business logic while still keeping the code small, understandable,\n",
    "and manageable.Ideally, a function should do the thing and onething \n",
    "only. if you find yourself writing a function that does too many things, \n",
    "consider spliting it into multiple smaller, independent function As a rule\n",
    "of thumbs, try to limits function to 10 lines\n",
    "of cods or less. good programmers always write short, and redable function. "
   ]
  },
  {
   "cell_type": "code",
   "execution_count": null,
   "id": "57849bda",
   "metadata": {},
   "outputs": [],
   "source": [
    "def lone_emi(amount, duration, rate, down_payment=0):\n",
    "    lone_amount = amount  - down_payment\n",
    "    emi = loan_amount * rate * ((1+rate)**duration) / (((1+rate)**duration)-1)\n",
    "    emi = math.ceil(emi)\n",
    "    return emi"
   ]
  },
  {
   "cell_type": "code",
   "execution_count": null,
   "id": "91fb0f62",
   "metadata": {},
   "outputs": [],
   "source": [
    "\n",
    "emi1 = loan_emi(\n",
    "    amount=1260000, \n",
    "    duration=8*12, \n",
    "    rate=0.1/12, \n",
    "    down_payment=3e5\n",
    ")"
   ]
  },
  {
   "cell_type": "markdown",
   "id": "361b9126",
   "metadata": {},
   "source": [
    "# Reusing and improving functions\n",
    "This question is now straightforword to solve, using the lone-emi \n",
    "function we've alwaredy defiend.\n"
   ]
  },
  {
   "cell_type": "code",
   "execution_count": null,
   "id": "8c9688a1",
   "metadata": {},
   "outputs": [],
   "source": [
    "cost_of_house = 800000\n",
    "home_loan_duration = 6*12 # months\n",
    "home_loan_rate = 0.07/12 # monthly\n",
    "home_down_payment = .25 * 800000\n",
    "\n",
    "emi_house = loan_emi(amount=cost_of_house,\n",
    "                     duration=home_loan_duration,\n",
    "                     rate=home_loan_rate, \n",
    "                     down_payment=home_down_payment)\n",
    "\n",
    "emi_house"
   ]
  },
  {
   "cell_type": "code",
   "execution_count": null,
   "id": "93f2e9ff",
   "metadata": {},
   "outputs": [],
   "source": [
    "coust_of_car = 60000\n",
    "car_lone_duration = 1*12 # months\n",
    "car_lone_rate = .12/12 # monthly\n",
    "\n",
    "emi_car = loan_emi(amount=coust_of_car,\n",
    "                  duration=car_loan_duration,\n",
    "                  rate=car_loan_rate)\n",
    "emi_car"
   ]
  },
  {
   "cell_type": "code",
   "execution_count": null,
   "id": "93a17931",
   "metadata": {},
   "outputs": [],
   "source": [
    "try:\n",
    "    \n",
    "    print('Now computing the result..')\n",
    "    result = 5 / 0\n",
    "    print(\"Computation was completed successfully\")\n",
    "except ZeroDivisionError:\n",
    "    print(\"Failed to compute result because you wear trying to divide by zero\")\n",
    "    result = None\n",
    "    \n",
    "print(result)\n"
   ]
  },
  {
   "cell_type": "code",
   "execution_count": null,
   "id": "a1ebd72b",
   "metadata": {},
   "outputs": [],
   "source": [
    "def loan_emi(amount, duration, rate, down_payment=0):\n",
    "    loan_amount = amount - down_payment\n",
    "    try:\n",
    "        emi = loan_amount * rate * ((1+rate)**duration) / (((1+rate)**duration)-1)\n",
    "    except ZeroDivisionError:\n",
    "        emi = loan_amount / duration\n",
    "    emi = math.ceil(emi)\n",
    "    return emi"
   ]
  },
  {
   "cell_type": "code",
   "execution_count": null,
   "id": "d05dda39",
   "metadata": {},
   "outputs": [],
   "source": [
    "emi_with_interest = loan_emi(amount=100000, duration=10*12, rate=0.09/12)\n",
    "emi_with_interest"
   ]
  },
  {
   "cell_type": "code",
   "execution_count": null,
   "id": "6aa9b570",
   "metadata": {},
   "outputs": [],
   "source": [
    "emi_without_interest = loan_emi(amount=100000, duration=10*12, rate=0)\n",
    "emi_without_interest"
   ]
  },
  {
   "cell_type": "code",
   "execution_count": null,
   "id": "6d1315fe",
   "metadata": {},
   "outputs": [],
   "source": [
    "total_interest = (emi_with_interest - emi_without_interest) * 10*12"
   ]
  },
  {
   "cell_type": "code",
   "execution_count": null,
   "id": "e4b76dae",
   "metadata": {},
   "outputs": [],
   "source": [
    "print(\"The total interest paid is ${}.\".format(total_interest))"
   ]
  },
  {
   "cell_type": "code",
   "execution_count": null,
   "id": "8298ac6a",
   "metadata": {},
   "outputs": [],
   "source": [
    "#Documenting function using Docstrings\n",
    "\n",
    "def loan_emi(amount, duration, rate, down_payment=0):\n",
    "    \"\"\"\"Calculats the equal monthly installment (EMI) for a loan.\n",
    "    \n",
    "    Arguments:\n",
    "         amount - Total amount to be spent (loan + down payment)\n",
    "         duration - Duration of the loan (in months)\n",
    "         rate - Rate of interest (monthly)\n",
    "         down_payment (optional) - Optional intial payment (deducted from amount)\n",
    "       \"\"\"\n",
    "     loan_amount = amount - down_payment\n",
    "     try:\n",
    "        emi = loan_amount * rate * ((1+rate)**duration) / ((1+rate)**duration)-1)\n",
    "     except ZeroDivisionError:\n",
    "        emi = loan_amount / duration\n",
    "    emi = math.ceil(emi)\n",
    "    return emi\n"
   ]
  },
  {
   "cell_type": "code",
   "execution_count": null,
   "id": "837a67f4",
   "metadata": {},
   "outputs": [],
   "source": [
    "# if condition:\n",
    " # statement1\n",
    " # statement2 \n",
    "\n",
    "\n",
    "a_number = 31\n",
    "    \n",
    "    "
   ]
  },
  {
   "cell_type": "code",
   "execution_count": null,
   "id": "bf43a98b",
   "metadata": {},
   "outputs": [],
   "source": [
    "if a_naumber % 2 == 0:\n",
    "    print(\"We're inside an if block\")\n",
    "    print(\"The given number {} is even.\".format(a_number))\n"
   ]
  },
  {
   "cell_type": "code",
   "execution_count": null,
   "id": "85963050",
   "metadata": {},
   "outputs": [],
   "source": [
    "another_number = 33"
   ]
  },
  {
   "cell_type": "code",
   "execution_count": null,
   "id": "ee4b7b42",
   "metadata": {},
   "outputs": [],
   "source": [
    "if anoather_number % 2 == 0:\n",
    "    print('The given number {} is even.'.format(a_number))\n"
   ]
  },
  {
   "cell_type": "markdown",
   "id": "984f3461",
   "metadata": {},
   "source": [
    "if condition:\n",
    "    statement1\n",
    "    statement2\n",
    "else:\n",
    "    statement4\n",
    "    statement5\n",
    "    \n",
    "if condition evaluates to True, the statements in the if block are executed.\n",
    "if it evaluates to False, the statements in the else block are executed."
   ]
  },
  {
   "cell_type": "code",
   "execution_count": null,
   "id": "dedab956",
   "metadata": {},
   "outputs": [],
   "source": [
    "a_number = 34"
   ]
  },
  {
   "cell_type": "code",
   "execution_count": null,
   "id": "6c8933f7",
   "metadata": {},
   "outputs": [],
   "source": [
    "if a_number % 2 == 0:\n",
    "    print('The Given number {} is even.'.format(a_number))\n",
    "else:\n",
    "    print('The Given number {} is odd.'.format(a_number))"
   ]
  },
  {
   "cell_type": "code",
   "execution_count": null,
   "id": "966fcc24",
   "metadata": {},
   "outputs": [],
   "source": [
    "a_number = 44"
   ]
  },
  {
   "cell_type": "code",
   "execution_count": null,
   "id": "a31fdcc1",
   "metadata": {},
   "outputs": [],
   "source": [
    "if a_number % 3 == 0:\n",
    "    print('The Given number {} is even.'.format(a_number))\n",
    "else:\n",
    "    print('The Given number {} is odd.'.format(a_number))"
   ]
  },
  {
   "cell_type": "code",
   "execution_count": null,
   "id": "06a6f6a4",
   "metadata": {},
   "outputs": [],
   "source": [
    "the_3_musketeers = ('Athos', 'Porthos', 'Aramis')"
   ]
  },
  {
   "cell_type": "code",
   "execution_count": null,
   "id": "8a4431b2",
   "metadata": {},
   "outputs": [],
   "source": [
    "a_candidate = \"D'Artagnan\""
   ]
  },
  {
   "cell_type": "code",
   "execution_count": null,
   "id": "b726cb92",
   "metadata": {},
   "outputs": [],
   "source": [
    "if a_candidate in the_3_musketeers:\n",
    "    print(\"{} is a musketeer\".format(a_candidate))\n",
    "else:\n",
    "    print(\"{} is not a musketeer\".format(a_candidate))"
   ]
  },
  {
   "cell_type": "code",
   "execution_count": null,
   "id": "7255ad07",
   "metadata": {},
   "outputs": [],
   "source": [
    "today = 'Wednesday'"
   ]
  },
  {
   "cell_type": "code",
   "execution_count": null,
   "id": "31d3ff32",
   "metadata": {},
   "outputs": [],
   "source": [
    "if today == 'Sunday':\n",
    "    print('Today is the day of the sun.')\n",
    "elif today == 'Monday':\n",
    "    print('Today is the day of the moon.')\n",
    "elif today == 'Tuesday':\n",
    "    print('Today is the day of the Tyr, the god of war.')\n",
    "elif today == 'Wednesday':\n",
    "    print('Today is the day of the sun. the evel of war.')\n",
    "elif today == 'Thuresday':\n",
    "    print('Today is the day of Thor, the god of thunder.')\n",
    "elif today == 'Friday':\n",
    "    print('Today is the day of Frigga, the goddess of beauty.')\n",
    "elif today == 'Saturday':\n",
    "    print('Today is the day of Saturn, the god of fun and featuring.')"
   ]
  },
  {
   "cell_type": "code",
   "execution_count": null,
   "id": "3f59e0e3",
   "metadata": {},
   "outputs": [],
   "source": [
    "i = 1\n",
    "result = 1 \n",
    "\n",
    "while i < 20:\n",
    "    i += 1\n",
    "    if i % 2 == 0:\n",
    "        print('Skipping {}'.format(i))\n",
    "        continue\n",
    "    print('Multiplying with {}'.format(i))\n",
    "    result = result * i\n",
    "    \n",
    "print('i:', i)\n",
    "print('result:',result)"
   ]
  },
  {
   "cell_type": "code",
   "execution_count": null,
   "id": "06f73dd4",
   "metadata": {},
   "outputs": [],
   "source": [
    "i = 1\n",
    "result = 1\n",
    "\n",
    "while i <= 100:\n",
    "    result *=i\n",
    "    if i == 42:\n",
    "        print('Magic number 42 reached! Stopping execution..')\n",
    "        break\n",
    "    i += 1\n",
    "    \n",
    "print('i:', i)\n",
    "print('result:',result)"
   ]
  },
  {
   "cell_type": "code",
   "execution_count": null,
   "id": "2b4fbb15",
   "metadata": {},
   "outputs": [],
   "source": [
    "days = ['Monday', 'Tuesday','Wednesday','Thuresday','Friday']\n",
    "\n",
    "for day in days:\n",
    "    print((day))"
   ]
  },
  {
   "cell_type": "code",
   "execution_count": null,
   "id": "7f2d43de",
   "metadata": {},
   "outputs": [],
   "source": [
    "Name = ['Amit','Harneet','Rashmi','Kumar','Kumar','Lata']\n",
    "\n",
    "for Name in Name:\n",
    "    print((Name))"
   ]
  },
  {
   "cell_type": "code",
   "execution_count": null,
   "id": "b5890ce4",
   "metadata": {},
   "outputs": [],
   "source": [
    "#Looping over a string\n",
    "for char in 'Monday':\n",
    "    print(char)"
   ]
  },
  {
   "cell_type": "code",
   "execution_count": null,
   "id": "1835b2c0",
   "metadata": {},
   "outputs": [],
   "source": [
    "#Looping over a string\n",
    "for char in 'LalalandbooomShanker':\n",
    "    print(chr)"
   ]
  },
  {
   "cell_type": "code",
   "execution_count": null,
   "id": "e06c6a61",
   "metadata": {},
   "outputs": [],
   "source": [
    "#Looping over s truple\n",
    "for fruit in ['Apple','Banana','Guava']:\n",
    "    print(\"Here's s fruit:\",fruit)"
   ]
  },
  {
   "cell_type": "code",
   "execution_count": null,
   "id": "ffcb849e",
   "metadata": {},
   "outputs": [],
   "source": [
    "#Looping in dictionary\n",
    "person = {\n",
    "    'name': 'John Doe',\n",
    "    'sex': 'Male',\n",
    "    'age': 32,\n",
    "    'married': True\n",
    "}\n",
    "\n",
    "for key in person:\n",
    "    print('Key:', key, \",\", \"Value:\", person[key])"
   ]
  },
  {
   "cell_type": "code",
   "execution_count": null,
   "id": "c731458c",
   "metadata": {},
   "outputs": [],
   "source": [
    "for value in person.values():\n",
    "    print(value)"
   ]
  },
  {
   "cell_type": "code",
   "execution_count": null,
   "id": "daefddc3",
   "metadata": {},
   "outputs": [],
   "source": [
    "for value in person.values():\n",
    "    print(value)"
   ]
  },
  {
   "cell_type": "code",
   "execution_count": null,
   "id": "713b2a07",
   "metadata": {},
   "outputs": [],
   "source": [
    "for kay, value in person.items():\n",
    "    print(\"key:\",key,\",\",\"value\",value)"
   ]
  },
  {
   "cell_type": "code",
   "execution_count": null,
   "id": "1d39410e",
   "metadata": {},
   "outputs": [],
   "source": [
    "for i in range(7):\n",
    "    print(i)"
   ]
  },
  {
   "cell_type": "code",
   "execution_count": null,
   "id": "93cc4382",
   "metadata": {},
   "outputs": [],
   "source": [
    "for i in range(10):\n",
    "    print(i)"
   ]
  },
  {
   "cell_type": "code",
   "execution_count": null,
   "id": "ba1d5c2c",
   "metadata": {},
   "outputs": [],
   "source": [
    "for i in range(3, 10):\n",
    "    print(i)"
   ]
  },
  {
   "cell_type": "code",
   "execution_count": null,
   "id": "a15a6ffd",
   "metadata": {},
   "outputs": [],
   "source": [
    "for i in range(3, 14, 5):\n",
    "    print(i)"
   ]
  },
  {
   "cell_type": "markdown",
   "id": "9cdbaa0a",
   "metadata": {},
   "source": [
    "Range are using iterating over list when you need to track the index of elements while\n",
    "iterting."
   ]
  },
  {
   "cell_type": "code",
   "execution_count": null,
   "id": "24b4a52f",
   "metadata": {},
   "outputs": [],
   "source": [
    "a_list =['Monday','Tuesday','Wednesday','Thuresday','Friday']\n",
    "\n",
    "for i in range(len(a_list)):\n",
    "    print('The value at position {} is {}.'.format(i, a_list[i]))"
   ]
  },
  {
   "cell_type": "markdown",
   "id": "3e6275b8",
   "metadata": {},
   "source": [
    "Another way to achieve the same rasult is by using the enumerate function\n",
    "with a_list as an input, which result a truple containing the index and the cooresponding element."
   ]
  },
  {
   "cell_type": "code",
   "execution_count": null,
   "id": "0909743a",
   "metadata": {},
   "outputs": [],
   "source": [
    "for i, val in enumerate(a_list):\n",
    "    print('The value at position {} is {}.'.format(i, val))"
   ]
  },
  {
   "cell_type": "code",
   "execution_count": null,
   "id": "104aeb2e",
   "metadata": {},
   "outputs": [],
   "source": [
    "#Break, continue and pass statements\n",
    "weekdays = ['Monday','Tuesday','Wednesday','Thuresday','Friday']"
   ]
  },
  {
   "cell_type": "code",
   "execution_count": null,
   "id": "4d33e1c7",
   "metadata": {},
   "outputs": [],
   "source": [
    "for day in weekdays:\n",
    "    print('Today is {}'.format(day))\n",
    "    if (day == 'Wednesday'):\n",
    "        print(\"I don't worke beyound Wednesday!\")\n",
    "        break\n",
    "    "
   ]
  },
  {
   "cell_type": "code",
   "execution_count": null,
   "id": "edf4f1a9",
   "metadata": {},
   "outputs": [],
   "source": [
    "for day in weekdays:\n",
    "    if (day == 'wednesday'):\n",
    "        print(\"I don't work on wednesay!\")\n",
    "        continue\n",
    "    print(\"Today is {}\". format(day))"
   ]
  },
  {
   "cell_type": "code",
   "execution_count": null,
   "id": "894facd6",
   "metadata": {},
   "outputs": [],
   "source": [
    "for day in weekdays:\n",
    "    pass"
   ]
  },
  {
   "cell_type": "markdown",
   "id": "a442ceee",
   "metadata": {},
   "source": [
    "#Nested for and while loops\n",
    "similar to conditional statement, loops can be nested other looping. \n",
    "This is useful for looping list of lists, dictionaries etc."
   ]
  },
  {
   "cell_type": "code",
   "execution_count": null,
   "id": "a69bc76d",
   "metadata": {},
   "outputs": [],
   "source": [
    "persons = [{'name':'John','sex':'Male'}, {'name':'Jane','sex':'Female'}]\n",
    "\n",
    "for person in persons:\n",
    "    for key in person:\n",
    "        print(key, \":\" , person[key])\n",
    "        print(\" \")"
   ]
  },
  {
   "cell_type": "code",
   "execution_count": null,
   "id": "b52fce4c",
   "metadata": {},
   "outputs": [],
   "source": [
    "person = [{'name':'amit','sex':'Male'},{'name':'Dr','sex':'Femal'}]\n",
    "\n",
    "for person in persons:\n",
    "    for key in person:\n",
    "        print(key, \":\" , person[key])\n",
    "        print(\" \")"
   ]
  },
  {
   "cell_type": "code",
   "execution_count": null,
   "id": "a6aa0dd1",
   "metadata": {},
   "outputs": [],
   "source": [
    "days = ['Monday','Tuesday','Wednesday']\n",
    "fruits = ['apple','banana','guava']\n",
    "\n",
    "for day in days:\n",
    "    for fruits in fruits:\n",
    "        print(day, fruits)"
   ]
  },
  {
   "cell_type": "code",
   "execution_count": null,
   "id": "bdcae25a",
   "metadata": {},
   "outputs": [],
   "source": [
    "cost_of_flying_plane = 5000\n",
    "number_of_passengers = 29\n",
    "price_of_ticket = 200\n",
    "profit = [200*29-5000]\n",
    "print('The company makes of a profit of {} dollars'.format(profit))"
   ]
  },
  {
   "cell_type": "code",
   "execution_count": null,
   "id": "e8c6c387",
   "metadata": {},
   "outputs": [],
   "source": [
    "# this is optional.\n",
    "return_flight = (12*200-800)\n",
    "\n",
    "if :\n",
    "    print('The company makes an overall profit of {} dollars'.format(return_flight))\n",
    "else:\n",
    "    print('The company makes an overall loss of {} dollars'.format(overall_loss))\n",
    "    "
   ]
  },
  {
   "cell_type": "code",
   "execution_count": null,
   "id": "bfb33a2f",
   "metadata": {},
   "outputs": [],
   "source": [
    "import numpy as np\n",
    "print(np.array([[[\n",
    "    [[11, 12, 13], \n",
    "     [13, 14, 15]], \n",
    "    [[15, 16, 17], \n",
    "     [17, 18, 19.5]]]\n",
    "    ]]).ndim)"
   ]
  },
  {
   "cell_type": "code",
   "execution_count": null,
   "id": "b4ed9a7a",
   "metadata": {},
   "outputs": [],
   "source": [
    "arr1 = np.array([[0, 1, 2],\n",
    "                 [3, 4, 5]])\n",
    "arr2 = np.array([[6, 7, 8],\n",
    "                 [9, 10, 11]])\n",
    "print(np.concatenate((arr1, arr2), axis=1))"
   ]
  },
  {
   "cell_type": "code",
   "execution_count": null,
   "id": "1e8c481e",
   "metadata": {},
   "outputs": [],
   "source": [
    "arr2 = np.array([[1, 4, 7, 8], \n",
    "                 [2, 5, 8, 7], \n",
    "                 [3, 6, 9, 1]])\n",
    "arr1 = np.array([3, 2, 5, 1])\n",
    "print(arr1 + arr2)"
   ]
  },
  {
   "cell_type": "code",
   "execution_count": null,
   "id": "c3ddc4f5",
   "metadata": {},
   "outputs": [],
   "source": [
    "arr3 = np.array([\n",
    "    [[11, 12, 8, 19], \n",
    "     [13, 21, 4, 19]], \n",
    "    \n",
    "    [[5, 1, 7, 21], \n",
    "     [13, 9, 6, 1]], \n",
    "    \n",
    "    [[9, 32, 18, -5],      \n",
    "     [15, 25, 11, -6]]])\n",
    "print(arr3[:2, 1].sum())"
   ]
  },
  {
   "cell_type": "code",
   "execution_count": null,
   "id": "175e475d",
   "metadata": {},
   "outputs": [],
   "source": [
    "arr1 = np.array([[1, 2, 3], [3, 4, 7]])\n",
    "arr2 = np.array([[2, 2, 3], [1, 2, 9]])\n",
    "print(((arr1 >= arr2) - 1).astype(\"bool\").sum())\n"
   ]
  },
  {
   "cell_type": "code",
   "execution_count": null,
   "id": "d3e539f0",
   "metadata": {},
   "outputs": [],
   "source": [
    "arr = np.arange(100)\n",
    "arr1 = arr.reshape(2, 5, 2, -1)\n",
    "print(sum(list(arr1.shape)))"
   ]
  },
  {
   "cell_type": "code",
   "execution_count": null,
   "id": "e311f8b0",
   "metadata": {},
   "outputs": [],
   "source": [
    "arr = np.array([0, 3, 5, 7, 8, 12, 9, 32, 157, 33])\n",
    "print(sum(arr % 2 == 0) + sum(arr[arr%3 == 0]))"
   ]
  },
  {
   "cell_type": "code",
   "execution_count": null,
   "id": "d09084bc",
   "metadata": {},
   "outputs": [],
   "source": [
    "arr = np.arange(9).reshape(3, 3)\n",
    "arr2 = arr[[1, 0, 2], :] @ arr[:, [1, 0, 2]]"
   ]
  },
  {
   "cell_type": "code",
   "execution_count": null,
   "id": "aeff89b4",
   "metadata": {},
   "outputs": [],
   "source": [
    "a = np.array([[0, 1, 2, 3, 4],\n",
    "              [5, 6, 7, 8, 9],\n",
    "              [1, 1, 1, 1, 1],\n",
    "              [3, 9, 5, 7, 8]])\n",
    "print(*a[(a[:, 2]>2) & (a[:, 0]>4)][0], sep=\", \")"
   ]
  },
  {
   "cell_type": "markdown",
   "id": "3b8901d4",
   "metadata": {},
   "source": [
    "# starting new verient of corona-vareous that's heet world. \n",
    "# Calling That. OMEGA VERIOUNT. \n",
    "#analyzing data.OMEGE VERIOUNT. "
   ]
  },
  {
   "cell_type": "code",
   "execution_count": 1,
   "id": "b3655c8c",
   "metadata": {},
   "outputs": [],
   "source": [
    "#import library.\n",
    "import pandas as pd\n",
    "import numpy as np\n",
    "import matplotlib as mlt\n",
    "import seaborn as sns \n"
   ]
  },
  {
   "cell_type": "code",
   "execution_count": 2,
   "id": "acfe56f4",
   "metadata": {},
   "outputs": [
    {
     "ename": "FileNotFoundError",
     "evalue": "[Errno 2] No such file or directory: 'nbc.csv'",
     "output_type": "error",
     "traceback": [
      "\u001b[1;31m---------------------------------------------------------------------------\u001b[0m",
      "\u001b[1;31mFileNotFoundError\u001b[0m                         Traceback (most recent call last)",
      "\u001b[1;32m<ipython-input-2-82adf021a188>\u001b[0m in \u001b[0;36m<module>\u001b[1;34m\u001b[0m\n\u001b[0;32m      3\u001b[0m \u001b[1;33m\u001b[0m\u001b[0m\n\u001b[0;32m      4\u001b[0m \u001b[1;31m# making data frame from csv file.\u001b[0m\u001b[1;33m\u001b[0m\u001b[1;33m\u001b[0m\u001b[1;33m\u001b[0m\u001b[0m\n\u001b[1;32m----> 5\u001b[1;33m \u001b[0mdata\u001b[0m \u001b[1;33m=\u001b[0m \u001b[0mpd\u001b[0m\u001b[1;33m.\u001b[0m\u001b[0mread_csv\u001b[0m\u001b[1;33m(\u001b[0m\u001b[1;34m\"nbc.csv\"\u001b[0m\u001b[1;33m)\u001b[0m\u001b[1;33m\u001b[0m\u001b[1;33m\u001b[0m\u001b[0m\n\u001b[0m\u001b[0;32m      6\u001b[0m \u001b[0mdata\u001b[0m\u001b[1;33m\u001b[0m\u001b[1;33m\u001b[0m\u001b[0m\n",
      "\u001b[1;32m~\\anaconda3\\lib\\site-packages\\pandas\\io\\parsers.py\u001b[0m in \u001b[0;36mread_csv\u001b[1;34m(filepath_or_buffer, sep, delimiter, header, names, index_col, usecols, squeeze, prefix, mangle_dupe_cols, dtype, engine, converters, true_values, false_values, skipinitialspace, skiprows, skipfooter, nrows, na_values, keep_default_na, na_filter, verbose, skip_blank_lines, parse_dates, infer_datetime_format, keep_date_col, date_parser, dayfirst, cache_dates, iterator, chunksize, compression, thousands, decimal, lineterminator, quotechar, quoting, doublequote, escapechar, comment, encoding, dialect, error_bad_lines, warn_bad_lines, delim_whitespace, low_memory, memory_map, float_precision, storage_options)\u001b[0m\n\u001b[0;32m    608\u001b[0m     \u001b[0mkwds\u001b[0m\u001b[1;33m.\u001b[0m\u001b[0mupdate\u001b[0m\u001b[1;33m(\u001b[0m\u001b[0mkwds_defaults\u001b[0m\u001b[1;33m)\u001b[0m\u001b[1;33m\u001b[0m\u001b[1;33m\u001b[0m\u001b[0m\n\u001b[0;32m    609\u001b[0m \u001b[1;33m\u001b[0m\u001b[0m\n\u001b[1;32m--> 610\u001b[1;33m     \u001b[1;32mreturn\u001b[0m \u001b[0m_read\u001b[0m\u001b[1;33m(\u001b[0m\u001b[0mfilepath_or_buffer\u001b[0m\u001b[1;33m,\u001b[0m \u001b[0mkwds\u001b[0m\u001b[1;33m)\u001b[0m\u001b[1;33m\u001b[0m\u001b[1;33m\u001b[0m\u001b[0m\n\u001b[0m\u001b[0;32m    611\u001b[0m \u001b[1;33m\u001b[0m\u001b[0m\n\u001b[0;32m    612\u001b[0m \u001b[1;33m\u001b[0m\u001b[0m\n",
      "\u001b[1;32m~\\anaconda3\\lib\\site-packages\\pandas\\io\\parsers.py\u001b[0m in \u001b[0;36m_read\u001b[1;34m(filepath_or_buffer, kwds)\u001b[0m\n\u001b[0;32m    460\u001b[0m \u001b[1;33m\u001b[0m\u001b[0m\n\u001b[0;32m    461\u001b[0m     \u001b[1;31m# Create the parser.\u001b[0m\u001b[1;33m\u001b[0m\u001b[1;33m\u001b[0m\u001b[1;33m\u001b[0m\u001b[0m\n\u001b[1;32m--> 462\u001b[1;33m     \u001b[0mparser\u001b[0m \u001b[1;33m=\u001b[0m \u001b[0mTextFileReader\u001b[0m\u001b[1;33m(\u001b[0m\u001b[0mfilepath_or_buffer\u001b[0m\u001b[1;33m,\u001b[0m \u001b[1;33m**\u001b[0m\u001b[0mkwds\u001b[0m\u001b[1;33m)\u001b[0m\u001b[1;33m\u001b[0m\u001b[1;33m\u001b[0m\u001b[0m\n\u001b[0m\u001b[0;32m    463\u001b[0m \u001b[1;33m\u001b[0m\u001b[0m\n\u001b[0;32m    464\u001b[0m     \u001b[1;32mif\u001b[0m \u001b[0mchunksize\u001b[0m \u001b[1;32mor\u001b[0m \u001b[0miterator\u001b[0m\u001b[1;33m:\u001b[0m\u001b[1;33m\u001b[0m\u001b[1;33m\u001b[0m\u001b[0m\n",
      "\u001b[1;32m~\\anaconda3\\lib\\site-packages\\pandas\\io\\parsers.py\u001b[0m in \u001b[0;36m__init__\u001b[1;34m(self, f, engine, **kwds)\u001b[0m\n\u001b[0;32m    817\u001b[0m             \u001b[0mself\u001b[0m\u001b[1;33m.\u001b[0m\u001b[0moptions\u001b[0m\u001b[1;33m[\u001b[0m\u001b[1;34m\"has_index_names\"\u001b[0m\u001b[1;33m]\u001b[0m \u001b[1;33m=\u001b[0m \u001b[0mkwds\u001b[0m\u001b[1;33m[\u001b[0m\u001b[1;34m\"has_index_names\"\u001b[0m\u001b[1;33m]\u001b[0m\u001b[1;33m\u001b[0m\u001b[1;33m\u001b[0m\u001b[0m\n\u001b[0;32m    818\u001b[0m \u001b[1;33m\u001b[0m\u001b[0m\n\u001b[1;32m--> 819\u001b[1;33m         \u001b[0mself\u001b[0m\u001b[1;33m.\u001b[0m\u001b[0m_engine\u001b[0m \u001b[1;33m=\u001b[0m \u001b[0mself\u001b[0m\u001b[1;33m.\u001b[0m\u001b[0m_make_engine\u001b[0m\u001b[1;33m(\u001b[0m\u001b[0mself\u001b[0m\u001b[1;33m.\u001b[0m\u001b[0mengine\u001b[0m\u001b[1;33m)\u001b[0m\u001b[1;33m\u001b[0m\u001b[1;33m\u001b[0m\u001b[0m\n\u001b[0m\u001b[0;32m    820\u001b[0m \u001b[1;33m\u001b[0m\u001b[0m\n\u001b[0;32m    821\u001b[0m     \u001b[1;32mdef\u001b[0m \u001b[0mclose\u001b[0m\u001b[1;33m(\u001b[0m\u001b[0mself\u001b[0m\u001b[1;33m)\u001b[0m\u001b[1;33m:\u001b[0m\u001b[1;33m\u001b[0m\u001b[1;33m\u001b[0m\u001b[0m\n",
      "\u001b[1;32m~\\anaconda3\\lib\\site-packages\\pandas\\io\\parsers.py\u001b[0m in \u001b[0;36m_make_engine\u001b[1;34m(self, engine)\u001b[0m\n\u001b[0;32m   1048\u001b[0m             )\n\u001b[0;32m   1049\u001b[0m         \u001b[1;31m# error: Too many arguments for \"ParserBase\"\u001b[0m\u001b[1;33m\u001b[0m\u001b[1;33m\u001b[0m\u001b[1;33m\u001b[0m\u001b[0m\n\u001b[1;32m-> 1050\u001b[1;33m         \u001b[1;32mreturn\u001b[0m \u001b[0mmapping\u001b[0m\u001b[1;33m[\u001b[0m\u001b[0mengine\u001b[0m\u001b[1;33m]\u001b[0m\u001b[1;33m(\u001b[0m\u001b[0mself\u001b[0m\u001b[1;33m.\u001b[0m\u001b[0mf\u001b[0m\u001b[1;33m,\u001b[0m \u001b[1;33m**\u001b[0m\u001b[0mself\u001b[0m\u001b[1;33m.\u001b[0m\u001b[0moptions\u001b[0m\u001b[1;33m)\u001b[0m  \u001b[1;31m# type: ignore[call-arg]\u001b[0m\u001b[1;33m\u001b[0m\u001b[1;33m\u001b[0m\u001b[0m\n\u001b[0m\u001b[0;32m   1051\u001b[0m \u001b[1;33m\u001b[0m\u001b[0m\n\u001b[0;32m   1052\u001b[0m     \u001b[1;32mdef\u001b[0m \u001b[0m_failover_to_python\u001b[0m\u001b[1;33m(\u001b[0m\u001b[0mself\u001b[0m\u001b[1;33m)\u001b[0m\u001b[1;33m:\u001b[0m\u001b[1;33m\u001b[0m\u001b[1;33m\u001b[0m\u001b[0m\n",
      "\u001b[1;32m~\\anaconda3\\lib\\site-packages\\pandas\\io\\parsers.py\u001b[0m in \u001b[0;36m__init__\u001b[1;34m(self, src, **kwds)\u001b[0m\n\u001b[0;32m   1865\u001b[0m \u001b[1;33m\u001b[0m\u001b[0m\n\u001b[0;32m   1866\u001b[0m         \u001b[1;31m# open handles\u001b[0m\u001b[1;33m\u001b[0m\u001b[1;33m\u001b[0m\u001b[1;33m\u001b[0m\u001b[0m\n\u001b[1;32m-> 1867\u001b[1;33m         \u001b[0mself\u001b[0m\u001b[1;33m.\u001b[0m\u001b[0m_open_handles\u001b[0m\u001b[1;33m(\u001b[0m\u001b[0msrc\u001b[0m\u001b[1;33m,\u001b[0m \u001b[0mkwds\u001b[0m\u001b[1;33m)\u001b[0m\u001b[1;33m\u001b[0m\u001b[1;33m\u001b[0m\u001b[0m\n\u001b[0m\u001b[0;32m   1868\u001b[0m         \u001b[1;32massert\u001b[0m \u001b[0mself\u001b[0m\u001b[1;33m.\u001b[0m\u001b[0mhandles\u001b[0m \u001b[1;32mis\u001b[0m \u001b[1;32mnot\u001b[0m \u001b[1;32mNone\u001b[0m\u001b[1;33m\u001b[0m\u001b[1;33m\u001b[0m\u001b[0m\n\u001b[0;32m   1869\u001b[0m         \u001b[1;32mfor\u001b[0m \u001b[0mkey\u001b[0m \u001b[1;32min\u001b[0m \u001b[1;33m(\u001b[0m\u001b[1;34m\"storage_options\"\u001b[0m\u001b[1;33m,\u001b[0m \u001b[1;34m\"encoding\"\u001b[0m\u001b[1;33m,\u001b[0m \u001b[1;34m\"memory_map\"\u001b[0m\u001b[1;33m,\u001b[0m \u001b[1;34m\"compression\"\u001b[0m\u001b[1;33m)\u001b[0m\u001b[1;33m:\u001b[0m\u001b[1;33m\u001b[0m\u001b[1;33m\u001b[0m\u001b[0m\n",
      "\u001b[1;32m~\\anaconda3\\lib\\site-packages\\pandas\\io\\parsers.py\u001b[0m in \u001b[0;36m_open_handles\u001b[1;34m(self, src, kwds)\u001b[0m\n\u001b[0;32m   1360\u001b[0m         \u001b[0mLet\u001b[0m \u001b[0mthe\u001b[0m \u001b[0mreaders\u001b[0m \u001b[0mopen\u001b[0m \u001b[0mIOHanldes\u001b[0m \u001b[0mafter\u001b[0m \u001b[0mthey\u001b[0m \u001b[0mare\u001b[0m \u001b[0mdone\u001b[0m \u001b[1;32mwith\u001b[0m \u001b[0mtheir\u001b[0m \u001b[0mpotential\u001b[0m \u001b[0mraises\u001b[0m\u001b[1;33m.\u001b[0m\u001b[1;33m\u001b[0m\u001b[1;33m\u001b[0m\u001b[0m\n\u001b[0;32m   1361\u001b[0m         \"\"\"\n\u001b[1;32m-> 1362\u001b[1;33m         self.handles = get_handle(\n\u001b[0m\u001b[0;32m   1363\u001b[0m             \u001b[0msrc\u001b[0m\u001b[1;33m,\u001b[0m\u001b[1;33m\u001b[0m\u001b[1;33m\u001b[0m\u001b[0m\n\u001b[0;32m   1364\u001b[0m             \u001b[1;34m\"r\"\u001b[0m\u001b[1;33m,\u001b[0m\u001b[1;33m\u001b[0m\u001b[1;33m\u001b[0m\u001b[0m\n",
      "\u001b[1;32m~\\anaconda3\\lib\\site-packages\\pandas\\io\\common.py\u001b[0m in \u001b[0;36mget_handle\u001b[1;34m(path_or_buf, mode, encoding, compression, memory_map, is_text, errors, storage_options)\u001b[0m\n\u001b[0;32m    640\u001b[0m                 \u001b[0merrors\u001b[0m \u001b[1;33m=\u001b[0m \u001b[1;34m\"replace\"\u001b[0m\u001b[1;33m\u001b[0m\u001b[1;33m\u001b[0m\u001b[0m\n\u001b[0;32m    641\u001b[0m             \u001b[1;31m# Encoding\u001b[0m\u001b[1;33m\u001b[0m\u001b[1;33m\u001b[0m\u001b[1;33m\u001b[0m\u001b[0m\n\u001b[1;32m--> 642\u001b[1;33m             handle = open(\n\u001b[0m\u001b[0;32m    643\u001b[0m                 \u001b[0mhandle\u001b[0m\u001b[1;33m,\u001b[0m\u001b[1;33m\u001b[0m\u001b[1;33m\u001b[0m\u001b[0m\n\u001b[0;32m    644\u001b[0m                 \u001b[0mioargs\u001b[0m\u001b[1;33m.\u001b[0m\u001b[0mmode\u001b[0m\u001b[1;33m,\u001b[0m\u001b[1;33m\u001b[0m\u001b[1;33m\u001b[0m\u001b[0m\n",
      "\u001b[1;31mFileNotFoundError\u001b[0m: [Errno 2] No such file or directory: 'nbc.csv'"
     ]
    }
   ],
   "source": [
    "# importing  pandas as module\n",
    "import pandas as pd\n",
    "\n",
    "# making data frame from csv file.\n",
    "data = pd.read_csv(\"nbc.csv\")\n",
    "data\n"
   ]
  },
  {
   "cell_type": "code",
   "execution_count": null,
   "id": "4e633c9e",
   "metadata": {},
   "outputs": [],
   "source": []
  }
 ],
 "metadata": {
  "kernelspec": {
   "display_name": "Python 3",
   "language": "python",
   "name": "python3"
  },
  "language_info": {
   "codemirror_mode": {
    "name": "ipython",
    "version": 3
   },
   "file_extension": ".py",
   "mimetype": "text/x-python",
   "name": "python",
   "nbconvert_exporter": "python",
   "pygments_lexer": "ipython3",
   "version": "3.8.8"
  }
 },
 "nbformat": 4,
 "nbformat_minor": 5
}
