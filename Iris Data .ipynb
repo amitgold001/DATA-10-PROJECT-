{
 "cells": [
  {
   "cell_type": "markdown",
   "metadata": {},
   "source": [
    "# Content:\n",
    "\n",
    "#Loading and Checking Data\n",
    "#Creating Models\n",
    "#Logistic Regression\n",
    "#KNN -K Nearest Neighbors\n",
    "#SVC -Support Vector Classifier\n",
    "#Naive Bayes\n",
    "#Decision Tree Classifier\n",
    "#Random Forest Classifier\n",
    "#Evaluating Models\n",
    "#Confusion Matrix\n",
    "#Accuracy Score\n",
    "#Conclusion"
   ]
  },
  {
   "cell_type": "markdown",
   "metadata": {},
   "source": []
  },
  {
   "cell_type": "code",
   "execution_count": 1,
   "metadata": {},
   "outputs": [],
   "source": [
    "# Import Library \n",
    "import numpy as np\n",
    "import pandas as pd\n",
    "import matplotlib.pyplot as plt\n",
    "import seaborn as sns\n",
    "from sklearn.metrics import confusion_matrix\n",
    "from sklearn.metrics import accuracy_score\n",
    "import sys\n",
    "import warnings\n",
    "\n",
    "if not sys.warnoptions:\n",
    "    warnings.simplefilter(\"ignore\")"
   ]
  },
  {
   "cell_type": "markdown",
   "metadata": {},
   "source": [
    "# Loading and chacking data."
   ]
  },
  {
   "cell_type": "code",
   "execution_count": 2,
   "metadata": {},
   "outputs": [
    {
     "data": {
      "text/html": [
       "<div>\n",
       "<style scoped>\n",
       "    .dataframe tbody tr th:only-of-type {\n",
       "        vertical-align: middle;\n",
       "    }\n",
       "\n",
       "    .dataframe tbody tr th {\n",
       "        vertical-align: top;\n",
       "    }\n",
       "\n",
       "    .dataframe thead th {\n",
       "        text-align: right;\n",
       "    }\n",
       "</style>\n",
       "<table border=\"1\" class=\"dataframe\">\n",
       "  <thead>\n",
       "    <tr style=\"text-align: right;\">\n",
       "      <th></th>\n",
       "      <th>Id</th>\n",
       "      <th>SepalLengthCm</th>\n",
       "      <th>SepalWidthCm</th>\n",
       "      <th>PetalLengthCm</th>\n",
       "      <th>PetalWidthCm</th>\n",
       "      <th>Species</th>\n",
       "    </tr>\n",
       "  </thead>\n",
       "  <tbody>\n",
       "    <tr>\n",
       "      <th>0</th>\n",
       "      <td>1</td>\n",
       "      <td>5.1</td>\n",
       "      <td>3.5</td>\n",
       "      <td>1.4</td>\n",
       "      <td>0.2</td>\n",
       "      <td>Iris-setosa</td>\n",
       "    </tr>\n",
       "    <tr>\n",
       "      <th>1</th>\n",
       "      <td>2</td>\n",
       "      <td>4.9</td>\n",
       "      <td>3.0</td>\n",
       "      <td>1.4</td>\n",
       "      <td>0.2</td>\n",
       "      <td>Iris-setosa</td>\n",
       "    </tr>\n",
       "    <tr>\n",
       "      <th>2</th>\n",
       "      <td>3</td>\n",
       "      <td>4.7</td>\n",
       "      <td>3.2</td>\n",
       "      <td>1.3</td>\n",
       "      <td>0.2</td>\n",
       "      <td>Iris-setosa</td>\n",
       "    </tr>\n",
       "    <tr>\n",
       "      <th>3</th>\n",
       "      <td>4</td>\n",
       "      <td>4.6</td>\n",
       "      <td>3.1</td>\n",
       "      <td>1.5</td>\n",
       "      <td>0.2</td>\n",
       "      <td>Iris-setosa</td>\n",
       "    </tr>\n",
       "    <tr>\n",
       "      <th>4</th>\n",
       "      <td>5</td>\n",
       "      <td>5.0</td>\n",
       "      <td>3.6</td>\n",
       "      <td>1.4</td>\n",
       "      <td>0.2</td>\n",
       "      <td>Iris-setosa</td>\n",
       "    </tr>\n",
       "  </tbody>\n",
       "</table>\n",
       "</div>"
      ],
      "text/plain": [
       "   Id  SepalLengthCm  SepalWidthCm  PetalLengthCm  PetalWidthCm      Species\n",
       "0   1            5.1           3.5            1.4           0.2  Iris-setosa\n",
       "1   2            4.9           3.0            1.4           0.2  Iris-setosa\n",
       "2   3            4.7           3.2            1.3           0.2  Iris-setosa\n",
       "3   4            4.6           3.1            1.5           0.2  Iris-setosa\n",
       "4   5            5.0           3.6            1.4           0.2  Iris-setosa"
      ]
     },
     "execution_count": 2,
     "metadata": {},
     "output_type": "execute_result"
    }
   ],
   "source": [
    "df = pd.read_csv(\"iris.csv\")\n",
    "df.head()"
   ]
  },
  {
   "cell_type": "markdown",
   "metadata": {},
   "source": [
    "#There is a id column, I will drop it right,becuse the ID, column\n",
    "is meaningless for maching learning, it does not affect what the\n",
    "y column is and negatively affects the performance of our models."
   ]
  },
  {
   "cell_type": "code",
   "execution_count": 3,
   "metadata": {},
   "outputs": [
    {
     "data": {
      "text/html": [
       "<div>\n",
       "<style scoped>\n",
       "    .dataframe tbody tr th:only-of-type {\n",
       "        vertical-align: middle;\n",
       "    }\n",
       "\n",
       "    .dataframe tbody tr th {\n",
       "        vertical-align: top;\n",
       "    }\n",
       "\n",
       "    .dataframe thead th {\n",
       "        text-align: right;\n",
       "    }\n",
       "</style>\n",
       "<table border=\"1\" class=\"dataframe\">\n",
       "  <thead>\n",
       "    <tr style=\"text-align: right;\">\n",
       "      <th></th>\n",
       "      <th>SepalLengthCm</th>\n",
       "      <th>SepalWidthCm</th>\n",
       "      <th>PetalLengthCm</th>\n",
       "      <th>PetalWidthCm</th>\n",
       "      <th>Species</th>\n",
       "    </tr>\n",
       "  </thead>\n",
       "  <tbody>\n",
       "    <tr>\n",
       "      <th>0</th>\n",
       "      <td>5.1</td>\n",
       "      <td>3.5</td>\n",
       "      <td>1.4</td>\n",
       "      <td>0.2</td>\n",
       "      <td>Iris-setosa</td>\n",
       "    </tr>\n",
       "    <tr>\n",
       "      <th>1</th>\n",
       "      <td>4.9</td>\n",
       "      <td>3.0</td>\n",
       "      <td>1.4</td>\n",
       "      <td>0.2</td>\n",
       "      <td>Iris-setosa</td>\n",
       "    </tr>\n",
       "    <tr>\n",
       "      <th>2</th>\n",
       "      <td>4.7</td>\n",
       "      <td>3.2</td>\n",
       "      <td>1.3</td>\n",
       "      <td>0.2</td>\n",
       "      <td>Iris-setosa</td>\n",
       "    </tr>\n",
       "    <tr>\n",
       "      <th>3</th>\n",
       "      <td>4.6</td>\n",
       "      <td>3.1</td>\n",
       "      <td>1.5</td>\n",
       "      <td>0.2</td>\n",
       "      <td>Iris-setosa</td>\n",
       "    </tr>\n",
       "    <tr>\n",
       "      <th>4</th>\n",
       "      <td>5.0</td>\n",
       "      <td>3.6</td>\n",
       "      <td>1.4</td>\n",
       "      <td>0.2</td>\n",
       "      <td>Iris-setosa</td>\n",
       "    </tr>\n",
       "  </tbody>\n",
       "</table>\n",
       "</div>"
      ],
      "text/plain": [
       "   SepalLengthCm  SepalWidthCm  PetalLengthCm  PetalWidthCm      Species\n",
       "0            5.1           3.5            1.4           0.2  Iris-setosa\n",
       "1            4.9           3.0            1.4           0.2  Iris-setosa\n",
       "2            4.7           3.2            1.3           0.2  Iris-setosa\n",
       "3            4.6           3.1            1.5           0.2  Iris-setosa\n",
       "4            5.0           3.6            1.4           0.2  Iris-setosa"
      ]
     },
     "execution_count": 3,
     "metadata": {},
     "output_type": "execute_result"
    }
   ],
   "source": [
    "df = df.drop('Id', axis=1)\n",
    "df.head()"
   ]
  },
  {
   "cell_type": "markdown",
   "metadata": {},
   "source": [
    "# Now it is better"
   ]
  },
  {
   "cell_type": "code",
   "execution_count": 4,
   "metadata": {},
   "outputs": [
    {
     "data": {
      "text/plain": [
       "SepalLengthCm    0\n",
       "SepalWidthCm     0\n",
       "PetalLengthCm    0\n",
       "PetalWidthCm     0\n",
       "Species          0\n",
       "dtype: int64"
      ]
     },
     "execution_count": 4,
     "metadata": {},
     "output_type": "execute_result"
    }
   ],
   "source": [
    "df.isnull().sum()"
   ]
  },
  {
   "cell_type": "code",
   "execution_count": 5,
   "metadata": {},
   "outputs": [
    {
     "name": "stdout",
     "output_type": "stream",
     "text": [
      "<class 'pandas.core.frame.DataFrame'>\n",
      "RangeIndex: 150 entries, 0 to 149\n",
      "Data columns (total 5 columns):\n",
      " #   Column         Non-Null Count  Dtype  \n",
      "---  ------         --------------  -----  \n",
      " 0   SepalLengthCm  150 non-null    float64\n",
      " 1   SepalWidthCm   150 non-null    float64\n",
      " 2   PetalLengthCm  150 non-null    float64\n",
      " 3   PetalWidthCm   150 non-null    float64\n",
      " 4   Species        150 non-null    object \n",
      "dtypes: float64(4), object(1)\n",
      "memory usage: 6.0+ KB\n"
     ]
    }
   ],
   "source": [
    "df.info()"
   ]
  },
  {
   "cell_type": "markdown",
   "metadata": {},
   "source": [
    "df's type is'Data Frame' as it should be and df has 150 columns.\n",
    "When the 'ID' Columns is dropped, all  columns will be of float type."
   ]
  },
  {
   "cell_type": "code",
   "execution_count": 6,
   "metadata": {},
   "outputs": [
    {
     "data": {
      "text/plain": [
       "Iris-versicolor    50\n",
       "Iris-setosa        50\n",
       "Iris-virginica     50\n",
       "Name: Species, dtype: int64"
      ]
     },
     "execution_count": 6,
     "metadata": {},
     "output_type": "execute_result"
    }
   ],
   "source": [
    "# HOW MANY kinds of Data are in column y, and now many of each \n",
    "#kind? let's see that.\n",
    "\n",
    "df['Species'].value_counts()"
   ]
  },
  {
   "cell_type": "markdown",
   "metadata": {},
   "source": [
    "#There are 3 kinds of species, and each kind is 50 pcs."
   ]
  },
  {
   "cell_type": "code",
   "execution_count": 7,
   "metadata": {},
   "outputs": [
    {
     "data": {
      "image/png": "[encoded data removed]",
      "text/plain": [
       "<Figure size 576x432 with 1 Axes>"
      ]
     },
     "metadata": {},
     "output_type": "display_data"
    }
   ],
   "source": [
    "# let's show what we see above with a bar graph.\n",
    "\n",
    "plt.figure(figsize = (8,6), facecolor='#9DF08E')\n",
    "plt.bar(df['Species'].unique(), df['Species'].value_counts(), color='b')\n",
    "plt.title('Iris kinds')\n",
    "plt.xlabel('Names')\n",
    "plt.ylabel('Numbers')\n",
    "plt.show()"
   ]
  },
  {
   "cell_type": "markdown",
   "metadata": {},
   "source": [
    "#Overall, the data distribution is very clean."
   ]
  },
  {
   "cell_type": "code",
   "execution_count": 8,
   "metadata": {},
   "outputs": [
    {
     "data": {
      "text/html": [
       "<div>\n",
       "<style scoped>\n",
       "    .dataframe tbody tr th:only-of-type {\n",
       "        vertical-align: middle;\n",
       "    }\n",
       "\n",
       "    .dataframe tbody tr th {\n",
       "        vertical-align: top;\n",
       "    }\n",
       "\n",
       "    .dataframe thead th {\n",
       "        text-align: right;\n",
       "    }\n",
       "</style>\n",
       "<table border=\"1\" class=\"dataframe\">\n",
       "  <thead>\n",
       "    <tr style=\"text-align: right;\">\n",
       "      <th></th>\n",
       "      <th>SepalLengthCm</th>\n",
       "      <th>SepalWidthCm</th>\n",
       "      <th>PetalLengthCm</th>\n",
       "      <th>PetalWidthCm</th>\n",
       "    </tr>\n",
       "  </thead>\n",
       "  <tbody>\n",
       "    <tr>\n",
       "      <th>count</th>\n",
       "      <td>150.000000</td>\n",
       "      <td>150.000000</td>\n",
       "      <td>150.000000</td>\n",
       "      <td>150.000000</td>\n",
       "    </tr>\n",
       "    <tr>\n",
       "      <th>mean</th>\n",
       "      <td>5.843333</td>\n",
       "      <td>3.054000</td>\n",
       "      <td>3.758667</td>\n",
       "      <td>1.198667</td>\n",
       "    </tr>\n",
       "    <tr>\n",
       "      <th>std</th>\n",
       "      <td>0.828066</td>\n",
       "      <td>0.433594</td>\n",
       "      <td>1.764420</td>\n",
       "      <td>0.763161</td>\n",
       "    </tr>\n",
       "    <tr>\n",
       "      <th>min</th>\n",
       "      <td>4.300000</td>\n",
       "      <td>2.000000</td>\n",
       "      <td>1.000000</td>\n",
       "      <td>0.100000</td>\n",
       "    </tr>\n",
       "    <tr>\n",
       "      <th>25%</th>\n",
       "      <td>5.100000</td>\n",
       "      <td>2.800000</td>\n",
       "      <td>1.600000</td>\n",
       "      <td>0.300000</td>\n",
       "    </tr>\n",
       "    <tr>\n",
       "      <th>50%</th>\n",
       "      <td>5.800000</td>\n",
       "      <td>3.000000</td>\n",
       "      <td>4.350000</td>\n",
       "      <td>1.300000</td>\n",
       "    </tr>\n",
       "    <tr>\n",
       "      <th>75%</th>\n",
       "      <td>6.400000</td>\n",
       "      <td>3.300000</td>\n",
       "      <td>5.100000</td>\n",
       "      <td>1.800000</td>\n",
       "    </tr>\n",
       "    <tr>\n",
       "      <th>max</th>\n",
       "      <td>7.900000</td>\n",
       "      <td>4.400000</td>\n",
       "      <td>6.900000</td>\n",
       "      <td>2.500000</td>\n",
       "    </tr>\n",
       "  </tbody>\n",
       "</table>\n",
       "</div>"
      ],
      "text/plain": [
       "       SepalLengthCm  SepalWidthCm  PetalLengthCm  PetalWidthCm\n",
       "count     150.000000    150.000000     150.000000    150.000000\n",
       "mean        5.843333      3.054000       3.758667      1.198667\n",
       "std         0.828066      0.433594       1.764420      0.763161\n",
       "min         4.300000      2.000000       1.000000      0.100000\n",
       "25%         5.100000      2.800000       1.600000      0.300000\n",
       "50%         5.800000      3.000000       4.350000      1.300000\n",
       "75%         6.400000      3.300000       5.100000      1.800000\n",
       "max         7.900000      4.400000       6.900000      2.500000"
      ]
     },
     "execution_count": 8,
     "metadata": {},
     "output_type": "execute_result"
    }
   ],
   "source": [
    "df.describe()"
   ]
  },
  {
   "cell_type": "code",
   "execution_count": 9,
   "metadata": {},
   "outputs": [
    {
     "data": {
      "text/html": [
       "<div>\n",
       "<style scoped>\n",
       "    .dataframe tbody tr th:only-of-type {\n",
       "        vertical-align: middle;\n",
       "    }\n",
       "\n",
       "    .dataframe tbody tr th {\n",
       "        vertical-align: top;\n",
       "    }\n",
       "\n",
       "    .dataframe thead th {\n",
       "        text-align: right;\n",
       "    }\n",
       "</style>\n",
       "<table border=\"1\" class=\"dataframe\">\n",
       "  <thead>\n",
       "    <tr style=\"text-align: right;\">\n",
       "      <th></th>\n",
       "      <th>SepalLengthCm</th>\n",
       "      <th>SepalWidthCm</th>\n",
       "      <th>PetalLengthCm</th>\n",
       "      <th>PetalWidthCm</th>\n",
       "    </tr>\n",
       "  </thead>\n",
       "  <tbody>\n",
       "    <tr>\n",
       "      <th>SepalLengthCm</th>\n",
       "      <td>1.000000</td>\n",
       "      <td>-0.109369</td>\n",
       "      <td>0.871754</td>\n",
       "      <td>0.817954</td>\n",
       "    </tr>\n",
       "    <tr>\n",
       "      <th>SepalWidthCm</th>\n",
       "      <td>-0.109369</td>\n",
       "      <td>1.000000</td>\n",
       "      <td>-0.420516</td>\n",
       "      <td>-0.356544</td>\n",
       "    </tr>\n",
       "    <tr>\n",
       "      <th>PetalLengthCm</th>\n",
       "      <td>0.871754</td>\n",
       "      <td>-0.420516</td>\n",
       "      <td>1.000000</td>\n",
       "      <td>0.962757</td>\n",
       "    </tr>\n",
       "    <tr>\n",
       "      <th>PetalWidthCm</th>\n",
       "      <td>0.817954</td>\n",
       "      <td>-0.356544</td>\n",
       "      <td>0.962757</td>\n",
       "      <td>1.000000</td>\n",
       "    </tr>\n",
       "  </tbody>\n",
       "</table>\n",
       "</div>"
      ],
      "text/plain": [
       "               SepalLengthCm  SepalWidthCm  PetalLengthCm  PetalWidthCm\n",
       "SepalLengthCm       1.000000     -0.109369       0.871754      0.817954\n",
       "SepalWidthCm       -0.109369      1.000000      -0.420516     -0.356544\n",
       "PetalLengthCm       0.871754     -0.420516       1.000000      0.962757\n",
       "PetalWidthCm        0.817954     -0.356544       0.962757      1.000000"
      ]
     },
     "execution_count": 9,
     "metadata": {},
     "output_type": "execute_result"
    }
   ],
   "source": [
    "df.corr()"
   ]
  },
  {
   "cell_type": "code",
   "execution_count": 10,
   "metadata": {},
   "outputs": [
    {
     "data": {
      "image/png": "[encoded data removed]",
      "text/plain": [
       "<Figure size 864x576 with 2 Axes>"
      ]
     },
     "metadata": {
      "needs_background": "light"
     },
     "output_type": "display_data"
    }
   ],
   "source": [
    "cor = df.corr()\n",
    "plt.figure(figsize=(12,8))\n",
    "sns.heatmap(data = cor, annot = True, cmap = plt.cm.YlGn)\n",
    "plt.show()"
   ]
  },
  {
   "cell_type": "markdown",
   "metadata": {},
   "source": [
    " The highest correlation is between petal Length Cm and Petal\n",
    "WidthCm with a value of 0.96\n",
    "\n",
    "Also the coorelation between petalLengthCm - sepalwidthCm is -0.42,\n",
    "meaning that as one increases, the other decreases, and vice versa."
   ]
  },
  {
   "cell_type": "markdown",
   "metadata": {},
   "source": [
    "# Creating Models"
   ]
  },
  {
   "cell_type": "code",
   "execution_count": 11,
   "metadata": {},
   "outputs": [],
   "source": [
    "# x and y assignment \n",
    "X = df.iloc[:,0:4]\n",
    "y = df.iloc[:,4:]\n"
   ]
  },
  {
   "cell_type": "code",
   "execution_count": 12,
   "metadata": {},
   "outputs": [
    {
     "data": {
      "text/html": [
       "<div>\n",
       "<style scoped>\n",
       "    .dataframe tbody tr th:only-of-type {\n",
       "        vertical-align: middle;\n",
       "    }\n",
       "\n",
       "    .dataframe tbody tr th {\n",
       "        vertical-align: top;\n",
       "    }\n",
       "\n",
       "    .dataframe thead th {\n",
       "        text-align: right;\n",
       "    }\n",
       "</style>\n",
       "<table border=\"1\" class=\"dataframe\">\n",
       "  <thead>\n",
       "    <tr style=\"text-align: right;\">\n",
       "      <th></th>\n",
       "      <th>SepalLengthCm</th>\n",
       "      <th>SepalWidthCm</th>\n",
       "      <th>PetalLengthCm</th>\n",
       "      <th>PetalWidthCm</th>\n",
       "    </tr>\n",
       "  </thead>\n",
       "  <tbody>\n",
       "    <tr>\n",
       "      <th>0</th>\n",
       "      <td>5.1</td>\n",
       "      <td>3.5</td>\n",
       "      <td>1.4</td>\n",
       "      <td>0.2</td>\n",
       "    </tr>\n",
       "    <tr>\n",
       "      <th>1</th>\n",
       "      <td>4.9</td>\n",
       "      <td>3.0</td>\n",
       "      <td>1.4</td>\n",
       "      <td>0.2</td>\n",
       "    </tr>\n",
       "    <tr>\n",
       "      <th>2</th>\n",
       "      <td>4.7</td>\n",
       "      <td>3.2</td>\n",
       "      <td>1.3</td>\n",
       "      <td>0.2</td>\n",
       "    </tr>\n",
       "  </tbody>\n",
       "</table>\n",
       "</div>"
      ],
      "text/plain": [
       "   SepalLengthCm  SepalWidthCm  PetalLengthCm  PetalWidthCm\n",
       "0            5.1           3.5            1.4           0.2\n",
       "1            4.9           3.0            1.4           0.2\n",
       "2            4.7           3.2            1.3           0.2"
      ]
     },
     "execution_count": 12,
     "metadata": {},
     "output_type": "execute_result"
    }
   ],
   "source": [
    "# Let's see how x and y look\n",
    "\n",
    "X.head(3)"
   ]
  },
  {
   "cell_type": "code",
   "execution_count": 13,
   "metadata": {},
   "outputs": [
    {
     "data": {
      "text/html": [
       "<div>\n",
       "<style scoped>\n",
       "    .dataframe tbody tr th:only-of-type {\n",
       "        vertical-align: middle;\n",
       "    }\n",
       "\n",
       "    .dataframe tbody tr th {\n",
       "        vertical-align: top;\n",
       "    }\n",
       "\n",
       "    .dataframe thead th {\n",
       "        text-align: right;\n",
       "    }\n",
       "</style>\n",
       "<table border=\"1\" class=\"dataframe\">\n",
       "  <thead>\n",
       "    <tr style=\"text-align: right;\">\n",
       "      <th></th>\n",
       "      <th>Species</th>\n",
       "    </tr>\n",
       "  </thead>\n",
       "  <tbody>\n",
       "    <tr>\n",
       "      <th>0</th>\n",
       "      <td>Iris-setosa</td>\n",
       "    </tr>\n",
       "    <tr>\n",
       "      <th>1</th>\n",
       "      <td>Iris-setosa</td>\n",
       "    </tr>\n",
       "    <tr>\n",
       "      <th>2</th>\n",
       "      <td>Iris-setosa</td>\n",
       "    </tr>\n",
       "  </tbody>\n",
       "</table>\n",
       "</div>"
      ],
      "text/plain": [
       "       Species\n",
       "0  Iris-setosa\n",
       "1  Iris-setosa\n",
       "2  Iris-setosa"
      ]
     },
     "execution_count": 13,
     "metadata": {},
     "output_type": "execute_result"
    }
   ],
   "source": [
    "y.head(3)"
   ]
  },
  {
   "cell_type": "markdown",
   "metadata": {},
   "source": [
    "#They are as they should be, nice."
   ]
  },
  {
   "cell_type": "code",
   "execution_count": 14,
   "metadata": {},
   "outputs": [],
   "source": [
    "## spliting the data Set into Independent Variables and Dependent Variables.\n",
    "from sklearn.model_selection import train_test_split\n",
    "X_train, x_test,y_train,y_test = train_test_split(X,y,test_size=0.33, random_state=8)"
   ]
  },
  {
   "cell_type": "markdown",
   "metadata": {},
   "source": [
    "# Classification Algorithms\n"
   ]
  },
  {
   "cell_type": "markdown",
   "metadata": {},
   "source": [
    "# Logistic Regression"
   ]
  },
  {
   "cell_type": "code",
   "execution_count": 15,
   "metadata": {},
   "outputs": [
    {
     "data": {
      "image/png": "[encoded data removed]",
      "text/plain": [
       "<Figure size 432x288 with 2 Axes>"
      ]
     },
     "metadata": {
      "needs_background": "light"
     },
     "output_type": "display_data"
    }
   ],
   "source": [
    "from sklearn.linear_model import LogisticRegression\n",
    "logr = LogisticRegression(random_state=8)\n",
    "logr.fit(X_train,y_train)\n",
    "\n",
    "y_pred = logr.predict(x_test)\n",
    "\n",
    "\n",
    "# confusion matrix and accuracy score\n",
    "accuracy_score_logr = accuracy_score(y_test,y_pred,3)\n",
    "cm_logr = confusion_matrix(y_test,y_pred)\n",
    "sns.heatmap(cm_logr, annot=True,fmt=\".0f\",linewidths=3,square=True, cmap='Blues',color=\"#cd1076\")\n",
    "plt.ylabel('actual label')\n",
    "plt.xlabel('predicted label')\n",
    "plt.title(f'accuracy score: {accuracy_score_logr}',size=12,color='red')\n",
    "plt.show()"
   ]
  },
  {
   "cell_type": "markdown",
   "metadata": {},
   "source": [
    "# KNN (k Neighbors Classifier)"
   ]
  },
  {
   "cell_type": "code",
   "execution_count": 16,
   "metadata": {},
   "outputs": [
    {
     "data": {
      "image/png": "[encoded data removed]",
      "text/plain": [
       "<Figure size 432x288 with 2 Axes>"
      ]
     },
     "metadata": {
      "needs_background": "light"
     },
     "output_type": "display_data"
    }
   ],
   "source": [
    "from sklearn.neighbors import KNeighborsClassifier\n",
    "\n",
    "knn = KNeighborsClassifier(n_neighbors=10, metric = 'minkowski')\n",
    "knn.fit(X_train,y_train)\n",
    "\n",
    "y_pred = knn.predict(x_test)\n",
    "\n",
    "\n",
    "# confusion matrix and accuracy score\n",
    "accuracy_score_knn = accuracy_score(y_test,y_pred,3)\n",
    "cm_knn = confusion_matrix(y_test,y_pred)\n",
    "sns.heatmap(cm_knn, annot=True,fmt=\".0f\",linewidths=3,square=True, cmap='Blues',color=\"#cd1076\")\n",
    "plt.ylabel('actual label')\n",
    "plt.xlabel('predicted label')\n",
    "plt.title(f'accuracy score: {accuracy_score_knn}',size=12,color='red')\n",
    "plt.show()\n"
   ]
  },
  {
   "cell_type": "markdown",
   "metadata": {},
   "source": [
    "# SVC (Support Vector Classification- SVM Classifier)"
   ]
  },
  {
   "cell_type": "code",
   "execution_count": 17,
   "metadata": {
    "scrolled": true
   },
   "outputs": [
    {
     "data": {
      "image/png": "[encoded data removed]",
      "text/plain": [
       "<Figure size 432x288 with 2 Axes>"
      ]
     },
     "metadata": {
      "needs_background": "light"
     },
     "output_type": "display_data"
    }
   ],
   "source": [
    "from sklearn.svm import SVC\n",
    "\n",
    "svc = SVC(kernel = 'rbf', probability=True)\n",
    "svc.fit(X_train,y_train)\n",
    "\n",
    "y_pred = svc.predict(x_test)\n",
    "\n",
    "\n",
    "# confusion matrix and accuracy score\n",
    "accuracy_score_svc = accuracy_score(y_test,y_pred,3)\n",
    "cm_svc = confusion_matrix(y_test,y_pred)\n",
    "sns.heatmap(cm_svc, annot=True,fmt=\".0f\",linewidths=3,square=True, cmap='Blues',color=\"#cd1076\")\n",
    "plt.ylabel('actual label')\n",
    "plt.xlabel('predicted label')\n",
    "plt.title(f'accuracy score: {accuracy_score_svc}',size=12,color='red')\n",
    "plt.show()"
   ]
  },
  {
   "cell_type": "markdown",
   "metadata": {},
   "source": [
    "I didn't use 'sigmoid' as kernal Function because 'sigmoid' return\n",
    "1 or 0 so it makes sence to use sigmoid when column y has 2 kinds\n",
    "whereas column y has 3 kinds of data Among the remaining\n",
    "possibilities,'ploy'and 'rbf'made sense, I tried the and 'rbf'\n",
    "gave beter performance, therefore i chose 'rbf'."
   ]
  },
  {
   "cell_type": "markdown",
   "metadata": {},
   "source": [
    "# Naive Bayes"
   ]
  },
  {
   "cell_type": "code",
   "execution_count": 18,
   "metadata": {
    "scrolled": false
   },
   "outputs": [
    {
     "data": {
      "image/png": "[encoded data removed]",
      "text/plain": [
       "<Figure size 432x288 with 2 Axes>"
      ]
     },
     "metadata": {
      "needs_background": "light"
     },
     "output_type": "display_data"
    }
   ],
   "source": [
    "from sklearn.naive_bayes import MultinomialNB\n",
    "\n",
    "mnb = MultinomialNB()\n",
    "mnb.fit(X_train,y_train)\n",
    "\n",
    "y_pred = mnb.predict(x_test)\n",
    "\n",
    "\n",
    "# confusion matrix and accuracy score\n",
    "accuracy_score_mnb = accuracy_score(y_test,y_pred,3)\n",
    "cm_mnb = confusion_matrix(y_test,y_pred)\n",
    "sns.heatmap(cm_mnb, annot=True,fmt=\".0f\",linewidths=3,square=True, cmap=\"Blues\", color=\"#cd1076\")\n",
    "plt.ylabel('actual label')\n",
    "plt.xlabel('predicted label')\n",
    "plt.title(f'accuracy score: {accuracy_score_mnb}',size=12,color='red')\n",
    "plt.show()\n"
   ]
  },
  {
   "cell_type": "markdown",
   "metadata": {},
   "source": [
    "why is Multinomial Naive Bayes suitable for this data set?\n",
    "\n",
    "if te column is to predected is binomial, ie binary, ie 1 or 0, 'Bernoulli Naive Bayes'\n",
    "is using . i did not use 'Bernoulli'as the y columns in this \n",
    "dataset is not binomial.(Similar to not using sigmoid in the svr just before)\n",
    "\n",
    "if the column to be predective consiste of contunious numbers, that is,\n",
    "if it consists of real numbers, 'Gaussian Naive Bayes' is used.\n",
    "However in dataset,column y consists of srings, not real numbers.\n",
    "That's why i didn't use Gaussan Naivw Bayes;\n",
    "\n",
    "id the column to be preducted consista of normal's data, Multinomial\n",
    "Naive Bayes' is used. In suitable with this kind of naive Bayes, column\n",
    "y in this data set consists of normal data. That's why i used\n",
    "\"Multinomial Naive Bayes\".\n"
   ]
  },
  {
   "cell_type": "markdown",
   "metadata": {},
   "source": [
    "# Decision Tree"
   ]
  },
  {
   "cell_type": "code",
   "execution_count": 19,
   "metadata": {},
   "outputs": [
    {
     "data": {
      "image/png": "[encoded data removed]",
      "text/plain": [
       "<Figure size 432x288 with 2 Axes>"
      ]
     },
     "metadata": {
      "needs_background": "light"
     },
     "output_type": "display_data"
    }
   ],
   "source": [
    "from sklearn.tree import DecisionTreeClassifier\n",
    "\n",
    "dtc = DecisionTreeClassifier(criterion = 'entropy')\n",
    "dtc.fit(X_train,y_train)\n",
    "\n",
    "y_pred = dtc.predict(x_test)\n",
    "\n",
    "\n",
    "# confusion marix and accuracy score\n",
    "accuracy_score_dtc = accuracy_score(y_test,y_pred,3)\n",
    "cm_dtc = confusion_matrix(y_test,y_pred)\n",
    "sns.heatmap(cm_dtc, annot=True,fmt=\".0f\",linewidths=3, square=True,\n",
    "cmap='Blues', color='#cd1076')\n",
    "plt.ylabel('actual label')\n",
    "plt.xlabel('predicted label')\n",
    "plt.title(f'accuracy score: {accuracy_score_dtc}', size=12,color='red')\n",
    "plt.show()          "
   ]
  },
  {
   "cell_type": "markdown",
   "metadata": {},
   "source": [
    "# Random forest"
   ]
  },
  {
   "cell_type": "code",
   "execution_count": 20,
   "metadata": {},
   "outputs": [
    {
     "data": {
      "image/png": "[encoded data removed]",
      "text/plain": [
       "<Figure size 432x288 with 2 Axes>"
      ]
     },
     "metadata": {
      "needs_background": "light"
     },
     "output_type": "display_data"
    }
   ],
   "source": [
    "from sklearn.ensemble import RandomForestClassifier\n",
    "\n",
    "rfc = RandomForestClassifier(n_estimators = 9, criterion = 'entropy')\n",
    "rfc.fit(X_train,y_train)\n",
    "\n",
    "y_pred = rfc.predict(x_test)\n",
    "\n",
    "\n",
    "# confusion matrix and accuracy score\n",
    "accuracy_score_rfc = accuracy_score(y_test,y_pred,3)\n",
    "cm_rfc = confusion_matrix(y_test,y_pred)\n",
    "sns.heatmap(cm_rfc, annot=True,fmt=\".0f\",linewidths=3,square=True, cmap='Blues',color='#cd1076')\n",
    "plt.ylabel('actual label')\n",
    "plt.xlabel('predicted label')\n",
    "plt.title(f'accuracy score: {accuracy_score_rfc}',size=12,color='red')\n",
    "plt.show()"
   ]
  },
  {
   "cell_type": "markdown",
   "metadata": {},
   "source": [
    "# Evaluating Models"
   ]
  },
  {
   "cell_type": "markdown",
   "metadata": {},
   "source": [
    "first of all I would like to say that since the data set is balanced,\n",
    "I will use Accuracy Score; not F1 Score' when comparing models.\n",
    "if the data set was imbalanced i would use 'F1 Score'."
   ]
  },
  {
   "cell_type": "markdown",
   "metadata": {},
   "source": [
    "# cunfusion Matrix"
   ]
  },
  {
   "cell_type": "code",
   "execution_count": 21,
   "metadata": {},
   "outputs": [
    {
     "name": "stdout",
     "output_type": "stream",
     "text": [
      "\u001b[93m--CONFUSION MATRICS --\n",
      "\u001b[0m\n",
      "Logistic Regression    \n",
      "[[18  0  0]\n",
      " [ 0 15  1]\n",
      " [ 0  2 14]]\n",
      "\n",
      "KNN-K Nearest Neighbors /n [[18  0  0]\n",
      " [ 0 16  0]\n",
      " [ 0  1 15]]\n",
      "\n",
      "SVC-Support Vector Classifier\n",
      "[[18  0  0]\n",
      " [ 0 16  0]\n",
      " [ 0  2 14]]\n",
      "\n",
      "Multinomial Naive Bayes   \n",
      "[[18  0  0]\n",
      " [ 0 15  1]\n",
      " [ 0  1 15]]\n",
      "\n",
      "Decision Tree Classifier   \n",
      "[[18  0  0]\n",
      " [ 0 15  1]\n",
      " [ 0  3 13]]\n",
      "\n",
      "Random Forest Classifier    \n",
      "[[18  0  0]\n",
      " [ 0 15  1]\n",
      " [ 0  3 13]]\n",
      "\n"
     ]
    }
   ],
   "source": [
    "print('\\033[93m' + '--CONFUSION MATRICS --\\n' + '\\033[0m')\n",
    "\n",
    "print(f'Logistic Regression    \\n{cm_logr}\\n')\n",
    "print(f'KNN-K Nearest Neighbors /n {cm_knn}\\n')\n",
    "print(f'SVC-Support Vector Classifier\\n{cm_svc}\\n')\n",
    "print(f'Multinomial Naive Bayes   \\n{cm_mnb}\\n')\n",
    "print(f'Decision Tree Classifier   \\n{cm_dtc}\\n')\n",
    "print(f'Random Forest Classifier    \\n{cm_rfc}\\n')"
   ]
  },
  {
   "cell_type": "markdown",
   "metadata": {},
   "source": [
    "# Accuracy Scores"
   ]
  },
  {
   "cell_type": "code",
   "execution_count": 22,
   "metadata": {},
   "outputs": [
    {
     "name": "stdout",
     "output_type": "stream",
     "text": [
      "                         ALGORİTHM  ACCURACY SCORE\n",
      "0              Logistic Regression            0.94\n",
      "1        KNN - K Nearest Neighbors            0.98\n",
      "2  SVC - Support Vector Classifier            0.96\n",
      "3          Multinomial Naive Bayes            0.96\n",
      "4         Decision Tree Classifier            0.92\n",
      "5         Random Forest Classifier            0.92\n"
     ]
    }
   ],
   "source": [
    "# Let's create a data frame and show scores.\n",
    "\n",
    "NamesOfAlgorithms_df = pd.DataFrame(['Logistic Regression','KNN - K Nearest Neighbors','SVC - Support Vector Classifier','Multinomial Naive Bayes','Decision Tree Classifier','Random Forest Classifier'])\n",
    "AcScoresOfAlgorithms_df = pd.DataFrame([accuracy_score_logr,accuracy_score_knn,accuracy_score_svc,accuracy_score_mnb,accuracy_score_dtc,accuracy_score_rfc])\n",
    "\n",
    "df3 = pd.concat([NamesOfAlgorithms_df,AcScoresOfAlgorithms_df],axis=1)\n",
    "df3.columns=['ALGORİTHM','ACCURACY SCORE',]\n",
    "\n",
    "print(df3)"
   ]
  },
  {
   "cell_type": "markdown",
   "metadata": {},
   "source": [
    "KNN has the highest accuracy socore."
   ]
  },
  {
   "cell_type": "code",
   "execution_count": 23,
   "metadata": {},
   "outputs": [
    {
     "name": "stdout",
     "output_type": "stream",
     "text": [
      "\u001b[1mNumber of predictions of all algorithms: 50\n",
      "\u001b[0m\n",
      "\u001b[4mLogistic Regression\u001b[0m\n",
      "True Predicts: 47\n",
      "True Predicts Ratio: 0.94 \n",
      "\n",
      "\u001b[4mKNN\u001b[0m\n",
      "True Predicts: 49\n",
      "True Predicts Ratio: 0.98 \n",
      "\n",
      "\u001b[4mSVC\u001b[0m\n",
      "True Predicts: 48\n",
      "True Predicts Ratio: 0.96 \n",
      "\n",
      "\u001b[4mNaive Bayes\u001b[0m\n",
      "True Predicts: 48\n",
      "True Predicts Ratio: 0.96 \n",
      "\n",
      "\u001b[4mDecision Tree\u001b[0m\n",
      "True Predicts: 46\n",
      "True Predicts Ratio: 0.92 \n",
      "\n",
      "\u001b[4mRandom Forest\u001b[0m\n",
      "True Predicts: 46\n",
      "True Predicts Ratio: 0.92\n"
     ]
    }
   ],
   "source": [
    "# To better understand the Accuracy score, let's calculate it manually.\n",
    "# Accuracy Score = (TP + TN) / (TP + TN + FN + FP)  \n",
    "#                = (Sum of Main Diagonal Values) / (Sum of All Matrix Values)\n",
    "\n",
    "print('\\033[1m' + 'Number of predictions of all algorithms: 50\\n' + '\\033[0m')\n",
    "\n",
    "truePredictsNumber_logr = cm_logr[0][0] + cm_logr[1][1] + cm_logr[2][2]\n",
    "print('\\033[4m' + 'Logistic Regression' + '\\033[0m')\n",
    "print(f'True Predicts: {truePredictsNumber_logr}')\n",
    "print(f'True Predicts Ratio: {truePredictsNumber_logr/50:.2f} \\n')\n",
    "\n",
    "truePredictsNumber_knn = cm_knn[0][0] + cm_knn[1][1] + cm_knn[2][2]\n",
    "print('\\033[4m' + 'KNN' + '\\033[0m')\n",
    "print(f'True Predicts: {truePredictsNumber_knn}')\n",
    "print(f'True Predicts Ratio: {truePredictsNumber_knn/50:.2f} \\n')\n",
    "\n",
    "truePredictsNumber_svc = cm_svc[0][0] + cm_svc[1][1] + cm_svc[2][2]\n",
    "print('\\033[4m' + 'SVC' + '\\033[0m')\n",
    "print(f'True Predicts: {truePredictsNumber_svc}')\n",
    "print(f'True Predicts Ratio: {truePredictsNumber_svc/50:.2f} \\n')\n",
    "\n",
    "truePredictsNumber_mnb = cm_mnb[0][0] + cm_mnb[1][1] + cm_mnb[2][2]\n",
    "print('\\033[4m' + 'Naive Bayes' + '\\033[0m')\n",
    "print(f'True Predicts: {truePredictsNumber_mnb}')\n",
    "print(f'True Predicts Ratio: {truePredictsNumber_mnb/50:.2f} \\n')\n",
    "\n",
    "truePredictsNumber_dtc = cm_dtc[0][0] + cm_dtc[1][1] + cm_dtc[2][2]\n",
    "print('\\033[4m' + 'Decision Tree' + '\\033[0m')\n",
    "print(f'True Predicts: {truePredictsNumber_dtc}')\n",
    "print(f'True Predicts Ratio: {truePredictsNumber_dtc/50:.2f} \\n')\n",
    "\n",
    "truePredictsNumber_rfc = cm_rfc[0][0] + cm_rfc[1][1] + cm_rfc[2][2]\n",
    "print('\\033[4m' + 'Random Forest' + '\\033[0m')\n",
    "print(f'True Predicts: {truePredictsNumber_rfc}')\n",
    "print(f'True Predicts Ratio: {truePredictsNumber_rfc/50:.2f}')"
   ]
  },
  {
   "cell_type": "markdown",
   "metadata": {},
   "source": [
    "Notice that the values we found using the 'accuracy_score' in the 'sklearn library are the same as the values we found manually."
   ]
  },
  {
   "cell_type": "code",
   "execution_count": 24,
   "metadata": {},
   "outputs": [
    {
     "data": {
      "image/png": "[encoded data removed]",
      "text/plain": [
       "<Figure size 864x576 with 1 Axes>"
      ]
     },
     "metadata": {},
     "output_type": "display_data"
    }
   ],
   "source": [
    "# Let's compare the accuracy scores on the bar graph.\n",
    "\n",
    "algorithms_names = np.array(['Logistic Reg.','KNN','SVC','Naive Bayes','Decision Tree','Random Forest'])\n",
    "accuracy_scores = np.array([accuracy_score_logr,accuracy_score_knn,accuracy_score_svc,accuracy_score_mnb,accuracy_score_dtc,accuracy_score_rfc])\n",
    "accuracy_scores = accuracy_scores*100\n",
    "\n",
    "plt.figure(figsize = (12,8),facecolor='#9DF08E')\n",
    "colors_set = ['green','blue','purple','brown','teal','orange']\n",
    "plt.bar(x=algorithms_names, height=accuracy_scores, color = colors_set)\n",
    "plt.title('Accuracy Score Comparision\\n', fontsize=30, color = 'red')\n",
    "plt.xlabel('\\nAlgorithms', fontsize=20)\n",
    "plt.ylabel('Accuracy Score %', fontsize=20)\n",
    "plt.xticks(horizontalalignment='center', fontsize='15')\n",
    "plt.yticks(np.arange(0,101,5),fontsize='15')\n",
    "plt.tight_layout()\n",
    "plt.show()"
   ]
  },
  {
   "cell_type": "markdown",
   "metadata": {},
   "source": [
    "# conclusion "
   ]
  },
  {
   "cell_type": "markdown",
   "metadata": {},
   "source": [
    ". The algorithm with the highest accuracy score in the \n",
    "classification of the iris dataset was KNN.\n",
    "\n",
    "Since the data set is very clean, the score of other algorithms\n",
    "other than KNN was also very hight, maybe some of the could have achive \n",
    "a slighty hght score, But this also affects the cost negatively.\n",
    "For example, in Randome Forest, we can increse the number of n_estimators even more,\n",
    "maybe good result, but if our data set consisted of thousands\n",
    "of row instead of 150 row this would cause the algorithem to work slowly.\n",
    "\n",
    ". This highest correlaton is between petal Length Cm and petal\n",
    "WidthCm with a value of 0.96. Also, the correlation between \n",
    "petalLengthcm - SepalWidthCm is -0.42, meaning that as one increase, the other decreses, and vice versa."
   ]
  },
  {
   "cell_type": "code",
   "execution_count": null,
   "metadata": {},
   "outputs": [],
   "source": []
  }
 ],
 "metadata": {
  "kernelspec": {
   "display_name": "Python 3",
   "language": "python",
   "name": "python3"
  },
  "language_info": {
   "codemirror_mode": {
    "name": "ipython",
    "version": 3
   },
   "file_extension": ".py",
   "mimetype": "text/x-python",
   "name": "python",
   "nbconvert_exporter": "python",
   "pygments_lexer": "ipython3",
   "version": "3.7.6"
  }
 },
 "nbformat": 4,
 "nbformat_minor": 4
}
